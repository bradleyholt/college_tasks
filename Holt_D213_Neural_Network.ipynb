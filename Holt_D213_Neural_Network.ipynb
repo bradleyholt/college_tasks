{
 "cells": [
  {
   "cell_type": "markdown",
   "metadata": {},
   "source": [
    "# Part I: Research Question\n",
    "## A1: Research Question\n",
    "\n",
    "Can we predict customers' opinion of a product using a 5-star system (1 star being most negative, 5 stars being most positive), using written reviews from previous customers?\n",
    "\n",
    "## A2: Objective and Goal of Data Analysis\n",
    "\n",
    "The goal of the data analysis is to attempt to accurately identify what words and words patterns are strongly associated with each rating of the 5-star system. This will allow product developers to better understand the needs and wants of their customers to decide what features to add, retain, or remove from future products.  \n",
    "\n",
    "## A3: Neural Network Identification\n",
    "\n",
    "A type of neural network capable of performing a text classification task is a Recurrent Neural Network(RNN). RNN works by taking sequential data (in this case a written review) and running each piece of the input (each word of the review) through the model. The input loops through each layer of the model with each piece as the input while taking into account the previous inputs already ran through it. RRN works great for text data because the sequence of the data matters when creating output predictions.   "
   ]
  },
  {
   "cell_type": "markdown",
   "metadata": {},
   "source": [
    "# Part II: Data Preparation\n",
    "## B1: Exploratory Data Analysis \n",
    "This section describes the process used for initial data cleaning and preprocessing. The process includes addressing the presence of unusual characters, vocabulary size, word embedding length, and the statistical justification for the chosen maximum sequence length. "
   ]
  },
  {
   "cell_type": "code",
   "execution_count": 125,
   "metadata": {},
   "outputs": [],
   "source": [
    "# Libraries used throughout the task\n",
    "import pandas as pd\n",
    "import numpy as np\n",
    "import gzip\n",
    "import re\n",
    "import matplotlib.pyplot as plt\n",
    "import tensorflow.keras as ks\n",
    "import tensorflow as tf\n",
    "import spacy as sp\n",
    "from sklearn.model_selection import train_test_split\n",
    "from keras.preprocessing.text import Tokenizer\n",
    "from keras.preprocessing.sequence import pad_sequences\n",
    "from keras.utils.np_utils import to_categorical\n",
    "from keras.layers import Embedding, Dense, Dropout, GlobalMaxPool1D\n",
    "from tensorflow.keras import Sequential\n",
    "from tensorflow.keras.optimizers import Adam\n",
    "from keras.callbacks import EarlyStopping\n",
    "from sklearn.metrics import classification_report\n",
    "from sklearn.preprocessing import OneHotEncoder\n"
   ]
  },
  {
   "cell_type": "markdown",
   "metadata": {},
   "source": [
    "### Importing data\n",
    "This script imports the video game review .json file and transforms each portion of the .json into DataFrame columns. The script was borrowed and adjusted from J. McAuley's site at jmcauley.ucsd.edu."
   ]
  },
  {
   "cell_type": "code",
   "execution_count": 2,
   "metadata": {},
   "outputs": [],
   "source": [
    "# Script to import and tranform json formatted data into dataframe\n",
    "def parse(path):\n",
    "  g = gzip.open(\"C:/Users/holtb/Documents/GitHub/D213_Advanced_Data_Analytics/reviews_Video_Games_5.json.gz\", 'rb')\n",
    "  for l in g:\n",
    "    yield eval(l)\n",
    "\n",
    "def getDF(path):\n",
    "  i = 0\n",
    "  df = {}\n",
    "  for d in parse(path):\n",
    "    df[i] = d\n",
    "    i += 1\n",
    "  return pd.DataFrame.from_dict(df, orient='index')\n",
    "\n",
    "df = getDF('reviews_Video_Games.json.gz')"
   ]
  },
  {
   "cell_type": "markdown",
   "metadata": {},
   "source": [
    "### Overview of data\n",
    "In this section, the data was reviewed for length, data types, duplicates, and missing data. Since the model will focus on only the review text as the input and the overall rating, the unused columns were dropped. The data was then checked for duplicate results. There were only 86 duplicates and were found to be one or two-letter reviews. These duplicates will remain in the data since there are relatively few duplicates. A few blank reviews were also found and were removed as they provide no information. Finally, the column, 'overall' was transformed to integer values because they are categorical values. "
   ]
  },
  {
   "cell_type": "code",
   "execution_count": 3,
   "metadata": {},
   "outputs": [
    {
     "name": "stdout",
     "output_type": "stream",
     "text": [
      "<class 'pandas.core.frame.DataFrame'>\n",
      "Int64Index: 231780 entries, 0 to 231779\n",
      "Data columns (total 9 columns):\n",
      " #   Column          Non-Null Count   Dtype  \n",
      "---  ------          --------------   -----  \n",
      " 0   reviewerID      231780 non-null  object \n",
      " 1   asin            231780 non-null  object \n",
      " 2   reviewerName    228967 non-null  object \n",
      " 3   helpful         231780 non-null  object \n",
      " 4   reviewText      231780 non-null  object \n",
      " 5   overall         231780 non-null  float64\n",
      " 6   summary         231780 non-null  object \n",
      " 7   unixReviewTime  231780 non-null  int64  \n",
      " 8   reviewTime      231780 non-null  object \n",
      "dtypes: float64(1), int64(1), object(7)\n",
      "memory usage: 17.7+ MB\n"
     ]
    }
   ],
   "source": [
    "# Review initial data\n",
    "df.info()"
   ]
  },
  {
   "cell_type": "code",
   "execution_count": 4,
   "metadata": {},
   "outputs": [],
   "source": [
    "# Drop unused features\n",
    "data = df.drop(df[['reviewerID', 'reviewerName' ,'asin', 'helpful', 'summary', 'unixReviewTime', 'reviewTime' ]], axis = 1)"
   ]
  },
  {
   "cell_type": "code",
   "execution_count": 5,
   "metadata": {},
   "outputs": [
    {
     "data": {
      "text/html": [
       "<div>\n",
       "<style scoped>\n",
       "    .dataframe tbody tr th:only-of-type {\n",
       "        vertical-align: middle;\n",
       "    }\n",
       "\n",
       "    .dataframe tbody tr th {\n",
       "        vertical-align: top;\n",
       "    }\n",
       "\n",
       "    .dataframe thead th {\n",
       "        text-align: right;\n",
       "    }\n",
       "</style>\n",
       "<table border=\"1\" class=\"dataframe\">\n",
       "  <thead>\n",
       "    <tr style=\"text-align: right;\">\n",
       "      <th></th>\n",
       "      <th>reviewText</th>\n",
       "      <th>overall</th>\n",
       "    </tr>\n",
       "  </thead>\n",
       "  <tbody>\n",
       "    <tr>\n",
       "      <th>0</th>\n",
       "      <td>Installing the game was a struggle (because of...</td>\n",
       "      <td>1.0</td>\n",
       "    </tr>\n",
       "    <tr>\n",
       "      <th>1</th>\n",
       "      <td>If you like rally cars get this game you will ...</td>\n",
       "      <td>4.0</td>\n",
       "    </tr>\n",
       "    <tr>\n",
       "      <th>2</th>\n",
       "      <td>1st shipment received a book instead of the ga...</td>\n",
       "      <td>1.0</td>\n",
       "    </tr>\n",
       "    <tr>\n",
       "      <th>3</th>\n",
       "      <td>I got this version instead of the PS3 version,...</td>\n",
       "      <td>3.0</td>\n",
       "    </tr>\n",
       "    <tr>\n",
       "      <th>4</th>\n",
       "      <td>I had Dirt 2 on Xbox 360 and it was an okay ga...</td>\n",
       "      <td>4.0</td>\n",
       "    </tr>\n",
       "  </tbody>\n",
       "</table>\n",
       "</div>"
      ],
      "text/plain": [
       "                                          reviewText  overall\n",
       "0  Installing the game was a struggle (because of...      1.0\n",
       "1  If you like rally cars get this game you will ...      4.0\n",
       "2  1st shipment received a book instead of the ga...      1.0\n",
       "3  I got this version instead of the PS3 version,...      3.0\n",
       "4  I had Dirt 2 on Xbox 360 and it was an okay ga...      4.0"
      ]
     },
     "execution_count": 5,
     "metadata": {},
     "output_type": "execute_result"
    }
   ],
   "source": [
    "# Review data after dropping features\n",
    "data.head()"
   ]
  },
  {
   "cell_type": "code",
   "execution_count": 6,
   "metadata": {},
   "outputs": [
    {
     "name": "stdout",
     "output_type": "stream",
     "text": [
      "            reviewText  overall\n",
      "377        Great game!      5.0\n",
      "5397        great game      4.0\n",
      "6846           love it      5.0\n",
      "16824   best game ever      5.0\n",
      "24299                       5.0\n",
      "...                ...      ...\n",
      "227378           Works      5.0\n",
      "229524           Great      5.0\n",
      "229887   Awesome game.      5.0\n",
      "230623           great      5.0\n",
      "230692       Good game      5.0\n",
      "\n",
      "[126 rows x 2 columns]\n"
     ]
    }
   ],
   "source": [
    "# Identify abnormal duplicates\n",
    "duplicates = data[data.duplicated(keep=False)]\n",
    "print(duplicates)"
   ]
  },
  {
   "cell_type": "code",
   "execution_count": 7,
   "metadata": {},
   "outputs": [
    {
     "name": "stdout",
     "output_type": "stream",
     "text": [
      "86\n"
     ]
    }
   ],
   "source": [
    "# Identify number of duplicated entries\n",
    "duplicates = data.duplicated().astype(int).sum()\n",
    "print(duplicates)"
   ]
  },
  {
   "cell_type": "code",
   "execution_count": 8,
   "metadata": {},
   "outputs": [],
   "source": [
    "# Replace blank entries with NaN\n",
    "data = data.replace(r\"^\\s*$\",np.nan,regex=True)"
   ]
  },
  {
   "cell_type": "code",
   "execution_count": 9,
   "metadata": {},
   "outputs": [
    {
     "data": {
      "text/plain": [
       "reviewText    44\n",
       "overall        0\n",
       "dtype: int64"
      ]
     },
     "execution_count": 9,
     "metadata": {},
     "output_type": "execute_result"
    }
   ],
   "source": [
    "# Count number of blank entries\n",
    "data.isna().sum()"
   ]
  },
  {
   "cell_type": "code",
   "execution_count": 10,
   "metadata": {},
   "outputs": [],
   "source": [
    "# Drop blank entries\n",
    "data.dropna(inplace=True)"
   ]
  },
  {
   "cell_type": "code",
   "execution_count": 11,
   "metadata": {},
   "outputs": [],
   "source": [
    "# Change overall feature datatype to int\n",
    "data['overall'] = data['overall'].astype(int)"
   ]
  },
  {
   "cell_type": "markdown",
   "metadata": {},
   "source": [
    "### Review and remove unusual characters and text\n",
    "\n",
    "After performing code to return an initial list of characters in the dataset it revealed that there were many characters and punctuation in the data that would make effective tokenization difficult and/or are not useful for the objective of the analysis. Additionally, some URLs were found in the data set that will be removed. \n",
    "\n",
    "Although filtering specified characters can be conducted through some tokenizers, a manual code was written to remove all these characters as well as any URL text within the data set. After running the code, specific and random rows were checked to ensure expected results were obtained. "
   ]
  },
  {
   "cell_type": "code",
   "execution_count": 12,
   "metadata": {},
   "outputs": [
    {
     "name": "stdout",
     "output_type": "stream",
     "text": [
      "['I', 'n', 's', 't', 'a', 'l', 'i', 'g', ' ', 'h', 'e', 'm', 'w', 'r', 'u', '(', 'b', 'c', 'o', 'f', 'd', 'v', ')', '.', 'S', 'p', 'y', '\"', 'k', '3', '0', \"'\", 'D', '2', '/', 'x', 'R', 'B', ',', ':', 'z', '-', 'P', 'C', '9', '7', '1', '5', '6', '=', '_', '?', 'U', 'T', 'F', '8', '&', 'q', ';', '4', '+', '!', 'j', '#', 'E', 'A', 'M', 'K', 'G', 'V', 'N', 'W', 'L', 'X', 'O', '*', 'Y', 'H', 'J', 'Z', '>', '%', '$', '^', '[', ']', 'Q', '@', '{', '}', '|', '`', '~', '\\\\', '\\x19', '\\x1c', '\\x1d', '\\x10', '\\x1b']\n"
     ]
    }
   ],
   "source": [
    "first_review = data['reviewText']\n",
    "first_list_of_characters = []\n",
    "for review in first_review:\n",
    "    for ch in review:\n",
    "        if ch not in first_list_of_characters:\n",
    "            first_list_of_characters.append(ch)\n",
    "            \n",
    "print(first_list_of_characters)"
   ]
  },
  {
   "cell_type": "code",
   "execution_count": 13,
   "metadata": {},
   "outputs": [],
   "source": [
    "# Define a function that cleans each string\n",
    "def clean_text(string):\n",
    "    # Strip left and right whitespace\n",
    "    stripped = string.strip()\n",
    "    # Remove urls\n",
    "    no_url = re.sub(r'http\\S+', ' ', stripped)\n",
    "    # Replace basicpunctuation with spaces\n",
    "    no_punc = re.sub(r'[.!?]', ' ', no_url)\n",
    "    # Replace spaces with '_'\n",
    "    mark_spaces = re.sub(' ', '_', no_punc)\n",
    "    # Remove all non-alpha numeric chars\n",
    "    no_uchars = re.sub(r\"[^a-zA-Z\\d_']+\", \" \", mark_spaces)\n",
    "    # Reapply replace spaces with '_'\n",
    "    remark_spaces = re.sub(' ', '_', no_punc) \n",
    "    # Replace all '_' with spaces\n",
    "    cleaned_text = re.sub(r'_+', \" \", no_uchars) \n",
    "    \n",
    "    # return cleaned resluts and lowercase all words\n",
    "    return cleaned_text.lower()"
   ]
  },
  {
   "cell_type": "code",
   "execution_count": 14,
   "metadata": {},
   "outputs": [],
   "source": [
    "# Apply the cleaning function to the data\n",
    "data['reviewText'] = data['reviewText'].apply(clean_text)"
   ]
  },
  {
   "cell_type": "code",
   "execution_count": 15,
   "metadata": {},
   "outputs": [
    {
     "data": {
      "text/plain": [
       "\"installing the game was a struggle  because of games for windows live bugs  some championship races and cars can only be  unlocked  by buying them as an addon to the game i paid nearly 30 dollars when the game was new i don't like the idea that i have to keep paying to keep playing i noticed no improvement in the physics or graphics compared to dirt 2 i tossed it in the garbage and vowed never to buy another codemasters game i'm really tired of arcade style rally racing games anyway i'll continue to get my fix from richard burns rally  and you should to   you for reading my review if you enjoyed it  be sure to rate it as helpful \""
      ]
     },
     "execution_count": 15,
     "metadata": {},
     "output_type": "execute_result"
    }
   ],
   "source": [
    "# Check first row for correctness (contained a URL)\n",
    "data['reviewText'].iloc[0]"
   ]
  },
  {
   "cell_type": "code",
   "execution_count": 16,
   "metadata": {},
   "outputs": [
    {
     "data": {
      "text/plain": [
       "'use specified  34 gestures 34  to play this game and feel like a mighty  34 powerup hero 34  as you pull off powers and combos that make anyone watching say  34 dag  34  you can collect powers from the characters you beat and bonuses as you level up this and kung fu high impact get my  34 highly recommended 34  rating '"
      ]
     },
     "execution_count": 16,
     "metadata": {},
     "output_type": "execute_result"
    }
   ],
   "source": [
    "# Use np random function to check a random reviewText for correct output\n",
    "data['reviewText'].iloc[np.random.randint(231736)]"
   ]
  },
  {
   "cell_type": "code",
   "execution_count": 17,
   "metadata": {},
   "outputs": [
    {
     "name": "stdout",
     "output_type": "stream",
     "text": [
      "[' ', \"'\", '0', '1', '2', '3', '4', '5', '6', '7', '8', '9', 'a', 'b', 'c', 'd', 'e', 'f', 'g', 'h', 'i', 'j', 'k', 'l', 'm', 'n', 'o', 'p', 'q', 'r', 's', 't', 'u', 'v', 'w', 'x', 'y', 'z']\n"
     ]
    }
   ],
   "source": [
    "second_review = data['reviewText']\n",
    "second_list_of_characters = []\n",
    "for review in second_review:\n",
    "    for ch in review:\n",
    "        if ch not in second_list_of_characters:\n",
    "            second_list_of_characters.append(ch)\n",
    "            \n",
    "print(sorted(second_list_of_characters))"
   ]
  },
  {
   "cell_type": "markdown",
   "metadata": {},
   "source": [
    "### Data Exploration\n",
    "\n",
    "Statistical analysis was performed to find the number of characters, number of words, the average length of words, and maximum word length for each row. Additionally, the median word length and character length for the entire data set were calculated."
   ]
  },
  {
   "cell_type": "code",
   "execution_count": 18,
   "metadata": {},
   "outputs": [],
   "source": [
    "# Compute number of characters in each row\n",
    "data['num_chars'] = data['reviewText'].apply(len)"
   ]
  },
  {
   "cell_type": "code",
   "execution_count": 19,
   "metadata": {},
   "outputs": [],
   "source": [
    "# Compute number of words in each row\n",
    "def word_count(string):\n",
    "    # Split the string into words\n",
    "    words = string.split()\n",
    "    \n",
    "    # Return length of words list\n",
    "    return len(words)\n",
    "\n",
    "# Create num_words feature in df\n",
    "data['num_words'] = data['reviewText'].apply(word_count)"
   ]
  },
  {
   "cell_type": "code",
   "execution_count": 20,
   "metadata": {},
   "outputs": [],
   "source": [
    "# Function that returns average word length\n",
    "def average_word_length(x):\n",
    "    # Split the string into words\n",
    "    words = x.split()\n",
    "    # Compute length of each word and store in a sepatate list\n",
    "    word_lengths = [len(word) for word in words]\n",
    "    # Compute average word length\n",
    "    avg_word_length = sum(word_lengths)/len(words) if len(words) > 0 else 1\n",
    "    # Return average word length\n",
    "    return(avg_word_length)\n",
    "\n",
    "data['avg_word_length'] = data['reviewText'].apply(average_word_length)"
   ]
  },
  {
   "cell_type": "code",
   "execution_count": 21,
   "metadata": {},
   "outputs": [],
   "source": [
    "# Function that returns average word length\n",
    "def max_word_length(x):\n",
    "    # Split the string into words\n",
    "    words = x.split()\n",
    "    # Compute length of each word and store in a separate list\n",
    "    word_length = [len(word) for word in words]\n",
    "    # Compute max word length\n",
    "    max_word_length = max(word_length, default=1)\n",
    "    # Return average word length\n",
    "    return(max_word_length)\n",
    "\n",
    "data['max_word_length'] = data['reviewText'].apply(max_word_length)"
   ]
  },
  {
   "cell_type": "code",
   "execution_count": 22,
   "metadata": {},
   "outputs": [],
   "source": [
    "data['median_word_length'] = data['num_words'].median() \n",
    "data['median_char_length'] = data['num_chars'].median()"
   ]
  },
  {
   "cell_type": "code",
   "execution_count": 23,
   "metadata": {},
   "outputs": [
    {
     "data": {
      "text/html": [
       "<div>\n",
       "<style scoped>\n",
       "    .dataframe tbody tr th:only-of-type {\n",
       "        vertical-align: middle;\n",
       "    }\n",
       "\n",
       "    .dataframe tbody tr th {\n",
       "        vertical-align: top;\n",
       "    }\n",
       "\n",
       "    .dataframe thead th {\n",
       "        text-align: right;\n",
       "    }\n",
       "</style>\n",
       "<table border=\"1\" class=\"dataframe\">\n",
       "  <thead>\n",
       "    <tr style=\"text-align: right;\">\n",
       "      <th></th>\n",
       "      <th>reviewText</th>\n",
       "      <th>overall</th>\n",
       "      <th>num_chars</th>\n",
       "      <th>num_words</th>\n",
       "      <th>avg_word_length</th>\n",
       "      <th>max_word_length</th>\n",
       "      <th>median_word_length</th>\n",
       "      <th>median_char_length</th>\n",
       "    </tr>\n",
       "  </thead>\n",
       "  <tbody>\n",
       "    <tr>\n",
       "      <th>171221</th>\n",
       "      <td>for those that haven't finished mass effect 3 ...</td>\n",
       "      <td>2</td>\n",
       "      <td>32500</td>\n",
       "      <td>5861</td>\n",
       "      <td>4.479099</td>\n",
       "      <td>16</td>\n",
       "      <td>109.0</td>\n",
       "      <td>568.0</td>\n",
       "    </tr>\n",
       "    <tr>\n",
       "      <th>187149</th>\n",
       "      <td>this is the same review as the one i posted fo...</td>\n",
       "      <td>2</td>\n",
       "      <td>32492</td>\n",
       "      <td>5872</td>\n",
       "      <td>4.467984</td>\n",
       "      <td>16</td>\n",
       "      <td>109.0</td>\n",
       "      <td>568.0</td>\n",
       "    </tr>\n",
       "    <tr>\n",
       "      <th>163174</th>\n",
       "      <td>the witcher 2  assassin of kings  is from the...</td>\n",
       "      <td>5</td>\n",
       "      <td>32188</td>\n",
       "      <td>5732</td>\n",
       "      <td>4.540998</td>\n",
       "      <td>15</td>\n",
       "      <td>109.0</td>\n",
       "      <td>568.0</td>\n",
       "    </tr>\n",
       "    <tr>\n",
       "      <th>167783</th>\n",
       "      <td>dragon age  origins ultimate edition1 origins2...</td>\n",
       "      <td>5</td>\n",
       "      <td>32075</td>\n",
       "      <td>5585</td>\n",
       "      <td>4.670009</td>\n",
       "      <td>15</td>\n",
       "      <td>109.0</td>\n",
       "      <td>568.0</td>\n",
       "    </tr>\n",
       "    <tr>\n",
       "      <th>130797</th>\n",
       "      <td>first of all  i have something important to sh...</td>\n",
       "      <td>4</td>\n",
       "      <td>32017</td>\n",
       "      <td>5764</td>\n",
       "      <td>4.487335</td>\n",
       "      <td>14</td>\n",
       "      <td>109.0</td>\n",
       "      <td>568.0</td>\n",
       "    </tr>\n",
       "    <tr>\n",
       "      <th>130369</th>\n",
       "      <td>super mario galaxy 2 is  unfortunately  unforg...</td>\n",
       "      <td>3</td>\n",
       "      <td>31534</td>\n",
       "      <td>5528</td>\n",
       "      <td>4.651049</td>\n",
       "      <td>15</td>\n",
       "      <td>109.0</td>\n",
       "      <td>568.0</td>\n",
       "    </tr>\n",
       "    <tr>\n",
       "      <th>151392</th>\n",
       "      <td>so here is the deal i am reviewing the game  n...</td>\n",
       "      <td>5</td>\n",
       "      <td>31511</td>\n",
       "      <td>5940</td>\n",
       "      <td>4.214310</td>\n",
       "      <td>15</td>\n",
       "      <td>109.0</td>\n",
       "      <td>568.0</td>\n",
       "    </tr>\n",
       "    <tr>\n",
       "      <th>10683</th>\n",
       "      <td>shigeru miyamoto created a masterpiece when he...</td>\n",
       "      <td>5</td>\n",
       "      <td>31280</td>\n",
       "      <td>5889</td>\n",
       "      <td>4.252335</td>\n",
       "      <td>14</td>\n",
       "      <td>109.0</td>\n",
       "      <td>568.0</td>\n",
       "    </tr>\n",
       "    <tr>\n",
       "      <th>112444</th>\n",
       "      <td>edited for brevity readability and corrected a...</td>\n",
       "      <td>1</td>\n",
       "      <td>30709</td>\n",
       "      <td>5657</td>\n",
       "      <td>4.334453</td>\n",
       "      <td>16</td>\n",
       "      <td>109.0</td>\n",
       "      <td>568.0</td>\n",
       "    </tr>\n",
       "    <tr>\n",
       "      <th>165557</th>\n",
       "      <td>2010 was a great year for gaming it was one of...</td>\n",
       "      <td>5</td>\n",
       "      <td>30220</td>\n",
       "      <td>5205</td>\n",
       "      <td>4.702978</td>\n",
       "      <td>16</td>\n",
       "      <td>109.0</td>\n",
       "      <td>568.0</td>\n",
       "    </tr>\n",
       "  </tbody>\n",
       "</table>\n",
       "</div>"
      ],
      "text/plain": [
       "                                               reviewText  overall  num_chars  \\\n",
       "171221  for those that haven't finished mass effect 3 ...        2      32500   \n",
       "187149  this is the same review as the one i posted fo...        2      32492   \n",
       "163174   the witcher 2  assassin of kings  is from the...        5      32188   \n",
       "167783  dragon age  origins ultimate edition1 origins2...        5      32075   \n",
       "130797  first of all  i have something important to sh...        4      32017   \n",
       "130369  super mario galaxy 2 is  unfortunately  unforg...        3      31534   \n",
       "151392  so here is the deal i am reviewing the game  n...        5      31511   \n",
       "10683   shigeru miyamoto created a masterpiece when he...        5      31280   \n",
       "112444  edited for brevity readability and corrected a...        1      30709   \n",
       "165557  2010 was a great year for gaming it was one of...        5      30220   \n",
       "\n",
       "        num_words  avg_word_length  max_word_length  median_word_length  \\\n",
       "171221       5861         4.479099               16               109.0   \n",
       "187149       5872         4.467984               16               109.0   \n",
       "163174       5732         4.540998               15               109.0   \n",
       "167783       5585         4.670009               15               109.0   \n",
       "130797       5764         4.487335               14               109.0   \n",
       "130369       5528         4.651049               15               109.0   \n",
       "151392       5940         4.214310               15               109.0   \n",
       "10683        5889         4.252335               14               109.0   \n",
       "112444       5657         4.334453               16               109.0   \n",
       "165557       5205         4.702978               16               109.0   \n",
       "\n",
       "        median_char_length  \n",
       "171221               568.0  \n",
       "187149               568.0  \n",
       "163174               568.0  \n",
       "167783               568.0  \n",
       "130797               568.0  \n",
       "130369               568.0  \n",
       "151392               568.0  \n",
       "10683                568.0  \n",
       "112444               568.0  \n",
       "165557               568.0  "
      ]
     },
     "execution_count": 23,
     "metadata": {},
     "output_type": "execute_result"
    }
   ],
   "source": [
    "# Sort dataframe by highest number of characters.\n",
    "data.sort_values(by=['num_chars'], ascending=False).head(10)"
   ]
  },
  {
   "cell_type": "code",
   "execution_count": 24,
   "metadata": {},
   "outputs": [
    {
     "data": {
      "text/html": [
       "<div>\n",
       "<style scoped>\n",
       "    .dataframe tbody tr th:only-of-type {\n",
       "        vertical-align: middle;\n",
       "    }\n",
       "\n",
       "    .dataframe tbody tr th {\n",
       "        vertical-align: top;\n",
       "    }\n",
       "\n",
       "    .dataframe thead th {\n",
       "        text-align: right;\n",
       "    }\n",
       "</style>\n",
       "<table border=\"1\" class=\"dataframe\">\n",
       "  <thead>\n",
       "    <tr style=\"text-align: right;\">\n",
       "      <th></th>\n",
       "      <th>reviewText</th>\n",
       "      <th>overall</th>\n",
       "      <th>num_chars</th>\n",
       "      <th>num_words</th>\n",
       "      <th>avg_word_length</th>\n",
       "      <th>max_word_length</th>\n",
       "      <th>median_word_length</th>\n",
       "      <th>median_char_length</th>\n",
       "    </tr>\n",
       "  </thead>\n",
       "  <tbody>\n",
       "    <tr>\n",
       "      <th>151392</th>\n",
       "      <td>so here is the deal i am reviewing the game  n...</td>\n",
       "      <td>5</td>\n",
       "      <td>31511</td>\n",
       "      <td>5940</td>\n",
       "      <td>4.214310</td>\n",
       "      <td>15</td>\n",
       "      <td>109.0</td>\n",
       "      <td>568.0</td>\n",
       "    </tr>\n",
       "    <tr>\n",
       "      <th>10683</th>\n",
       "      <td>shigeru miyamoto created a masterpiece when he...</td>\n",
       "      <td>5</td>\n",
       "      <td>31280</td>\n",
       "      <td>5889</td>\n",
       "      <td>4.252335</td>\n",
       "      <td>14</td>\n",
       "      <td>109.0</td>\n",
       "      <td>568.0</td>\n",
       "    </tr>\n",
       "    <tr>\n",
       "      <th>187149</th>\n",
       "      <td>this is the same review as the one i posted fo...</td>\n",
       "      <td>2</td>\n",
       "      <td>32492</td>\n",
       "      <td>5872</td>\n",
       "      <td>4.467984</td>\n",
       "      <td>16</td>\n",
       "      <td>109.0</td>\n",
       "      <td>568.0</td>\n",
       "    </tr>\n",
       "    <tr>\n",
       "      <th>171221</th>\n",
       "      <td>for those that haven't finished mass effect 3 ...</td>\n",
       "      <td>2</td>\n",
       "      <td>32500</td>\n",
       "      <td>5861</td>\n",
       "      <td>4.479099</td>\n",
       "      <td>16</td>\n",
       "      <td>109.0</td>\n",
       "      <td>568.0</td>\n",
       "    </tr>\n",
       "    <tr>\n",
       "      <th>130797</th>\n",
       "      <td>first of all  i have something important to sh...</td>\n",
       "      <td>4</td>\n",
       "      <td>32017</td>\n",
       "      <td>5764</td>\n",
       "      <td>4.487335</td>\n",
       "      <td>14</td>\n",
       "      <td>109.0</td>\n",
       "      <td>568.0</td>\n",
       "    </tr>\n",
       "    <tr>\n",
       "      <th>163174</th>\n",
       "      <td>the witcher 2  assassin of kings  is from the...</td>\n",
       "      <td>5</td>\n",
       "      <td>32188</td>\n",
       "      <td>5732</td>\n",
       "      <td>4.540998</td>\n",
       "      <td>15</td>\n",
       "      <td>109.0</td>\n",
       "      <td>568.0</td>\n",
       "    </tr>\n",
       "    <tr>\n",
       "      <th>112444</th>\n",
       "      <td>edited for brevity readability and corrected a...</td>\n",
       "      <td>1</td>\n",
       "      <td>30709</td>\n",
       "      <td>5657</td>\n",
       "      <td>4.334453</td>\n",
       "      <td>16</td>\n",
       "      <td>109.0</td>\n",
       "      <td>568.0</td>\n",
       "    </tr>\n",
       "    <tr>\n",
       "      <th>167783</th>\n",
       "      <td>dragon age  origins ultimate edition1 origins2...</td>\n",
       "      <td>5</td>\n",
       "      <td>32075</td>\n",
       "      <td>5585</td>\n",
       "      <td>4.670009</td>\n",
       "      <td>15</td>\n",
       "      <td>109.0</td>\n",
       "      <td>568.0</td>\n",
       "    </tr>\n",
       "    <tr>\n",
       "      <th>130369</th>\n",
       "      <td>super mario galaxy 2 is  unfortunately  unforg...</td>\n",
       "      <td>3</td>\n",
       "      <td>31534</td>\n",
       "      <td>5528</td>\n",
       "      <td>4.651049</td>\n",
       "      <td>15</td>\n",
       "      <td>109.0</td>\n",
       "      <td>568.0</td>\n",
       "    </tr>\n",
       "    <tr>\n",
       "      <th>92896</th>\n",
       "      <td>title says it all i was excited to finally be ...</td>\n",
       "      <td>3</td>\n",
       "      <td>29605</td>\n",
       "      <td>5309</td>\n",
       "      <td>4.493125</td>\n",
       "      <td>15</td>\n",
       "      <td>109.0</td>\n",
       "      <td>568.0</td>\n",
       "    </tr>\n",
       "  </tbody>\n",
       "</table>\n",
       "</div>"
      ],
      "text/plain": [
       "                                               reviewText  overall  num_chars  \\\n",
       "151392  so here is the deal i am reviewing the game  n...        5      31511   \n",
       "10683   shigeru miyamoto created a masterpiece when he...        5      31280   \n",
       "187149  this is the same review as the one i posted fo...        2      32492   \n",
       "171221  for those that haven't finished mass effect 3 ...        2      32500   \n",
       "130797  first of all  i have something important to sh...        4      32017   \n",
       "163174   the witcher 2  assassin of kings  is from the...        5      32188   \n",
       "112444  edited for brevity readability and corrected a...        1      30709   \n",
       "167783  dragon age  origins ultimate edition1 origins2...        5      32075   \n",
       "130369  super mario galaxy 2 is  unfortunately  unforg...        3      31534   \n",
       "92896   title says it all i was excited to finally be ...        3      29605   \n",
       "\n",
       "        num_words  avg_word_length  max_word_length  median_word_length  \\\n",
       "151392       5940         4.214310               15               109.0   \n",
       "10683        5889         4.252335               14               109.0   \n",
       "187149       5872         4.467984               16               109.0   \n",
       "171221       5861         4.479099               16               109.0   \n",
       "130797       5764         4.487335               14               109.0   \n",
       "163174       5732         4.540998               15               109.0   \n",
       "112444       5657         4.334453               16               109.0   \n",
       "167783       5585         4.670009               15               109.0   \n",
       "130369       5528         4.651049               15               109.0   \n",
       "92896        5309         4.493125               15               109.0   \n",
       "\n",
       "        median_char_length  \n",
       "151392               568.0  \n",
       "10683                568.0  \n",
       "187149               568.0  \n",
       "171221               568.0  \n",
       "130797               568.0  \n",
       "163174               568.0  \n",
       "112444               568.0  \n",
       "167783               568.0  \n",
       "130369               568.0  \n",
       "92896                568.0  "
      ]
     },
     "execution_count": 24,
     "metadata": {},
     "output_type": "execute_result"
    }
   ],
   "source": [
    "# Sort dataframe by highest number of words\n",
    "data.sort_values(by=['num_words'], ascending=False).head(10)"
   ]
  },
  {
   "cell_type": "markdown",
   "metadata": {},
   "source": [
    "### Preprocessing the data\n",
    "\n",
    "To keep the test data set hidden the test data is split before continuing. This mimics the process of including unseen data into the model.\n",
    "\n",
    "To achieve vocabulary size and the correct justification for the word embedding length the tokenization process was begun on the training data set. The tokenization process will be explained in the next section.\n",
    "\n",
    "The library 'spacy' and 'Keras' was used to initially preprocess the training data. This is shown below in the defined function ```preprocess```. Both tokenization and lemmatization were conducted on the data and returned those results into the X_train data set."
   ]
  },
  {
   "cell_type": "code",
   "execution_count": 25,
   "metadata": {},
   "outputs": [],
   "source": [
    "# Instantiate space.load() with 'en_core_web_sm' model\n",
    "nlp = sp.load('en_core_web_sm')"
   ]
  },
  {
   "cell_type": "code",
   "execution_count": 26,
   "metadata": {},
   "outputs": [],
   "source": [
    "# Load list of stopwords\n",
    "stopwords = sp.lang.en.stop_words.STOP_WORDS\n",
    "\n",
    "# Function to preprocess text\n",
    "def preprocess(text):\n",
    "        # Create Doc object\n",
    "        doc = nlp(text, disable=['ner', 'parser'])\n",
    "        # Generate lemmas\n",
    "        lemmas = [token.lemma_ for token in doc]\n",
    "        # Remove stopwords and non-alphabetic characters\n",
    "        a_lemmas = [lemma for lemma in lemmas \n",
    "            if lemma.isalpha() and lemma not in stopwords]\n",
    "    \n",
    "        return ' '.join(a_lemmas)"
   ]
  },
  {
   "cell_type": "code",
   "execution_count": 27,
   "metadata": {},
   "outputs": [],
   "source": [
    "# Apply preprocess to data['reviewText']\n",
    "data['reviewText'] = data['reviewText'].apply(preprocess)"
   ]
  },
  {
   "cell_type": "code",
   "execution_count": 28,
   "metadata": {},
   "outputs": [],
   "source": [
    "df_data = pd.DataFrame()"
   ]
  },
  {
   "cell_type": "code",
   "execution_count": 29,
   "metadata": {},
   "outputs": [],
   "source": [
    "df_data['X'] = data['reviewText']"
   ]
  },
  {
   "cell_type": "code",
   "execution_count": 30,
   "metadata": {},
   "outputs": [],
   "source": [
    "y = pd.Series(data['overall'])\n",
    "y = to_categorical(y)"
   ]
  },
  {
   "cell_type": "code",
   "execution_count": 31,
   "metadata": {},
   "outputs": [],
   "source": [
    "# Split data into training and testing sets\n",
    "X_train, X_test, y_train, y_test = train_test_split(df_data['X'],\n",
    "                                                    y,\n",
    "                                                    test_size=0.2,\n",
    "                                                    random_state=42)"
   ]
  },
  {
   "cell_type": "code",
   "execution_count": 32,
   "metadata": {},
   "outputs": [],
   "source": [
    "# Build the dictionary of indexes\n",
    "tokenizer = Tokenizer(oov_token='UNK')\n",
    "tokenizer.fit_on_texts(X_train)"
   ]
  },
  {
   "cell_type": "code",
   "execution_count": 33,
   "metadata": {},
   "outputs": [],
   "source": [
    "# Get our data's word index\n",
    "word_index = tokenizer.word_index"
   ]
  },
  {
   "cell_type": "code",
   "execution_count": 34,
   "metadata": {},
   "outputs": [
    {
     "data": {
      "text/plain": [
       "{'UNK': 1,\n",
       " 'i': 2,\n",
       " 'game': 3,\n",
       " 'play': 4,\n",
       " 'like': 5,\n",
       " 'good': 6,\n",
       " 'time': 7,\n",
       " 'great': 8,\n",
       " 'fun': 9,\n",
       " 'use': 10,\n",
       " 'character': 11,\n",
       " 'new': 12,\n",
       " 'thing': 13,\n",
       " 'graphic': 14,\n",
       " 'look': 15,\n",
       " 'buy': 16,\n",
       " 'story': 17,\n",
       " 'level': 18,\n",
       " 'find': 19,\n",
       " 'way': 20}"
      ]
     },
     "execution_count": 34,
     "metadata": {},
     "output_type": "execute_result"
    }
   ],
   "source": [
    "# Output first 20 results of work_index dictionary\n",
    "dict(list(word_index.items())[0:20])"
   ]
  },
  {
   "cell_type": "markdown",
   "metadata": {},
   "source": [
    "### Vocabulary Size\n",
    "\n",
    "After the preprocessing and tokenization process was completed on the training data, the vocabulary size was calculated. The initial code blocks calculate the number of times a unique word occurs in the training data set. The actual vocabulary size is calculated by performing the ```len()``` function on the word_index that was created from the training data above. The total size of the vocabulary is 147,781 words.   "
   ]
  },
  {
   "cell_type": "code",
   "execution_count": 35,
   "metadata": {},
   "outputs": [],
   "source": [
    "word_count = X_train.str.split(expand=True).stack().value_counts().reset_index()\n",
    " \n",
    "word_count.columns = ['Word', 'Frequency'] "
   ]
  },
  {
   "cell_type": "code",
   "execution_count": 36,
   "metadata": {},
   "outputs": [
    {
     "data": {
      "text/html": [
       "<div>\n",
       "<style scoped>\n",
       "    .dataframe tbody tr th:only-of-type {\n",
       "        vertical-align: middle;\n",
       "    }\n",
       "\n",
       "    .dataframe tbody tr th {\n",
       "        vertical-align: top;\n",
       "    }\n",
       "\n",
       "    .dataframe thead th {\n",
       "        text-align: right;\n",
       "    }\n",
       "</style>\n",
       "<table border=\"1\" class=\"dataframe\">\n",
       "  <thead>\n",
       "    <tr style=\"text-align: right;\">\n",
       "      <th></th>\n",
       "      <th>Word</th>\n",
       "      <th>Frequency</th>\n",
       "    </tr>\n",
       "  </thead>\n",
       "  <tbody>\n",
       "    <tr>\n",
       "      <th>0</th>\n",
       "      <td>I</td>\n",
       "      <td>904410</td>\n",
       "    </tr>\n",
       "    <tr>\n",
       "      <th>1</th>\n",
       "      <td>game</td>\n",
       "      <td>803571</td>\n",
       "    </tr>\n",
       "    <tr>\n",
       "      <th>2</th>\n",
       "      <td>play</td>\n",
       "      <td>245094</td>\n",
       "    </tr>\n",
       "    <tr>\n",
       "      <th>3</th>\n",
       "      <td>like</td>\n",
       "      <td>195637</td>\n",
       "    </tr>\n",
       "    <tr>\n",
       "      <th>4</th>\n",
       "      <td>good</td>\n",
       "      <td>150889</td>\n",
       "    </tr>\n",
       "    <tr>\n",
       "      <th>5</th>\n",
       "      <td>time</td>\n",
       "      <td>132982</td>\n",
       "    </tr>\n",
       "    <tr>\n",
       "      <th>6</th>\n",
       "      <td>great</td>\n",
       "      <td>103220</td>\n",
       "    </tr>\n",
       "    <tr>\n",
       "      <th>7</th>\n",
       "      <td>fun</td>\n",
       "      <td>97414</td>\n",
       "    </tr>\n",
       "    <tr>\n",
       "      <th>8</th>\n",
       "      <td>use</td>\n",
       "      <td>95432</td>\n",
       "    </tr>\n",
       "    <tr>\n",
       "      <th>9</th>\n",
       "      <td>character</td>\n",
       "      <td>82277</td>\n",
       "    </tr>\n",
       "  </tbody>\n",
       "</table>\n",
       "</div>"
      ],
      "text/plain": [
       "        Word  Frequency\n",
       "0          I     904410\n",
       "1       game     803571\n",
       "2       play     245094\n",
       "3       like     195637\n",
       "4       good     150889\n",
       "5       time     132982\n",
       "6      great     103220\n",
       "7        fun      97414\n",
       "8        use      95432\n",
       "9  character      82277"
      ]
     },
     "execution_count": 36,
     "metadata": {},
     "output_type": "execute_result"
    }
   ],
   "source": [
    "# Return top ten most common words\n",
    "word_count.head(10)"
   ]
  },
  {
   "cell_type": "code",
   "execution_count": 37,
   "metadata": {},
   "outputs": [
    {
     "name": "stdout",
     "output_type": "stream",
     "text": [
      "147781\n"
     ]
    }
   ],
   "source": [
    "# Create the length of the vocabulary\n",
    "vocabulary_size = len(word_index)\n",
    "print(vocabulary_size)"
   ]
  },
  {
   "cell_type": "markdown",
   "metadata": {},
   "source": [
    "### Word embedding length\n",
    "\n",
    "Now that the vocabulary_size is calculated we can propose a word embedding length. The word embedding length will be an input in the output dimension parameter of the ```keras.Embedding``` layer of the model. During the research, there were many \"rules of thumbs\" found to determine the word embedding length. One was to use the 4th root of the vocabulary length (about 20 in our case). (Introducing tensorflow feature columns, 2017) Another source stated that multiples of 32 should be used. Yet another source stated that literature shows that a word embedding length of 300 is the most common. (Yin & Shin) Since these are just rules of thumb, each can be tried to see which provides the most accurate results. For simplicity's sake, the first word embedding length was selected was between the suggested numbers: 50."
   ]
  },
  {
   "cell_type": "markdown",
   "metadata": {},
   "source": [
    "### Statistical justification for maximum sequence length\n",
    "\n",
    "The maximum sequence length to be used in the model input is 200. This is statistically justified by plotting a histogram using matplotlib and evaluating the outcome. As shown below, well over 99% of the data contains 200 or fewer words. Using 200 as the max length will contain enough information to build an acceptable model."
   ]
  },
  {
   "cell_type": "code",
   "execution_count": 39,
   "metadata": {},
   "outputs": [],
   "source": [
    "X_train_df = pd.DataFrame(X_train)"
   ]
  },
  {
   "cell_type": "code",
   "execution_count": 40,
   "metadata": {},
   "outputs": [
    {
     "data": {
      "text/html": [
       "<div>\n",
       "<style scoped>\n",
       "    .dataframe tbody tr th:only-of-type {\n",
       "        vertical-align: middle;\n",
       "    }\n",
       "\n",
       "    .dataframe tbody tr th {\n",
       "        vertical-align: top;\n",
       "    }\n",
       "\n",
       "    .dataframe thead th {\n",
       "        text-align: right;\n",
       "    }\n",
       "</style>\n",
       "<table border=\"1\" class=\"dataframe\">\n",
       "  <thead>\n",
       "    <tr style=\"text-align: right;\">\n",
       "      <th></th>\n",
       "      <th>X</th>\n",
       "    </tr>\n",
       "  </thead>\n",
       "  <tbody>\n",
       "    <tr>\n",
       "      <th>37956</th>\n",
       "      <td>game pretty fun evil crocidle imagine stand be...</td>\n",
       "    </tr>\n",
       "    <tr>\n",
       "      <th>127119</th>\n",
       "      <td>like need speed game want try like kid great g...</td>\n",
       "    </tr>\n",
       "    <tr>\n",
       "      <th>157359</th>\n",
       "      <td>problem game replay value beat game yes I play...</td>\n",
       "    </tr>\n",
       "    <tr>\n",
       "      <th>198517</th>\n",
       "      <td>work crack plastic I big deal wire shot normal...</td>\n",
       "    </tr>\n",
       "    <tr>\n",
       "      <th>167596</th>\n",
       "      <td>I play grand theft auto iv pc love control eas...</td>\n",
       "    </tr>\n",
       "  </tbody>\n",
       "</table>\n",
       "</div>"
      ],
      "text/plain": [
       "                                                        X\n",
       "37956   game pretty fun evil crocidle imagine stand be...\n",
       "127119  like need speed game want try like kid great g...\n",
       "157359  problem game replay value beat game yes I play...\n",
       "198517  work crack plastic I big deal wire shot normal...\n",
       "167596  I play grand theft auto iv pc love control eas..."
      ]
     },
     "execution_count": 40,
     "metadata": {},
     "output_type": "execute_result"
    }
   ],
   "source": [
    "X_train_df.head()"
   ]
  },
  {
   "cell_type": "code",
   "execution_count": 41,
   "metadata": {},
   "outputs": [
    {
     "name": "stdout",
     "output_type": "stream",
     "text": [
      "0 words:          4\n",
      "1 words:         99\n",
      "10 words:      4194\n",
      "100 words:      490\n",
      "1002 words:       1\n",
      "               ... \n",
      "991 words:        2\n",
      "992 words:        1\n",
      "994 words:        1\n",
      "995 words:        1\n",
      "998 words:        1\n",
      "Name: X, Length: 1184, dtype: int64\n"
     ]
    }
   ],
   "source": [
    "count = X_train_df['X'].str.split().apply(len).value_counts()\n",
    "count.index = count.index.astype(str) + ' words:'\n",
    "count.sort_index(inplace=True)\n",
    "print(count)"
   ]
  },
  {
   "cell_type": "code",
   "execution_count": 42,
   "metadata": {},
   "outputs": [
    {
     "data": {
      "image/png": "[encoded data removed]",
      "text/plain": [
       "<Figure size 864x432 with 1 Axes>"
      ]
     },
     "metadata": {
      "needs_background": "light"
     },
     "output_type": "display_data"
    }
   ],
   "source": [
    "fig = plt.figure(figsize=(12, 6))\n",
    "\n",
    "plt.hist(X_train_df['X'].str.split().apply(len), range=[0, 1000], bins= 5)\n",
    "plt.show()"
   ]
  },
  {
   "cell_type": "markdown",
   "metadata": {},
   "source": [
    "## B2: Tokenization Process\n",
    "\n",
    "The tokenization process was peformed above. The overall goal of the tokenization process is to determine the prioritized list of words in each row or document of text. Tokenization reduces the amount of data needed to input into the model through steps determined by the user as needed. These steps can include:\n",
    "\n",
    " - Remove unusual characters and punctuation such as !@#$%^&*()\n",
    " - Perform stemming and/or lemmatization by removing endings to root words such as '..ly', '..ing', etc. Stemming uses the stem of the word, while lemmatization uses the context in which the word is being used. \n",
    " - Remove stopwords which are commonly used words in a language such as \"a, the, is, are, etc\". This was performed above using Spacys built in stopwords list.\n",
    "\n",
    "The tokenization process may be modified or skipped based on the need of the overall goal of the analysis.   "
   ]
  },
  {
   "cell_type": "markdown",
   "metadata": {},
   "source": [
    "## B3: Padding Process\n",
    "\n",
    "To begin the padding process, the tokens produced were transformed into their integer values found in the dictionary produced using Keras's ```fit_on_texts()``` function. This dictionary was partially show above by showing the first 20 items in the function's word_index dictionary.\n",
    "\n",
    "The ```text_to_sequences()``` functions peforms transformation by producing an array of integers for each row corresponding with each word in the dictionary. However, the lengths of the arrays vary because the number of tokens in each row vary. In order to fit into the model the arrays shape must be consistant. \n",
    "\n",
    "The padding process is used to fix this issue. The dictionary value \"0\" is saved for padding values. As determined above the maximum length for each sequence is 400. Using Kera's ```pad_sequence()``` function and the hyperparameter ```padding=post``` the integer arrays are padded with 0's until they are length 400. Using post padding ensures tokens are not cut from the data. For arrays with greater than 400 values, these arrays are truncated at lengths of 400.\n",
    "\n",
    "A single padded sequence is shown below. We can verify the shape of the matrix array by using ```.shape``` to verify the length of 400."
   ]
  },
  {
   "cell_type": "code",
   "execution_count": 43,
   "metadata": {},
   "outputs": [],
   "source": [
    "# Change texts into sequence of indexes\n",
    "X_train = tokenizer.texts_to_sequences(X_train)\n",
    "X_test = tokenizer.texts_to_sequences(X_test)"
   ]
  },
  {
   "cell_type": "code",
   "execution_count": 44,
   "metadata": {},
   "outputs": [],
   "source": [
    "# Pad the numerical matric to a max length of 400\n",
    "X_train = pad_sequences(X_train, maxlen=400, padding='post')\n",
    "X_test = pad_sequences(X_test, maxlen= 400, padding= 'post')"
   ]
  },
  {
   "cell_type": "code",
   "execution_count": 45,
   "metadata": {},
   "outputs": [
    {
     "name": "stdout",
     "output_type": "stream",
     "text": [
      "[    2    24   350    16  1039  1408 18645  8983  1297     2    16     2\n",
      "   129   448     2   113     6  5023   403     0     0     0     0     0\n",
      "     0     0     0     0     0     0     0     0     0     0     0     0\n",
      "     0     0     0     0     0     0     0     0     0     0     0     0\n",
      "     0     0     0     0     0     0     0     0     0     0     0     0\n",
      "     0     0     0     0     0     0     0     0     0     0     0     0\n",
      "     0     0     0     0     0     0     0     0     0     0     0     0\n",
      "     0     0     0     0     0     0     0     0     0     0     0     0\n",
      "     0     0     0     0     0     0     0     0     0     0     0     0\n",
      "     0     0     0     0     0     0     0     0     0     0     0     0\n",
      "     0     0     0     0     0     0     0     0     0     0     0     0\n",
      "     0     0     0     0     0     0     0     0     0     0     0     0\n",
      "     0     0     0     0     0     0     0     0     0     0     0     0\n",
      "     0     0     0     0     0     0     0     0     0     0     0     0\n",
      "     0     0     0     0     0     0     0     0     0     0     0     0\n",
      "     0     0     0     0     0     0     0     0     0     0     0     0\n",
      "     0     0     0     0     0     0     0     0     0     0     0     0\n",
      "     0     0     0     0     0     0     0     0     0     0     0     0\n",
      "     0     0     0     0     0     0     0     0     0     0     0     0\n",
      "     0     0     0     0     0     0     0     0     0     0     0     0\n",
      "     0     0     0     0     0     0     0     0     0     0     0     0\n",
      "     0     0     0     0     0     0     0     0     0     0     0     0\n",
      "     0     0     0     0     0     0     0     0     0     0     0     0\n",
      "     0     0     0     0     0     0     0     0     0     0     0     0\n",
      "     0     0     0     0     0     0     0     0     0     0     0     0\n",
      "     0     0     0     0     0     0     0     0     0     0     0     0\n",
      "     0     0     0     0     0     0     0     0     0     0     0     0\n",
      "     0     0     0     0     0     0     0     0     0     0     0     0\n",
      "     0     0     0     0     0     0     0     0     0     0     0     0\n",
      "     0     0     0     0     0     0     0     0     0     0     0     0\n",
      "     0     0     0     0     0     0     0     0     0     0     0     0\n",
      "     0     0     0     0     0     0     0     0     0     0     0     0\n",
      "     0     0     0     0     0     0     0     0     0     0     0     0\n",
      "     0     0     0     0]\n"
     ]
    }
   ],
   "source": [
    "#Provide code for single padded sequence from training set\n",
    "print(X_train[8,:])"
   ]
  },
  {
   "cell_type": "code",
   "execution_count": 46,
   "metadata": {},
   "outputs": [
    {
     "name": "stdout",
     "output_type": "stream",
     "text": [
      "[   56   765 19133    91   215     3    10   176  3552     3   711 11651\n",
      "  3235   282  5247     3     3   269   511  1107   180   517  3552   732\n",
      "  6740   457    12  5595   656  3608  2733   282     6   389   942    64\n",
      "   176   942    91     9   233   502   923   942    15   174   643   484\n",
      "   176  1105   280    92    88  1443   765    77     4   109   131    25\n",
      "    17   156  7274  8586   245     7   233   787   363   201   788   211\n",
      "   429    17   203    48   693  1967    16   203    48   215     3   158\n",
      "   787  2973    10   942   211   656    48    51     6  1295   923 17277\n",
      "   189  1067   121   656  1067    48    48   119    43  1087  1515    18\n",
      "   949     1   626   656    48  1515   756    17     3    43   656    48\n",
      "   501   788     5   121  1095   627   942   541   446    17    96   208\n",
      "  5422   208    18  1543  1558     2   116   770   877   127   131    61\n",
      "    18    17    40   241    61   502  3593   189    75   244    32    12\n",
      "    50    61   628   205  3349   211    19  1059  3524   108  4415    50\n",
      "    61     9   175   122    61    36     1   402     3  3593   583  4408\n",
      "  1678   359   208   942     2   208    61  4426   189  2700   359   208\n",
      "   942    48   208    61  2009    45     2    19   547  2096   501 28610\n",
      "  1095   942  2297    19   127    61   656   877    48    10  1352   942\n",
      "   222   923   185  1300  3368    19    61   190   208  1690   208    10\n",
      "   203     5  3227  3593    61  1942 38440   233   687  7513    50     7\n",
      "   158    33   108    15  1782    61   774   233    43   571   586  1277\n",
      "    14    51  1321   215  5247     3     2    19    14    62   254  4306\n",
      "   502  2730   254  4790  1035   682   146   215  5247     3  2841  1111\n",
      "   682  3093  2969  4936    59     2    19    45    19    44  4536  2574\n",
      "    17   156   345    17   203    48  2812  8358   146    96   495   215\n",
      "  5247     3     9   181    61   711    93  6617   402    12   297    14\n",
      "  1888   363   282  3552   511  4687   188   156  3474   266  6740   208\n",
      "   171   743   208   208   171  3151   208   710   198   189     3   338\n",
      "   537     9  2021  2135    34    10   110   817    12   149   942   109\n",
      "   423   565   429  1095    19   279   423    50   162    92   226   541\n",
      "  1473  6358   205   628    50    12  1906  2697   160     5  5096  1095\n",
      "   695  1168   490     2    19    10    61   233     2    26    59  9921\n",
      "  2021  2135    57     3  2841    26     5   449   265   315   411   502\n",
      "     9     6   280  1092]\n"
     ]
    }
   ],
   "source": [
    "#Provide code for single padded sequence from test set\n",
    "print(X_test[6,:])"
   ]
  },
  {
   "cell_type": "code",
   "execution_count": 47,
   "metadata": {},
   "outputs": [
    {
     "data": {
      "text/plain": [
       "{'UNK': 1,\n",
       " 'i': 2,\n",
       " 'game': 3,\n",
       " 'play': 4,\n",
       " 'like': 5,\n",
       " 'good': 6,\n",
       " 'time': 7,\n",
       " 'great': 8,\n",
       " 'fun': 9,\n",
       " 'use': 10,\n",
       " 'character': 11,\n",
       " 'new': 12,\n",
       " 'thing': 13,\n",
       " 'graphic': 14,\n",
       " 'look': 15,\n",
       " 'buy': 16,\n",
       " 'story': 17,\n",
       " 'level': 18,\n",
       " 'find': 19,\n",
       " 'way': 20}"
      ]
     },
     "execution_count": 47,
     "metadata": {},
     "output_type": "execute_result"
    }
   ],
   "source": [
    "# Output first 20 results of work_index dictionary\n",
    "dict(list(word_index.items())[0:20])"
   ]
  },
  {
   "cell_type": "code",
   "execution_count": 48,
   "metadata": {},
   "outputs": [
    {
     "data": {
      "text/plain": [
       "(185388, 400)"
      ]
     },
     "execution_count": 48,
     "metadata": {},
     "output_type": "execute_result"
    }
   ],
   "source": [
    "# Check shape of X_train matrix\n",
    "X_train.shape"
   ]
  },
  {
   "cell_type": "code",
   "execution_count": 49,
   "metadata": {},
   "outputs": [
    {
     "data": {
      "text/plain": [
       "(46348, 400)"
      ]
     },
     "execution_count": 49,
     "metadata": {},
     "output_type": "execute_result"
    }
   ],
   "source": [
    "# Check shape of X_test matrix\n",
    "X_test.shape"
   ]
  },
  {
   "cell_type": "code",
   "execution_count": 50,
   "metadata": {},
   "outputs": [],
   "source": [
    "# Create the max input_len for the model\n",
    "review_len = 400"
   ]
  },
  {
   "cell_type": "markdown",
   "metadata": {},
   "source": [
    "## B4: Sentiment Categories\n",
    "\n",
    "There are 5 categories that will be used to determine the sentiment of the model and predictions. These catergories are the stars given for each product review with 1 being the most negative to 5 being the most positive. However, when one hot encoding is performed 6 categories will be used because the values of all 0s is also encoded. No issues should arise because no 0s or missing values were found when checking the target data. \n",
    "\n",
    "The activation function 'softmax' will be used in the final dense layer of the model network. Softmax performs calculations to determine the most probable sentiment category for the output. "
   ]
  },
  {
   "cell_type": "markdown",
   "metadata": {},
   "source": [
    "## B5: Data Analysis Preparation Steps\n",
    "\n",
    "The steps used to prepare the data for analysis are as follows:\n",
    "\n",
    "1. Read the data into a usable format for processing. This was performed above by reading the Amazon .json file and transforming it into a DataFrame\n",
    "2. Peform data cleaning and exploration by checking for duplicates, missing data, abnormal inputs, etc. and imputing or removing as necessary.\n",
    "3. Check for abnormal character and replace or remove as necessary. The function loop above performed this automatically using various Regex functions.\n",
    "4. Split the data into an 80/20 split. The 80% allocated data will be used to train the model and the remaining 20% is used to test the model.\n",
    "5. Tokenize each row of reviews in the training set. In the tokenization process, lemmatization is also performed.\n",
    "6. Identify the vocabulary length of the training data in order to determine a word embedding length.\n",
    "7. Retrieve the word_index of the training data.\n",
    "8. Perform numerical sequencing of both the training and test data.\n",
    "9. Perform selected exploration to determine a maximun length of vectors to use in the padding sequence. Use the determine length to pad each sequence.\n",
    "10. Transform the training and test sets into NumPy arrays."
   ]
  },
  {
   "cell_type": "markdown",
   "metadata": {},
   "source": [
    "## B6: Copy of Prepared Dataset"
   ]
  },
  {
   "cell_type": "code",
   "execution_count": 51,
   "metadata": {},
   "outputs": [],
   "source": [
    "df_x_train = pd.DataFrame(X_train)\n",
    "df_x_test = pd.DataFrame(X_test)\n",
    "df_y_train = pd.DataFrame(y_train)\n",
    "df_y_test = pd.DataFrame(y_test)"
   ]
  },
  {
   "cell_type": "code",
   "execution_count": 52,
   "metadata": {},
   "outputs": [],
   "source": [
    "df_x_train.iloc[0:1000].to_csv(\"C:/Users/holtb/Data/WGU Datasets/df_xtrain_sample.csv\")\n",
    "df_x_test.iloc[0:1000,].to_csv(\"C:/Users/holtb/Data/WGU Datasets/df_xtest_sample.csv\")\n",
    "df_y_train.iloc[0:1000,].to_csv(\"C:/Users/holtb/Data/WGU Datasets/df_ytrain_sample.csv\")\n",
    "df_y_test.iloc[0:1000,].to_csv(\"C:/Users/holtb/Data/WGU Datasets/df_ytest_sample.csv\")"
   ]
  },
  {
   "cell_type": "markdown",
   "metadata": {},
   "source": [
    "# Part III: Network Architecture"
   ]
  },
  {
   "cell_type": "markdown",
   "metadata": {},
   "source": [
    "## C1: Model Output Summary"
   ]
  },
  {
   "cell_type": "code",
   "execution_count": 112,
   "metadata": {},
   "outputs": [
    {
     "name": "stdout",
     "output_type": "stream",
     "text": [
      "Model: \"emb_model\"\n",
      "_________________________________________________________________\n",
      "Layer (type)                 Output Shape              Param #   \n",
      "=================================================================\n",
      "Embedding (Embedding)        (None, 400, 50)           7389100   \n",
      "_________________________________________________________________\n",
      "global_max_pooling1d_16 (Glo (None, 50)                0         \n",
      "_________________________________________________________________\n",
      "Dense_1 (Dense)              (None, 100)               5100      \n",
      "_________________________________________________________________\n",
      "dropout_16 (Dropout)         (None, 100)               0         \n",
      "_________________________________________________________________\n",
      "Dense_2 (Dense)              (None, 50)                5050      \n",
      "_________________________________________________________________\n",
      "dropout_17 (Dropout)         (None, 50)                0         \n",
      "_________________________________________________________________\n",
      "Dense_3 (Dense)              (None, 25)                1275      \n",
      "_________________________________________________________________\n",
      "Output (Dense)               (None, 6)                 156       \n",
      "=================================================================\n",
      "Total params: 7,400,681\n",
      "Trainable params: 7,400,681\n",
      "Non-trainable params: 0\n",
      "_________________________________________________________________\n"
     ]
    }
   ],
   "source": [
    "opt = Adam(learning_rate=0.001)\n",
    "\n",
    "# Create a model with embeddings\n",
    "model = Sequential(name=\"emb_model\")\n",
    "#Input layer\n",
    "model.add(Embedding(input_dim=vocabulary_size+1, output_dim=50, input_length=review_len, \n",
    "                    trainable=True, name = \"Embedding\"))\n",
    "#\n",
    "model.add(GlobalMaxPool1D())\n",
    "# GRU layer with 64\n",
    "model.add(Dense(100, activation='relu', name = 'Dense_1'))\n",
    "\n",
    "model.add(Dropout(0.5))\n",
    "\n",
    "model.add(Dense(50, activation='relu', name = 'Dense_2'))\n",
    "\n",
    "model.add(Dropout(0.5))\n",
    "\n",
    "model.add(Dense(25, activation='relu', name = 'Dense_3'))\n",
    "# Output layer\n",
    "model.add(Dense(6, activation='softmax', name = 'Output'))\n",
    "# Compile model with optimizer and loss functions\n",
    "model.compile(loss='categorical_crossentropy', optimizer=opt, metrics=['accuracy'])\n",
    "\n",
    "\n",
    "# Print the summaries of the model with embeddings\n",
    "model.summary()"
   ]
  },
  {
   "cell_type": "code",
   "execution_count": 113,
   "metadata": {},
   "outputs": [
    {
     "name": "stdout",
     "output_type": "stream",
     "text": [
      "Epoch 1/20\n",
      "4346/4346 [==============================] - 203s 46ms/step - loss: 1.1069 - accuracy: 0.5498 - val_loss: 1.0015 - val_accuracy: 0.5829\n",
      "Epoch 2/20\n",
      "4346/4346 [==============================] - 203s 47ms/step - loss: 0.9971 - accuracy: 0.5879 - val_loss: 1.0089 - val_accuracy: 0.5864\n",
      "Epoch 3/20\n",
      "4346/4346 [==============================] - 204s 47ms/step - loss: 0.9550 - accuracy: 0.6039 - val_loss: 0.9908 - val_accuracy: 0.5949\n",
      "Epoch 4/20\n",
      "4346/4346 [==============================] - 223s 51ms/step - loss: 0.9212 - accuracy: 0.6170 - val_loss: 1.0019 - val_accuracy: 0.5859\n",
      "Epoch 5/20\n",
      "4346/4346 [==============================] - 235s 54ms/step - loss: 0.8929 - accuracy: 0.6298 - val_loss: 1.0145 - val_accuracy: 0.5854\n"
     ]
    }
   ],
   "source": [
    "early_stopping_monitor = EarlyStopping(monitor='val_loss', patience=2)\n",
    "\n",
    "history_train = model.fit(X_train, y_train, validation_split = 0.25, epochs=20, callbacks = [early_stopping_monitor])"
   ]
  },
  {
   "cell_type": "code",
   "execution_count": 114,
   "metadata": {},
   "outputs": [
    {
     "name": "stdout",
     "output_type": "stream",
     "text": [
      "1449/1449 [==============================] - 2s 2ms/step - loss: 1.0180 - accuracy: 0.5844\n"
     ]
    }
   ],
   "source": [
    "history_test = model.evaluate(X_test, y_test)"
   ]
  },
  {
   "cell_type": "markdown",
   "metadata": {},
   "source": [
    "## C2: Layer Types, Numbers, and Parameters\n",
    "\n",
    "- Number of Layers: There are eight layers in the sequential model: one input embedding layer, three Dense layers, two Dropout layers, and one Dense output layer.\n",
    "\n",
    "- Type of Layers:\n",
    "    - Embedding - The embedding layer is needed to use inputs of sequence matrices (such as the one being used). Without the embedding layer, the inputs would need to be one-hot encoded. This wouldn't be feasible with large datasets as the one-hot encoding matrix would require a huge amount of memory and reduces model efficiency. Additionally, embedding groups similar words into vectors enhancing the model accuracy and efficiency.\n",
    "    - GlobalMaxPool1D - \n",
    "    - Dropout -  \n",
    "    - Dense - The dense layer is the most simple type of layer, taking in input and adjusting the weight from each input.\n",
    "\n",
    "- Total number of parameters: There are a total of 2,816,339 parameters in the model with the majority of them occurring in the embedding layer. "
   ]
  },
  {
   "cell_type": "markdown",
   "metadata": {},
   "source": [
    "## C3: Hyperparameter Justification\n",
    "\n",
    "### Activation functions\n",
    "The activation functions in the model are located in the Dense layers. The first Dense layers contains the relu activation which sets any negative outputs to 0. The output Dense layer contains a 'softmax' activation function. This activation function was selected to predict the most likely category output (target value) from the input. \n",
    "\n",
    "### Number of nodes per layer\n",
    "When creating the architecture for the model, the number of nodes started low and then were increased until the model began to overfit. Additionally, the number of nodes per layer was selected in a way to provide a reasonable runtime for training the model. More nodes could be selected which could improve the accuracy but would require much more time to train the model.\n",
    "\n",
    "### Loss function\n",
    "The loss function \"categorical_crossentropy\" was selected because it is a popular and appropriate loss function to choose for categorical targets.\n",
    "\n",
    "### Optimizer\n",
    "The optimizer 'adam' was selected because it is one of the most common and efficient optimizers in machine learning. The Adam optimizer has the following benifits:\n",
    "\n",
    "- Straightforward to implement.\n",
    "- Computationally efficient.\n",
    "- Little memory requirements.\n",
    "- Invariant to diagonal rescale of the gradients.\n",
    "- Well suited for problems that are large in terms of data and/or parameters.\n",
    "- Appropriate for non-stationary objectives.\n",
    "- Appropriate for problems with very noisy/or sparse gradients.\n",
    "- Hyper-parameters have intuitive interpretation and typically require little tuning.\n",
    "\n",
    "(Brownlee, 2021)\n",
    "\n",
    "Additionally, the learning rate for the optimizer was set to .001. This assists the optimizer with locating the optimal derivative values without \"skipping\" them while training.\n",
    "\n",
    "### Stopping criteria\n",
    "The validation loss was selected to be used as the stopping criteria. If no significant improvements were made in the loss then the model stops training. This helps prevent the model from overfitting because, even if the training loss continues to improve, it won't make a difference unless the validation loss improves as well. \n",
    "\n",
    "### Evaluation metric\n",
    "\n",
    "The evaluation metric selected as the 'accuracy' metric. This metric allows the model to be compared to other models by evaluating the probability of it predicting the correct category."
   ]
  },
  {
   "cell_type": "markdown",
   "metadata": {},
   "source": [
    "# Part IV: Model Evaluation\n",
    "\n",
    "## D1: Stopping Criteria Impact\n",
    "\n",
    "The stopping criteria defined in the ```model.fit()``` function allows the model to continue training until performance in the selected criteria declines. This allows the model to train multiple epochs without needing to worry about wasting time or resources continuing the training if performance doesn't improve."
   ]
  },
  {
   "cell_type": "markdown",
   "metadata": {},
   "source": [
    "## D2: Training Process Visualization\n",
    "\n",
    "Below is a plot which visualizes the accuracy and the validation accuracy for each epoch trained."
   ]
  },
  {
   "cell_type": "code",
   "execution_count": 148,
   "metadata": {},
   "outputs": [
    {
     "data": {
      "image/png": "[encoded data removed]",
      "text/plain": [
       "<Figure size 432x288 with 1 Axes>"
      ]
     },
     "metadata": {
      "needs_background": "light"
     },
     "output_type": "display_data"
    }
   ],
   "source": [
    "plt.plot(history_train.history['accuracy'])\n",
    "plt.plot(history_train.history['val_accuracy'])\n",
    "plt.title('model accuracy')\n",
    "plt.ylabel('accuracy')\n",
    "plt.xlabel('epoch')\n",
    "plt.legend(['train', 'val'], loc='upper left')\n",
    "plt.show()"
   ]
  },
  {
   "cell_type": "code",
   "execution_count": 149,
   "metadata": {},
   "outputs": [
    {
     "data": {
      "image/png": "[encoded data removed]",
      "text/plain": [
       "<Figure size 432x288 with 1 Axes>"
      ]
     },
     "metadata": {
      "needs_background": "light"
     },
     "output_type": "display_data"
    }
   ],
   "source": [
    "plt.plot(history_train.history['loss'])\n",
    "plt.plot(history_train.history['val_loss'])\n",
    "plt.title('model loss')\n",
    "plt.ylabel('loss')\n",
    "plt.xlabel('epoch')\n",
    "plt.legend(['train', 'val'], loc='upper left')\n",
    "plt.show()"
   ]
  },
  {
   "cell_type": "markdown",
   "metadata": {},
   "source": [
    "## D3: Model Fitness Assessment\n",
    "\n",
    "The evaluation metric used to evaluate how well the model can classify the categories was 'accuracy'. The model's accuracy outcome was approximately 62% for training, 58% for validation, and 58% for the testing accuracy. The model ran for 5 epochs and, while the training data accuracy and loss improved, the validation accuracy and loss hover around the same levels. This suggest the model may need more data to train, added complexity, or more focused target categories. \n",
    "\n",
    "To address overfitting, dropout layers were added into the model. The dropout layers sets a percentage of the nodes (set to 0.5 in the model) to be randomly set to zero. This forces the model to retrain them on each epoch."
   ]
  },
  {
   "cell_type": "markdown",
   "metadata": {},
   "source": [
    "## D4: Predictive Accuracy\n",
    "\n",
    "As shown below in the classification report, the model had the most success predicting five-star rating reviews at a 73% accuracy. The second highest was the one-star review ratings at only 44%. The model had an accuracy of 58% over all categories of the test set."
   ]
  },
  {
   "cell_type": "code",
   "execution_count": 131,
   "metadata": {},
   "outputs": [],
   "source": [
    "# Tranform y_test to DataFrame\n",
    "y_test_df = pd.DataFrame(y_test)"
   ]
  },
  {
   "cell_type": "code",
   "execution_count": 134,
   "metadata": {},
   "outputs": [
    {
     "name": "stdout",
     "output_type": "stream",
     "text": [
      "0        5\n",
      "1        4\n",
      "2        5\n",
      "3        3\n",
      "4        5\n",
      "        ..\n",
      "46343    4\n",
      "46344    4\n",
      "46345    4\n",
      "46346    5\n",
      "46347    5\n",
      "Length: 46348, dtype: int64\n"
     ]
    }
   ],
   "source": [
    "# Create dictionary of decoder\n",
    "df_transform = pd.DataFrame({0:[0,0,0,0,0,0], 1:[0,1,0,0,0,0], 2:[0,0,1,0,0,0], 3:[0,0,0,1,0,0], 4:[0,0,0,0,1,0], 5:[0,0,0,0,0,1]})\n",
    "\n",
    "# Create one hot decoder\n",
    "def decode(row):\n",
    "    for c in y_test_df.columns:\n",
    "        if row[c]==1:\n",
    "            return c\n",
    "\n",
    "# Apply decoder to y_test_df\n",
    "y_test_cat = y_test_df.apply(decode,axis=1)\n",
    "print(y_test_cat)"
   ]
  },
  {
   "cell_type": "code",
   "execution_count": 150,
   "metadata": {},
   "outputs": [],
   "source": [
    "# Make predications with X_test\n",
    "y_pred = model.predict(X_test)\n",
    "predicted_categories = np.argmax(y_pred, axis=1)"
   ]
  },
  {
   "cell_type": "code",
   "execution_count": 151,
   "metadata": {},
   "outputs": [
    {
     "name": "stdout",
     "output_type": "stream",
     "text": [
      "              precision    recall  f1-score   support\n",
      "\n",
      "           1       0.44      0.59      0.51      3044\n",
      "           2       0.31      0.07      0.12      2721\n",
      "           3       0.35      0.35      0.35      5556\n",
      "           4       0.42      0.38      0.40     11071\n",
      "           5       0.73      0.79      0.76     23956\n",
      "\n",
      "    accuracy                           0.58     46348\n",
      "   macro avg       0.45      0.44      0.43     46348\n",
      "weighted avg       0.56      0.58      0.57     46348\n",
      "\n"
     ]
    }
   ],
   "source": [
    "# Transform datatypes\n",
    "y_pred = y_pred.astype(int)\n",
    "y_test_arr = y_test_cat.to_numpy()\n",
    "\n",
    "# Print classification report\n",
    "print(classification_report(y_test_arr, predicted_categories))"
   ]
  },
  {
   "cell_type": "markdown",
   "metadata": {},
   "source": [
    "# Part V: Summary and Recommendations\n",
    "\n",
    "## E. Code used to save model"
   ]
  },
  {
   "cell_type": "code",
   "execution_count": 152,
   "metadata": {},
   "outputs": [
    {
     "name": "stderr",
     "output_type": "stream",
     "text": [
      "WARNING:absl:Function `_wrapped_model` contains input name(s) Embedding_input with unsupported characters which will be renamed to embedding_input in the SavedModel.\n"
     ]
    },
    {
     "name": "stdout",
     "output_type": "stream",
     "text": [
      "INFO:tensorflow:Assets written to: C:/Users/holtb/Documents/GitHub/D213_Advanced_Data_Analytics/model_1\\assets\n"
     ]
    },
    {
     "name": "stderr",
     "output_type": "stream",
     "text": [
      "INFO:tensorflow:Assets written to: C:/Users/holtb/Documents/GitHub/D213_Advanced_Data_Analytics/model_1\\assets\n"
     ]
    }
   ],
   "source": [
    "model.save(\"C:/Users/holtb/Documents/GitHub/D213_Advanced_Data_Analytics/model_1\")"
   ]
  },
  {
   "cell_type": "markdown",
   "metadata": {},
   "source": [
    "## F. Functionality of the Neural Network and Network Architecture Impact\n",
    "\n",
    "231,780 customer reviews were input into the model to predict each reviewer's rating based on the text of the review. The neural network took the tokenized reviews and input each review while attempting to \"learn\" which words/word combinations most accurately predicted the rating. \n",
    "\n",
    "The model begins by using embedding to create word vectors. These vectors are trained by predicting what words are most like each other. This reduces the training time of the model but may create accuracy issues due to the loss of context meaning, misspellings, etc. The data continues through the Dense layer nodes adjusting weights as it backpropegated through the model. Once the model creates the weights it deems to most accurately predict the outcomes, the model is created. Test data can then be tested against the training data to check for model accuracy.\n",
    "\n",
    "While the model didn't perform well, some things that could be improved to create a better-performing model. First, the target categorical data is pretty broadly defined. When reviewing the written reviews, many of the same words and language in one- or two-star reviews and four- or five-star reviews are similar or the same. This may make it difficult for the model to distinguish between these reviews and make accurate predictions. If the categorical variables were combined into negative (1 & 2 stars), neutral(3 stars), and positive (4 & 5 stars) this could make the model much more accurate. Additionally, due to time constraints and resources, a more complex model can be created. While performing experimentation to select a model to use, a model with LSTM and GPU layers was created that had 70% accuracy in the training set and 60% validation and testing set accuracy. While this model was more accurate, it was overfitted and needed adjustments. However, each epoch took 45 minutes to an hour to run requiring much more time than available. \n",
    "\n",
    "## G. Course of Action\n",
    "\n",
    "The purpose of the natural language processing model that was created was to identify customer sentiment on a 5-star rating model. The model can assist in identifying brand awareness and create real-time awareness of sentiment analysis of specific products to make faster and more reliable changes to prodcuts.  While the model currently underperforms as it is, if more resources were provide, I have no doubt that a much more accurate model can be obtained. \n"
   ]
  },
  {
   "cell_type": "markdown",
   "metadata": {},
   "source": [
    "### References\n",
    "\n",
    "Brownlee, J. (2021, January 12). Gentle introduction to the adam optimization algorithm for deep learning. Machine Learning Mastery. Retrieved March 21, 2022, from https://machinelearningmastery.com/adam-optimization-algorithm-for-deep-learning/ \n",
    "\n",
    "Introducing tensorflow feature columns. Google Developers Blog. (n.d.). Retrieved March 21, 2022, from https://developers.googleblog.com/2017/11/introducing-tensorflow-feature-columns.html \n",
    "\n",
    "https://proceedings.neurips.cc/paper/2018/file/b534ba68236ba543ae44b22bd110a1d6-Paper.pdf\n",
    "\n",
    "Ups and downs: Modeling the visual evolution of fashion ... (n.d.). Retrieved March 22, 2022, from https://cseweb.ucsd.edu/~jmcauley/pdfs/www16a.pdf \n",
    "\n",
    "Yin, Z., & Shin, Y. (n.d.). On the dimensionality of word embedding - list of proceedings. Retrieved March 22, 2022, from https://proceedings.neurips.cc/paper/2018/file/b534ba68236ba543ae44b22bd110a1d6-Paper.pdf "
   ]
  },
  {
   "cell_type": "markdown",
   "metadata": {},
   "source": [
    "### Third Party Code\n",
    "\n",
    "Becker, D. \"Introduction to Deep Learning in Python\" [MOOC]. Datacamp. https://app.datacamp.com/learn/courses/introduction-to-deep-learning-in-python\n",
    "\n",
    "Cecchini, D. \"Recurrent Neural Networks for Language Modeling in Python\" [MOOC]. Datacamp. https://app.datacamp.com/learn/courses/recurrent-neural-networks-for-language-modeling-in-python\n",
    "\n",
    "Chollet, F., & others. (2015). Keras. GitHub. Retrieved from https://github.com/fchollet/keras\n",
    "\n",
    "Harris, C.R., Millman, K.J., van der Walt, S.J. et al. Array programming with NumPy. Nature 585, 357–362 (2020). DOI: 0.1038/s41586-020-2649-2. (Publisher link)\n",
    "\n",
    "Honnibal, M., & Montani, I. (2017). spaCy 2: Natural language understanding with Bloom embeddings, convolutional neural networks and incremental parsing.\n",
    "\n",
    "Martín Abadi, Ashish Agarwal, Paul Barham, Eugene Brevdo,\n",
    "Zhifeng Chen, Craig Citro, Greg S. Corrado, Andy Davis,\n",
    "Jeffrey Dean, Matthieu Devin, Sanjay Ghemawat, Ian Goodfellow,\n",
    "Andrew Harp, Geoffrey Irving, Michael Isard, Rafal Jozefowicz, Yangqing Jia,\n",
    "Lukasz Kaiser, Manjunath Kudlur, Josh Levenberg, Dan Mané, Mike Schuster,\n",
    "Rajat Monga, Sherry Moore, Derek Murray, Chris Olah, Jonathon Shlens,\n",
    "Benoit Steiner, Ilya Sutskever, Kunal Talwar, Paul Tucker,\n",
    "Vincent Vanhoucke, Vijay Vasudevan, Fernanda Viégas,\n",
    "Oriol Vinyals, Pete Warden, Martin Wattenberg, Martin Wicke,\n",
    "Yuan Yu, and Xiaoqiang Zheng.\n",
    "TensorFlow: Large-scale machine learning on heterogeneous systems,\n",
    "2015. Software available from tensorflow.org.\n",
    "\n",
    "J. McAuley, R. He. Ups and downs: Modeling the visual evolution of fashion trends with one-class collaborative filtering, WWW, 2016\n",
    "\n",
    "J. D. Hunter, \"Matplotlib: A 2D Graphics Environment\", Computing in Science & Engineering, vol. 9, no. 3, pp. 90-95, 2007\n",
    "\n",
    "Python Software Foundation. Python Language Reference, version 3.7. Available at http://www.python.org"
   ]
  },
  {
   "cell_type": "markdown",
   "metadata": {},
   "source": []
  }
 ],
 "metadata": {
  "interpreter": {
   "hash": "2c0264f263aa810bac10643d1946f68226e103f84e34bf488a94ed570c9602ea"
  },
  "kernelspec": {
   "display_name": "Python 3.9.7 ('WGU')",
   "language": "python",
   "name": "python3"
  },
  "language_info": {
   "codemirror_mode": {
    "name": "ipython",
    "version": 3
   },
   "file_extension": ".py",
   "mimetype": "text/x-python",
   "name": "python",
   "nbconvert_exporter": "python",
   "pygments_lexer": "ipython3",
   "version": "3.9.10"
  },
  "orig_nbformat": 4
 },
 "nbformat": 4,
 "nbformat_minor": 2
}
