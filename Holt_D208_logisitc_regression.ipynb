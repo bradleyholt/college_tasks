{
 "cells": [
  {
   "cell_type": "markdown",
   "id": "c6056876",
   "metadata": {},
   "source": [
    "# Part I: Research Question\n",
    "## A1: Question\n",
    "What customer qualities or factors from the data can be used to predict the churn of customers?\n",
    "\n",
    "## A2: Objective and Goals\n",
    "The objective of an analysis of the data is to determine what features, if any, can significantly predict whether or not the customer will continue services with the organization.\n"
   ]
  },
  {
   "cell_type": "markdown",
   "id": "a2745e5a",
   "metadata": {},
   "source": [
    "# Part II: Method Justification\n",
    "\n",
    "## B1: Summary of Assumptions\n",
    "\n",
    "### Assumption #1: Independence of Observations \n",
    "In logistic regression, the normal distribution of the observational errors is not assumed, however, the independence of the observations themselves are still assumed. In simple terms, the values of each variable must not have an effect on the other values within the same variable. If errors become correlated or there are duplicate observations in our dataset the standard error cannot be relied upon. The independence of the observation is a scientific method issue and not a statistical one, but it should be validated in the dataset.  \n",
    "\n",
    "### Assumption #2: Linearity in the Logit for Continous Independent Variables\n",
    "Unlike in multiple linear regression, logistic regression does not require the independent variable to be linearly related to the dependent variable. It does, however, assume linearity in the logit for any continuous independent variables. This means that there should be a linear relationship between each independent variable and the log odds of the dependent variable. \n",
    "\n",
    "### Assumption #3: Absence of Muliticollinearity Among Independent Variables\n",
    "Multicollinearity in the model occurs when two or more independent variables share the same correlation with the target variable. This usually means that the independent variables are related and explain the same variance with the target variable. A logistic regression model with highly correlated independent variables will usually result in large standard errors for the estimated beta coefﬁcients (or slopes) of these variables. (Stoltzfus, 2011)\n",
    "\n",
    "### Assumption #4: No Heavily Influential Outliers\n",
    "Outliers are any abnormal or unusual data values when compared to other date values within an independent variable. Normally, an outlier can be confirmed if it is three or more standard deviations away from a statistic, but this can be subjective depending on the data. Outliers in the dataset can create inaccuracies within the model and should either be removed, changed, or left untouched with model notation, depending on desired results.\n",
    "\n",
    "## B2: Benefits of Using Python\n",
    "\n",
    "By using Python, data can be easily cleaned, explored, and prepared for use in predictive model building. The models themselves can be created using Python. Plots, charts, and graphs can be created to visualize the data and better understand relationships within datasets. This creates opportunities to provide detailed visual information for presentations. Python contains many packages built by data scientists that help with the previously mentioned tasks. Some packages that will be used are Numpy, Pandas, Matplotlib, Seaborn, Statsmodels, and Sklearn.\n",
    "\n",
    "## B3: Why Logistic Regression?\n",
    "\n",
    "Since our dependent variable \"Churn\" is a dichotomous variable, it is appropriate to use the logistic regression model to achieve answering the question. The dataset contains many other continuous and categorical variables that can be used to build the logistic regression model. The difference between the multiple linear regression model and the logistic regression model is that instead of trying to predict the variables' outcome, the linear regression model predicts the *probability* of the outcome of the variable. "
   ]
  },
  {
   "cell_type": "markdown",
   "id": "6e9c7d8c",
   "metadata": {},
   "source": [
    "# Part III: Data Preparation\n",
    "\n",
    "## C1: Data Preparation Goals and Manipulation\n",
    "\n",
    "The overall goal of data preparation is to ensure that the data that will be used for the logistic regression model is complete, accurate, and efficiently used. If the data used to create and input into the model are garbage, garbage will be returned from the model. Some data manipulation tasks that need to be completed for data preparation to conduct logistic regression are:\n",
    "\n",
    "- Import the dataset\n",
    "- Identify and handle missing data\n",
    "- Identify and handle outliers or strange values\n",
    "- Transform categorical variables in numerical values and drop a selection for each categorical variable\n",
    "- Ensure the target variable is categorical"
   ]
  },
  {
   "cell_type": "markdown",
   "id": "39626aba",
   "metadata": {},
   "source": [
    "## C2: Summary Statistics\n",
    "\n",
    "The below statistical factors of the models will be needed to help answer the research question and were derived from the course textbook:\n",
    "\n",
    "- Coefficients of all predictor variables - the coefficients of each independent variable will need to be determined to build the logistic regression model.\n",
    "\n",
    "- Log-Likelihood - Effective for comparing models of the same data. A model with a log-likelihood closer to zero is a better candidate for fit. \n",
    "\n",
    "- p-values - these indicate the probability of observing the test statistic assuming the null hypothesis that the population coefficient is zero. Normally, p-values less than 0.5 indicate that the null hypothesis can be rejected and the statistic can be used in the model.\n",
    "\n",
    "- Pseudo R-squared statistic: The Pseudo R-squared statistic is an analogy to linear regressions R-squared but does not measure the proportion of variation in the dependent variable explained by the model. It is instead computed based on the ratio of the maximized log-likelihood function for the null model and the full model. Computed to be between 0 and 1, values closer to 1 indicate a better fitting model.\n",
    "\n",
    "- Variance inflation factor(VIF) - provides an index that measures how much the variance (the square of the estimate's standard deviation) of an estimated regression coefficient is increased because of collinearity.\n",
    "\n",
    "<b>Independent Variables</b>\n",
    "- Population              (Continuous)\n",
    "\n",
    "- Area                    (Categorical)\n",
    "\n",
    "- Children                (Continuous)\n",
    "- Age                     (Continuous)\n",
    "\n",
    "- Income                  (Continuous)\n",
    "\n",
    "- Marital                 (Categorical)\n",
    "\n",
    "- Gender                  (Categorical)\n",
    "\n",
    "- State                   (Categorical)\n",
    "\n",
    "- Outage_sec_perweek      (Continuous)\n",
    "\n",
    "- Email                   (Continuous)\n",
    "\n",
    "- Contract                (Categorical)\n",
    "\n",
    "- Contacts                (Continuous)\n",
    "\n",
    "- Yearly_equip_failure    (Continuous)\n",
    "\n",
    "- Techie                  (Categorical)\n",
    "\n",
    "- Tenure                  (Continuous)\n",
    "\n",
    "- Port_modem              (Categorical)\n",
    "\n",
    "- Tablet                  (Categorical)\n",
    "\n",
    "- InternetService         (Categorical)\n",
    "\n",
    "- Phone                   (Categorical)\n",
    "\n",
    "- Multiple                (Categorical)\n",
    "\n",
    "- OnlineSecurity          (Categorical)\n",
    "\n",
    "- OnlineBackup            (Categorical)\n",
    "\n",
    "- DeviceProtection        (Categorical)\n",
    "\n",
    "- TechSupport             (Categorical)\n",
    "\n",
    "- StreamingTV             (Categorical)\n",
    "\n",
    "- StreamingMovies         (Categorical)\n",
    "\n",
    "- PaperlessBilling        (Categorical)\n",
    "\n",
    "- PaymentMethod           (Categorical)\n",
    "\n",
    "- Tenure                  (Categorical)\n",
    "\n",
    "- MonthlyCharge           (Continuous)\n",
    "\n",
    "- Bandwidth_GB_Year       (Continuous)\n",
    "\n",
    "- Item1                   (Categorical)\n",
    "\n",
    "- Item2                   (Categorical)\n",
    "\n",
    "- Item3                   (Categorical)\n",
    "\n",
    "- Item4                   (Categorical)\n",
    "\n",
    "- Item5                   (Categorical)\n",
    "\n",
    "- Item6                   (Categorical)\n",
    "\n",
    "- Item7                   (Categorical)\n",
    "\n",
    "- Item8                   (Categorical)\n",
    "\n",
    "<b>Target Variable</b>\n",
    "\n",
    "- Churn                (Categorical)"
   ]
  },
  {
   "cell_type": "markdown",
   "id": "c3def445",
   "metadata": {},
   "source": [
    "## C3: Steps to Prepare the Data for Analysis "
   ]
  },
  {
   "cell_type": "code",
   "execution_count": 1,
   "id": "abd77afc",
   "metadata": {},
   "outputs": [],
   "source": [
    "#Load packages\n",
    "import numpy as np\n",
    "import pandas as pd\n",
    "import matplotlib.pyplot as plt\n",
    "import seaborn as sns\n",
    "\n",
    "import statsmodels.api as sm\n",
    "from sklearn.preprocessing import StandardScaler\n",
    "from sklearn import preprocessing\n",
    "from sklearn.model_selection import train_test_split\n",
    "from sklearn.pipeline import make_pipeline\n",
    "from statsmodels.stats.outliers_influence import variance_inflation_factor\n",
    "from sklearn.linear_model import LogisticRegression\n",
    "from sklearn.metrics import classification_report\n",
    "from sklearn.metrics import confusion_matrix\n",
    "\n",
    "\n",
    "%matplotlib inline"
   ]
  },
  {
   "cell_type": "markdown",
   "id": "a39e4803",
   "metadata": {},
   "source": [
    "### 1) Import the Original Dataset"
   ]
  },
  {
   "cell_type": "code",
   "execution_count": 2,
   "id": "6538cd9c",
   "metadata": {},
   "outputs": [],
   "source": [
    "#Load the dataset\n",
    "churn_clean = pd.read_csv(\"C:/Users/holtb/Data/WGU Datasets/churn_clean.csv\")"
   ]
  },
  {
   "cell_type": "code",
   "execution_count": 3,
   "id": "8ce426f9",
   "metadata": {},
   "outputs": [
    {
     "data": {
      "text/plain": [
       "50"
      ]
     },
     "execution_count": 3,
     "metadata": {},
     "output_type": "execute_result"
    }
   ],
   "source": [
    "len(churn_clean.columns)"
   ]
  },
  {
   "cell_type": "markdown",
   "id": "04c1523b",
   "metadata": {},
   "source": [
    "### 2) Drop Unused Variables and Convert Catergorical Variables"
   ]
  },
  {
   "cell_type": "code",
   "execution_count": 4,
   "id": "c48f12d4",
   "metadata": {},
   "outputs": [],
   "source": [
    "#Drop unused variables\n",
    "churn_model_data = churn_clean.drop(['CaseOrder','Customer_id','Interaction','UID','City','County','Lat','Lng',\n",
    "                  'TimeZone','Job','Zip'], axis=1)"
   ]
  },
  {
   "cell_type": "code",
   "execution_count": 5,
   "id": "21d65d52",
   "metadata": {},
   "outputs": [
    {
     "data": {
      "text/plain": [
       "39"
      ]
     },
     "execution_count": 5,
     "metadata": {},
     "output_type": "execute_result"
    }
   ],
   "source": [
    "len(churn_model_data.columns)"
   ]
  },
  {
   "cell_type": "code",
   "execution_count": 6,
   "id": "83ba42de",
   "metadata": {},
   "outputs": [],
   "source": [
    "#Converting Item# variables to categorical variables\n",
    "churn_model_data[['Item1','Item2','Item3',\n",
    "                  'Item4','Item5','Item6',\n",
    "                  'Item7','Item8']] = churn_model_data[['Item1','Item2','Item3',\n",
    "                                                        'Item4','Item5','Item6',\n",
    "                                                        'Item7','Item8']].astype('category')"
   ]
  },
  {
   "cell_type": "markdown",
   "id": "666b4671",
   "metadata": {},
   "source": [
    "### 3) Identify Missing Data"
   ]
  },
  {
   "cell_type": "code",
   "execution_count": 7,
   "id": "7db36edd",
   "metadata": {},
   "outputs": [
    {
     "data": {
      "text/plain": [
       "State                   False\n",
       "Population              False\n",
       "Area                    False\n",
       "Children                False\n",
       "Age                     False\n",
       "Income                  False\n",
       "Marital                 False\n",
       "Gender                  False\n",
       "Churn                   False\n",
       "Outage_sec_perweek      False\n",
       "Email                   False\n",
       "Contacts                False\n",
       "Yearly_equip_failure    False\n",
       "Techie                  False\n",
       "Contract                False\n",
       "Port_modem              False\n",
       "Tablet                  False\n",
       "InternetService         False\n",
       "Phone                   False\n",
       "Multiple                False\n",
       "OnlineSecurity          False\n",
       "OnlineBackup            False\n",
       "DeviceProtection        False\n",
       "TechSupport             False\n",
       "StreamingTV             False\n",
       "StreamingMovies         False\n",
       "PaperlessBilling        False\n",
       "PaymentMethod           False\n",
       "Tenure                  False\n",
       "MonthlyCharge           False\n",
       "Bandwidth_GB_Year       False\n",
       "Item1                   False\n",
       "Item2                   False\n",
       "Item3                   False\n",
       "Item4                   False\n",
       "Item5                   False\n",
       "Item6                   False\n",
       "Item7                   False\n",
       "Item8                   False\n",
       "dtype: bool"
      ]
     },
     "metadata": {},
     "output_type": "display_data"
    }
   ],
   "source": [
    "display(churn_model_data.isnull().any())"
   ]
  },
  {
   "cell_type": "markdown",
   "id": "b565a89f",
   "metadata": {},
   "source": [
    "### 4) Identify and Handle Outliers "
   ]
  },
  {
   "cell_type": "code",
   "execution_count": 8,
   "id": "f194506d",
   "metadata": {},
   "outputs": [],
   "source": [
    "#Dropping categorical variables \n",
    "churn_continuous_data = churn_model_data.drop(['Area','Marital','Gender','Churn', 'Techie','Contract', 'Port_modem', \n",
    "                                          'Tablet', 'InternetService', 'Phone', 'Multiple','OnlineSecurity', 'OnlineBackup',\n",
    "                                          'DeviceProtection','TechSupport','TechSupport', 'StreamingTV', 'StreamingMovies',\n",
    "                                          'PaperlessBilling','PaymentMethod','Item1','Item2','Item3','Item4','Item5','Item6',\n",
    "                                          'Item7','Item8'], axis=1)"
   ]
  },
  {
   "cell_type": "code",
   "execution_count": 9,
   "id": "154d52e6",
   "metadata": {},
   "outputs": [
    {
     "data": {
      "text/html": [
       "<div>\n",
       "<style scoped>\n",
       "    .dataframe tbody tr th:only-of-type {\n",
       "        vertical-align: middle;\n",
       "    }\n",
       "\n",
       "    .dataframe tbody tr th {\n",
       "        vertical-align: top;\n",
       "    }\n",
       "\n",
       "    .dataframe thead th {\n",
       "        text-align: right;\n",
       "    }\n",
       "</style>\n",
       "<table border=\"1\" class=\"dataframe\">\n",
       "  <thead>\n",
       "    <tr style=\"text-align: right;\">\n",
       "      <th></th>\n",
       "      <th>Population</th>\n",
       "      <th>Children</th>\n",
       "      <th>Age</th>\n",
       "      <th>Income</th>\n",
       "      <th>Outage_sec_perweek</th>\n",
       "      <th>Email</th>\n",
       "      <th>Contacts</th>\n",
       "      <th>Yearly_equip_failure</th>\n",
       "      <th>Tenure</th>\n",
       "      <th>MonthlyCharge</th>\n",
       "      <th>Bandwidth_GB_Year</th>\n",
       "    </tr>\n",
       "  </thead>\n",
       "  <tbody>\n",
       "    <tr>\n",
       "      <th>count</th>\n",
       "      <td>10000.000000</td>\n",
       "      <td>10000.0000</td>\n",
       "      <td>10000.000000</td>\n",
       "      <td>10000.000000</td>\n",
       "      <td>10000.000000</td>\n",
       "      <td>10000.000000</td>\n",
       "      <td>10000.000000</td>\n",
       "      <td>10000.000000</td>\n",
       "      <td>10000.000000</td>\n",
       "      <td>10000.000000</td>\n",
       "      <td>10000.000000</td>\n",
       "    </tr>\n",
       "    <tr>\n",
       "      <th>mean</th>\n",
       "      <td>9756.562400</td>\n",
       "      <td>2.0877</td>\n",
       "      <td>53.078400</td>\n",
       "      <td>39806.926771</td>\n",
       "      <td>10.001848</td>\n",
       "      <td>12.016000</td>\n",
       "      <td>0.994200</td>\n",
       "      <td>0.398000</td>\n",
       "      <td>34.526188</td>\n",
       "      <td>172.624816</td>\n",
       "      <td>3392.341550</td>\n",
       "    </tr>\n",
       "    <tr>\n",
       "      <th>std</th>\n",
       "      <td>14432.698671</td>\n",
       "      <td>2.1472</td>\n",
       "      <td>20.698882</td>\n",
       "      <td>28199.916702</td>\n",
       "      <td>2.976019</td>\n",
       "      <td>3.025898</td>\n",
       "      <td>0.988466</td>\n",
       "      <td>0.635953</td>\n",
       "      <td>26.443063</td>\n",
       "      <td>42.943094</td>\n",
       "      <td>2185.294852</td>\n",
       "    </tr>\n",
       "    <tr>\n",
       "      <th>min</th>\n",
       "      <td>0.000000</td>\n",
       "      <td>0.0000</td>\n",
       "      <td>18.000000</td>\n",
       "      <td>348.670000</td>\n",
       "      <td>0.099747</td>\n",
       "      <td>1.000000</td>\n",
       "      <td>0.000000</td>\n",
       "      <td>0.000000</td>\n",
       "      <td>1.000259</td>\n",
       "      <td>79.978860</td>\n",
       "      <td>155.506715</td>\n",
       "    </tr>\n",
       "    <tr>\n",
       "      <th>25%</th>\n",
       "      <td>738.000000</td>\n",
       "      <td>0.0000</td>\n",
       "      <td>35.000000</td>\n",
       "      <td>19224.717500</td>\n",
       "      <td>8.018214</td>\n",
       "      <td>10.000000</td>\n",
       "      <td>0.000000</td>\n",
       "      <td>0.000000</td>\n",
       "      <td>7.917694</td>\n",
       "      <td>139.979239</td>\n",
       "      <td>1236.470827</td>\n",
       "    </tr>\n",
       "    <tr>\n",
       "      <th>50%</th>\n",
       "      <td>2910.500000</td>\n",
       "      <td>1.0000</td>\n",
       "      <td>53.000000</td>\n",
       "      <td>33170.605000</td>\n",
       "      <td>10.018560</td>\n",
       "      <td>12.000000</td>\n",
       "      <td>1.000000</td>\n",
       "      <td>0.000000</td>\n",
       "      <td>35.430507</td>\n",
       "      <td>167.484700</td>\n",
       "      <td>3279.536903</td>\n",
       "    </tr>\n",
       "    <tr>\n",
       "      <th>75%</th>\n",
       "      <td>13168.000000</td>\n",
       "      <td>3.0000</td>\n",
       "      <td>71.000000</td>\n",
       "      <td>53246.170000</td>\n",
       "      <td>11.969485</td>\n",
       "      <td>14.000000</td>\n",
       "      <td>2.000000</td>\n",
       "      <td>1.000000</td>\n",
       "      <td>61.479795</td>\n",
       "      <td>200.734725</td>\n",
       "      <td>5586.141370</td>\n",
       "    </tr>\n",
       "    <tr>\n",
       "      <th>max</th>\n",
       "      <td>111850.000000</td>\n",
       "      <td>10.0000</td>\n",
       "      <td>89.000000</td>\n",
       "      <td>258900.700000</td>\n",
       "      <td>21.207230</td>\n",
       "      <td>23.000000</td>\n",
       "      <td>7.000000</td>\n",
       "      <td>6.000000</td>\n",
       "      <td>71.999280</td>\n",
       "      <td>290.160419</td>\n",
       "      <td>7158.981530</td>\n",
       "    </tr>\n",
       "  </tbody>\n",
       "</table>\n",
       "</div>"
      ],
      "text/plain": [
       "          Population    Children           Age         Income  \\\n",
       "count   10000.000000  10000.0000  10000.000000   10000.000000   \n",
       "mean     9756.562400      2.0877     53.078400   39806.926771   \n",
       "std     14432.698671      2.1472     20.698882   28199.916702   \n",
       "min         0.000000      0.0000     18.000000     348.670000   \n",
       "25%       738.000000      0.0000     35.000000   19224.717500   \n",
       "50%      2910.500000      1.0000     53.000000   33170.605000   \n",
       "75%     13168.000000      3.0000     71.000000   53246.170000   \n",
       "max    111850.000000     10.0000     89.000000  258900.700000   \n",
       "\n",
       "       Outage_sec_perweek         Email      Contacts  Yearly_equip_failure  \\\n",
       "count        10000.000000  10000.000000  10000.000000          10000.000000   \n",
       "mean            10.001848     12.016000      0.994200              0.398000   \n",
       "std              2.976019      3.025898      0.988466              0.635953   \n",
       "min              0.099747      1.000000      0.000000              0.000000   \n",
       "25%              8.018214     10.000000      0.000000              0.000000   \n",
       "50%             10.018560     12.000000      1.000000              0.000000   \n",
       "75%             11.969485     14.000000      2.000000              1.000000   \n",
       "max             21.207230     23.000000      7.000000              6.000000   \n",
       "\n",
       "             Tenure  MonthlyCharge  Bandwidth_GB_Year  \n",
       "count  10000.000000   10000.000000       10000.000000  \n",
       "mean      34.526188     172.624816        3392.341550  \n",
       "std       26.443063      42.943094        2185.294852  \n",
       "min        1.000259      79.978860         155.506715  \n",
       "25%        7.917694     139.979239        1236.470827  \n",
       "50%       35.430507     167.484700        3279.536903  \n",
       "75%       61.479795     200.734725        5586.141370  \n",
       "max       71.999280     290.160419        7158.981530  "
      ]
     },
     "execution_count": 9,
     "metadata": {},
     "output_type": "execute_result"
    }
   ],
   "source": [
    "churn_continuous_data.describe()"
   ]
  },
  {
   "cell_type": "code",
   "execution_count": 10,
   "id": "6895e08e",
   "metadata": {},
   "outputs": [
    {
     "data": {
      "text/plain": [
       "12"
      ]
     },
     "execution_count": 10,
     "metadata": {},
     "output_type": "execute_result"
    }
   ],
   "source": [
    "len(churn_continuous_data.columns)"
   ]
  },
  {
   "cell_type": "markdown",
   "id": "ffa3b7a1",
   "metadata": {},
   "source": [
    "### 5)Transform Categorical Data"
   ]
  },
  {
   "cell_type": "code",
   "execution_count": 11,
   "id": "e9c67c1e",
   "metadata": {},
   "outputs": [
    {
     "data": {
      "text/html": [
       "<div>\n",
       "<style scoped>\n",
       "    .dataframe tbody tr th:only-of-type {\n",
       "        vertical-align: middle;\n",
       "    }\n",
       "\n",
       "    .dataframe tbody tr th {\n",
       "        vertical-align: top;\n",
       "    }\n",
       "\n",
       "    .dataframe thead th {\n",
       "        text-align: right;\n",
       "    }\n",
       "</style>\n",
       "<table border=\"1\" class=\"dataframe\">\n",
       "  <thead>\n",
       "    <tr style=\"text-align: right;\">\n",
       "      <th></th>\n",
       "      <th>State</th>\n",
       "      <th>Population</th>\n",
       "      <th>Children</th>\n",
       "      <th>Age</th>\n",
       "      <th>Income</th>\n",
       "      <th>Outage_sec_perweek</th>\n",
       "      <th>Email</th>\n",
       "      <th>Contacts</th>\n",
       "      <th>Yearly_equip_failure</th>\n",
       "      <th>PaymentMethod</th>\n",
       "      <th>Tenure</th>\n",
       "      <th>MonthlyCharge</th>\n",
       "      <th>Bandwidth_GB_Year</th>\n",
       "    </tr>\n",
       "  </thead>\n",
       "  <tbody>\n",
       "    <tr>\n",
       "      <th>0</th>\n",
       "      <td>AK</td>\n",
       "      <td>38</td>\n",
       "      <td>0</td>\n",
       "      <td>68</td>\n",
       "      <td>28561.99</td>\n",
       "      <td>7.978323</td>\n",
       "      <td>10</td>\n",
       "      <td>0</td>\n",
       "      <td>1</td>\n",
       "      <td>Credit Card (automatic)</td>\n",
       "      <td>6.795513</td>\n",
       "      <td>172.455519</td>\n",
       "      <td>904.536110</td>\n",
       "    </tr>\n",
       "    <tr>\n",
       "      <th>1</th>\n",
       "      <td>MI</td>\n",
       "      <td>10446</td>\n",
       "      <td>1</td>\n",
       "      <td>27</td>\n",
       "      <td>21704.77</td>\n",
       "      <td>11.699080</td>\n",
       "      <td>12</td>\n",
       "      <td>0</td>\n",
       "      <td>1</td>\n",
       "      <td>Bank Transfer(automatic)</td>\n",
       "      <td>1.156681</td>\n",
       "      <td>242.632554</td>\n",
       "      <td>800.982766</td>\n",
       "    </tr>\n",
       "    <tr>\n",
       "      <th>2</th>\n",
       "      <td>OR</td>\n",
       "      <td>3735</td>\n",
       "      <td>4</td>\n",
       "      <td>50</td>\n",
       "      <td>9609.57</td>\n",
       "      <td>10.752800</td>\n",
       "      <td>9</td>\n",
       "      <td>0</td>\n",
       "      <td>1</td>\n",
       "      <td>Credit Card (automatic)</td>\n",
       "      <td>15.754144</td>\n",
       "      <td>159.947583</td>\n",
       "      <td>2054.706961</td>\n",
       "    </tr>\n",
       "    <tr>\n",
       "      <th>3</th>\n",
       "      <td>CA</td>\n",
       "      <td>13863</td>\n",
       "      <td>1</td>\n",
       "      <td>48</td>\n",
       "      <td>18925.23</td>\n",
       "      <td>14.913540</td>\n",
       "      <td>15</td>\n",
       "      <td>2</td>\n",
       "      <td>0</td>\n",
       "      <td>Mailed Check</td>\n",
       "      <td>17.087227</td>\n",
       "      <td>119.956840</td>\n",
       "      <td>2164.579412</td>\n",
       "    </tr>\n",
       "    <tr>\n",
       "      <th>4</th>\n",
       "      <td>TX</td>\n",
       "      <td>11352</td>\n",
       "      <td>0</td>\n",
       "      <td>83</td>\n",
       "      <td>40074.19</td>\n",
       "      <td>8.147417</td>\n",
       "      <td>16</td>\n",
       "      <td>2</td>\n",
       "      <td>1</td>\n",
       "      <td>Mailed Check</td>\n",
       "      <td>1.670972</td>\n",
       "      <td>149.948316</td>\n",
       "      <td>271.493436</td>\n",
       "    </tr>\n",
       "  </tbody>\n",
       "</table>\n",
       "</div>"
      ],
      "text/plain": [
       "  State  Population  Children  Age    Income  Outage_sec_perweek  Email  \\\n",
       "0    AK          38         0   68  28561.99            7.978323     10   \n",
       "1    MI       10446         1   27  21704.77           11.699080     12   \n",
       "2    OR        3735         4   50   9609.57           10.752800      9   \n",
       "3    CA       13863         1   48  18925.23           14.913540     15   \n",
       "4    TX       11352         0   83  40074.19            8.147417     16   \n",
       "\n",
       "   Contacts  Yearly_equip_failure             PaymentMethod     Tenure  \\\n",
       "0         0                     1   Credit Card (automatic)   6.795513   \n",
       "1         0                     1  Bank Transfer(automatic)   1.156681   \n",
       "2         0                     1   Credit Card (automatic)  15.754144   \n",
       "3         2                     0              Mailed Check  17.087227   \n",
       "4         2                     1              Mailed Check   1.670972   \n",
       "\n",
       "   MonthlyCharge  Bandwidth_GB_Year  \n",
       "0     172.455519         904.536110  \n",
       "1     242.632554         800.982766  \n",
       "2     159.947583        2054.706961  \n",
       "3     119.956840        2164.579412  \n",
       "4     149.948316         271.493436  "
      ]
     },
     "execution_count": 11,
     "metadata": {},
     "output_type": "execute_result"
    }
   ],
   "source": [
    "churn_categorical_data = churn_model_data.drop(['Area','Marital','Gender','Churn', 'Techie','Contract', 'Port_modem', \n",
    "                                          'Tablet', 'InternetService', 'Phone', 'Multiple','OnlineSecurity', 'OnlineBackup',\n",
    "                                          'DeviceProtection','TechSupport','TechSupport', 'StreamingTV', 'StreamingMovies',\n",
    "                                          'PaperlessBilling','Item1','Item2','Item3','Item4','Item5','Item6','Item7',\n",
    "                                          'Item8'], axis =1)\n",
    "\n",
    "churn_categorical_data.head()"
   ]
  },
  {
   "cell_type": "code",
   "execution_count": 12,
   "id": "8d0ff801",
   "metadata": {},
   "outputs": [],
   "source": [
    "#Transform categorical variables to numeric using dummy variables\n",
    "churn_model_transdata = pd.get_dummies(churn_model_data, columns = ['State','Area','Marital','Gender','Churn','PaymentMethod',\n",
    "                                                                    'Techie','Contract','Port_modem', 'Tablet', \n",
    "                                                                    'InternetService','Phone','Multiple','OnlineSecurity', \n",
    "                                                                    'OnlineBackup','DeviceProtection','TechSupport',\n",
    "                                                                    'StreamingTV', 'StreamingMovies', \n",
    "                                                                    'PaperlessBilling','Item1','Item2','Item3','Item4',\n",
    "                                                                    'Item5','Item6','Item7','Item8'])"
   ]
  },
  {
   "cell_type": "code",
   "execution_count": 13,
   "id": "ab587d1e",
   "metadata": {},
   "outputs": [
    {
     "name": "stdout",
     "output_type": "stream",
     "text": [
      "Population\n",
      "Children\n",
      "Age\n",
      "Income\n",
      "Outage_sec_perweek\n",
      "Email\n",
      "Contacts\n",
      "Yearly_equip_failure\n",
      "Tenure\n",
      "MonthlyCharge\n",
      "Bandwidth_GB_Year\n",
      "State_AK\n",
      "State_AL\n",
      "State_AR\n",
      "State_AZ\n",
      "State_CA\n",
      "State_CO\n",
      "State_CT\n",
      "State_DC\n",
      "State_DE\n",
      "State_FL\n",
      "State_GA\n",
      "State_HI\n",
      "State_IA\n",
      "State_ID\n",
      "State_IL\n",
      "State_IN\n",
      "State_KS\n",
      "State_KY\n",
      "State_LA\n",
      "State_MA\n",
      "State_MD\n",
      "State_ME\n",
      "State_MI\n",
      "State_MN\n",
      "State_MO\n",
      "State_MS\n",
      "State_MT\n",
      "State_NC\n",
      "State_ND\n",
      "State_NE\n",
      "State_NH\n",
      "State_NJ\n",
      "State_NM\n",
      "State_NV\n",
      "State_NY\n",
      "State_OH\n",
      "State_OK\n",
      "State_OR\n",
      "State_PA\n",
      "State_PR\n",
      "State_RI\n",
      "State_SC\n",
      "State_SD\n",
      "State_TN\n",
      "State_TX\n",
      "State_UT\n",
      "State_VA\n",
      "State_VT\n",
      "State_WA\n",
      "State_WI\n",
      "State_WV\n",
      "State_WY\n",
      "Area_Rural\n",
      "Area_Suburban\n",
      "Area_Urban\n",
      "Marital_Divorced\n",
      "Marital_Married\n",
      "Marital_Never Married\n",
      "Marital_Separated\n",
      "Marital_Widowed\n",
      "Gender_Female\n",
      "Gender_Male\n",
      "Gender_Nonbinary\n",
      "Churn_No\n",
      "Churn_Yes\n",
      "PaymentMethod_Bank Transfer(automatic)\n",
      "PaymentMethod_Credit Card (automatic)\n",
      "PaymentMethod_Electronic Check\n",
      "PaymentMethod_Mailed Check\n",
      "Techie_No\n",
      "Techie_Yes\n",
      "Contract_Month-to-month\n",
      "Contract_One year\n",
      "Contract_Two Year\n",
      "Port_modem_No\n",
      "Port_modem_Yes\n",
      "Tablet_No\n",
      "Tablet_Yes\n",
      "InternetService_DSL\n",
      "InternetService_Fiber Optic\n",
      "InternetService_None\n",
      "Phone_No\n",
      "Phone_Yes\n",
      "Multiple_No\n",
      "Multiple_Yes\n",
      "OnlineSecurity_No\n",
      "OnlineSecurity_Yes\n",
      "OnlineBackup_No\n",
      "OnlineBackup_Yes\n",
      "DeviceProtection_No\n",
      "DeviceProtection_Yes\n",
      "TechSupport_No\n",
      "TechSupport_Yes\n",
      "StreamingTV_No\n",
      "StreamingTV_Yes\n",
      "StreamingMovies_No\n",
      "StreamingMovies_Yes\n",
      "PaperlessBilling_No\n",
      "PaperlessBilling_Yes\n",
      "Item1_1\n",
      "Item1_2\n",
      "Item1_3\n",
      "Item1_4\n",
      "Item1_5\n",
      "Item1_6\n",
      "Item1_7\n",
      "Item2_1\n",
      "Item2_2\n",
      "Item2_3\n",
      "Item2_4\n",
      "Item2_5\n",
      "Item2_6\n",
      "Item2_7\n",
      "Item3_1\n",
      "Item3_2\n",
      "Item3_3\n",
      "Item3_4\n",
      "Item3_5\n",
      "Item3_6\n",
      "Item3_7\n",
      "Item3_8\n",
      "Item4_1\n",
      "Item4_2\n",
      "Item4_3\n",
      "Item4_4\n",
      "Item4_5\n",
      "Item4_6\n",
      "Item4_7\n",
      "Item5_1\n",
      "Item5_2\n",
      "Item5_3\n",
      "Item5_4\n",
      "Item5_5\n",
      "Item5_6\n",
      "Item5_7\n",
      "Item6_1\n",
      "Item6_2\n",
      "Item6_3\n",
      "Item6_4\n",
      "Item6_5\n",
      "Item6_6\n",
      "Item6_7\n",
      "Item6_8\n",
      "Item7_1\n",
      "Item7_2\n",
      "Item7_3\n",
      "Item7_4\n",
      "Item7_5\n",
      "Item7_6\n",
      "Item7_7\n",
      "Item8_1\n",
      "Item8_2\n",
      "Item8_3\n",
      "Item8_4\n",
      "Item8_5\n",
      "Item8_6\n",
      "Item8_7\n",
      "Item8_8\n"
     ]
    }
   ],
   "source": [
    "#Show current columns\n",
    "for col in churn_model_transdata.columns:\n",
    "    print(col)"
   ]
  },
  {
   "cell_type": "code",
   "execution_count": 14,
   "id": "892ce500",
   "metadata": {},
   "outputs": [],
   "source": [
    "#Dropping one column per catergorical variable to meet n-1 requirements\n",
    "churn_LRM_data = churn_model_transdata.drop(['State_AK','Area_Rural','Marital_Widowed','Gender_Nonbinary','Techie_No',\n",
    "                                            'Contract_Two Year','Port_modem_No','Tablet_No','InternetService_None',\n",
    "                                            'Phone_No','Multiple_No','OnlineSecurity_No','DeviceProtection_No','TechSupport_No',\n",
    "                                            'StreamingTV_No', 'StreamingMovies_No','PaperlessBilling_No','Item1_1','Item2_1',\n",
    "                                            'Item3_1','Item4_1','Item5_1','Item6_1','Item7_1','Item8_1',\n",
    "                                             'PaymentMethod_Bank Transfer(automatic)','Churn_No','OnlineBackup_No'], axis = 1)"
   ]
  },
  {
   "cell_type": "markdown",
   "id": "1de53da7",
   "metadata": {},
   "source": [
    "## C4: Univariate and Bivariate Visualizations"
   ]
  },
  {
   "cell_type": "code",
   "execution_count": 16,
   "id": "eed11709",
   "metadata": {},
   "outputs": [
    {
     "data": {
      "image/png": "[encoded data removed]",
      "text/plain": [
       "<Figure size 720x432 with 4 Axes>"
      ]
     },
     "metadata": {
      "needs_background": "light"
     },
     "output_type": "display_data"
    }
   ],
   "source": [
    "fig, axs = plt.subplots(2,2, figsize=(10,6))\n",
    "plt.tight_layout()\n",
    "\n",
    "sns.boxplot(x =\"Population\",\n",
    "            data = churn_continuous_data,\n",
    "            ax = axs[0,0])\n",
    "sns.boxplot(x=\"Income\",\n",
    "            data = churn_continuous_data,\n",
    "            ax = axs[0,1])\n",
    "\n",
    "sns.boxplot(x=\"Outage_sec_perweek\",\n",
    "            data = churn_continuous_data,\n",
    "            ax = axs[1,0])\n",
    "\n",
    "sns.boxplot(x=\"MonthlyCharge\",\n",
    "            data = churn_continuous_data,\n",
    "            ax = axs[1,1]);"
   ]
  },
  {
   "cell_type": "code",
   "execution_count": null,
   "id": "b4964b40",
   "metadata": {},
   "outputs": [],
   "source": [
    "fig, axs = plt.subplots(1,2, figsize=(10,6))\n",
    "plt.tight_layout()\n",
    "\n",
    "sns.regplot(x='Tenure', \n",
    "            y='Churn_Yes', \n",
    "            data=churn_LRM_data, \n",
    "            logistic=True,\n",
    "            ax = axs[0] )\n",
    "\n",
    "sns.regplot(x='MonthlyCharge',\n",
    "            y='Churn_Yes', \n",
    "            data=churn_LRM_data,\n",
    "            logistic=True,\n",
    "            ax = axs[1]);"
   ]
  },
  {
   "cell_type": "markdown",
   "id": "399b3928",
   "metadata": {},
   "source": [
    "## C5: Copy of Prepared Dataset"
   ]
  },
  {
   "cell_type": "code",
   "execution_count": null,
   "id": "ffabf8d8",
   "metadata": {},
   "outputs": [],
   "source": [
    "churn_LRM_data.to_csv('C:/Users/holtb/Data/D208/Task 2/churn_LRM_data.csv')"
   ]
  },
  {
   "cell_type": "markdown",
   "id": "d0e76064",
   "metadata": {},
   "source": [
    "# Part IV: Model Comparison And Analysis"
   ]
  },
  {
   "cell_type": "markdown",
   "id": "d08ac09e",
   "metadata": {},
   "source": [
    "## Initial Model:"
   ]
  },
  {
   "cell_type": "code",
   "execution_count": null,
   "id": "8b0624c8",
   "metadata": {
    "scrolled": true
   },
   "outputs": [],
   "source": [
    "X = churn_LRM_data.drop(['Churn_Yes'], axis=1)\n",
    "y = churn_LRM_data['Churn_Yes'] "
   ]
  },
  {
   "cell_type": "code",
   "execution_count": null,
   "id": "f44ab959",
   "metadata": {},
   "outputs": [],
   "source": [
    "#define the input\n",
    "X2 = sm.add_constant(X)\n",
    "\n",
    "#create an Logistic Regression Model\n",
    "initial_model = sm.Logit(y.astype(\"float64\"), X2.astype(\"float64\"))\n",
    "\n",
    "#fit the data\n",
    "initial_est = initial_model.fit()\n",
    "\n",
    "#Summarize the output\n",
    "initial_est.summary()"
   ]
  },
  {
   "cell_type": "markdown",
   "id": "ba86f54c",
   "metadata": {},
   "source": [
    "### Multicollinearity\n",
    "The initial model had significant issues due to the multicollinearity between independent variables within the model. By calculating the variance inflation factors(VIF), variables with multicollinearity can be identified. Any variables calculated above 10 were removed one at a time and the VIFs were recalculated until all VIFs were below 10."
   ]
  },
  {
   "cell_type": "code",
   "execution_count": null,
   "id": "a25d3f27",
   "metadata": {},
   "outputs": [],
   "source": [
    "# creating the data frames before and after removing variables that are creating multicollinearity\n",
    "churn_data_before = churn_LRM_data.drop(['Churn_Yes'], axis=1)\n",
    "\n",
    "# adding a constant to the data frames as required for the VIF calculation\n",
    "A1 = sm.tools.add_constant(churn_data_before)\n",
    "\n",
    "# create the series \n",
    "series_before = pd.Series([variance_inflation_factor(A1.values, i) for i in range(A1.shape[1])], index=A1.columns)\n",
    "\n",
    "# display the series\n",
    "print('-'*100)\n",
    "print('Data Before Removing Target and Redundant Variables')\n",
    "print('-'*100)\n",
    "pd.options.display.max_rows = 145\n",
    "pd.set_option('display.float_format', '{:.2f}'.format)\n",
    "display(series_before)"
   ]
  },
  {
   "cell_type": "code",
   "execution_count": null,
   "id": "7410bae9",
   "metadata": {},
   "outputs": [],
   "source": [
    "# creating the data frames before and after removing variables that are creating multicollinearity\n",
    "churn_data_after = churn_LRM_data.drop(['Churn_Yes','Bandwidth_GB_Year','Gender_Female','Item1_3','Item2_4','Item5_4',\n",
    "                                        'Item8_4','Item6_3','Item3_3','Item4_3','Item7_3','MonthlyCharge'], axis=1)\n",
    "\n",
    "# adding a constant to the data frames as required for the VIF calculation\n",
    "A2 = sm.tools.add_constant(churn_data_after)\n",
    "\n",
    "# create the series \n",
    "series_after = pd.Series([variance_inflation_factor(A2.values, i) for i in range(A2.shape[1])], index=A2.columns)\n",
    "\n",
    "# display the series\n",
    "print('-'*100)\n",
    "print('Data After Removing Target and Redundant Variables')\n",
    "print('-'*100)\n",
    "pd.options.display.max_rows = 145\n",
    "pd.set_option('display.float_format', '{:.2f}'.format)\n",
    "display(series_after)"
   ]
  },
  {
   "cell_type": "code",
   "execution_count": null,
   "id": "606de278",
   "metadata": {},
   "outputs": [],
   "source": [
    "#Dropped target variable and indpendent variables causing multicollinarity issues\n",
    "X_next = churn_LRM_data.drop(['Churn_Yes','Bandwidth_GB_Year','Gender_Female','Item1_3','Item2_4','Item5_4','Item8_4',\n",
    "                          'Item6_3','Item3_3','Item4_3','Item7_3','MonthlyCharge'], axis=1)\n",
    "\n",
    "y = churn_LRM_data['Churn_Yes'] "
   ]
  },
  {
   "cell_type": "code",
   "execution_count": null,
   "id": "10608bc3",
   "metadata": {},
   "outputs": [],
   "source": [
    "#define the input\n",
    "X_next = sm.add_constant(X_next)\n",
    "\n",
    "#create an Logistic Regression Model\n",
    "next_model = sm.Logit(y.astype(\"float64\"), X_next.astype(\"float64\"))\n",
    "\n",
    "#fit the data\n",
    "next_est = next_model.fit()\n",
    "\n",
    "#Summarize the output\n",
    "next_est.summary()"
   ]
  },
  {
   "cell_type": "markdown",
   "id": "d19d5849",
   "metadata": {},
   "source": [
    "### P-Values > .05\n",
    "\n",
    "Next, all variables with non-significant p-values were removed from the model. Starting with the highest p-value and using a p-value of .05 as the alpha, each variable was removed one at a time (backwards stepwise) and the model reran until all p-values were of significant value. "
   ]
  },
  {
   "cell_type": "code",
   "execution_count": null,
   "id": "689271fb",
   "metadata": {},
   "outputs": [],
   "source": [
    "X_next2 = churn_LRM_data.drop(['Churn_Yes','Bandwidth_GB_Year','Gender_Female','Item1_3','Item2_4','Item5_4','Item8_4',\n",
    "                           'Item6_3','Item3_3','Item4_3','Item7_3','MonthlyCharge','Item8_8','State_VA', 'Item6_8',\n",
    "                           'Item3_8','Item7_5','Item8_2','Item2_2','State_AZ','State_ME','State_ND','State_UT','State_CO',\n",
    "                           'State_HI','State_CT','Item5_3','Item1_4','Item1_5','Item1_7','Item7_6','Item4_5','Item2_6',\n",
    "                           'Item5_6','Item5_5','Population','Outage_sec_perweek','Income','State_ID','State_KY','State_IN',\n",
    "                           'State_LA','State_MD','State_PR','Item1_6','Item8_7','Item6_7','Item3_5','Item2_5','State_AL',\n",
    "                           'State_MI','State_MS','State_NJ','State_IA','State_MN','State_KS','State_NC','State_SC',\n",
    "                           'State_WI','State_NE','State_WY','State_GA','Item4_4','Item8_5','Item6_5','Item3_7','Item8_6',\n",
    "                           'Item8_3','Item8_3','Item2_7','Item6_6','Item7_2','Item3_2','Tablet_Yes','Contract_One year',\n",
    "                           'State_CA','State_IL','State_NH','Area_Suburban','Yearly_equip_failure','Age','State_MA',\n",
    "                           'State_MO','State_OK','State_OH','State_TX','Marital_Separated','State_PA','State_NV',\n",
    "                           'Area_Urban','State_NV','State_DE','State_WA','State_PA','State_DC','Children','Email','Contacts',\n",
    "                           'State_VT','State_AR','State_FL','State_MT','Marital_Married',\n",
    "                           'PaymentMethod_Credit Card (automatic)','InternetService_Fiber Optic','Item7_7','Item5_2',\n",
    "                           'Item3_4','Item2_3','Item6_4','Item6_2','Item4_7','Item4_6','Item1_2','Item4_2',\n",
    "                           'OnlineSecurity_Yes','Port_modem_Yes','PaymentMethod_Mailed Check','Marital_Never Married',\n",
    "                           'Marital_Divorced','State_OR','State_SD','State_NM','State_NY','PaperlessBilling_Yes',\n",
    "                           'Item3_6','State_TN','State_RI','State_WV','Phone_Yes','Item5_7'], axis=1)\n",
    "\n",
    "y = churn_LRM_data['Churn_Yes'] \n",
    "\n",
    "#define the input\n",
    "X_next2 = sm.add_constant(X_next2)\n",
    "\n",
    "# Split X and y into X_\n",
    "X_train, X_test, Y_train, Y_test = train_test_split(X_next2, y, test_size=0.33, random_state=1)"
   ]
  },
  {
   "cell_type": "code",
   "execution_count": null,
   "id": "ac18d893",
   "metadata": {},
   "outputs": [],
   "source": [
    "#create an Logistic Regression Model\n",
    "next2_model = sm.Logit(Y_train.astype(\"float64\"), X_train.astype(\"float64\"))\n",
    "\n",
    "#fit the data\n",
    "next2_est = next2_model.fit()\n",
    "\n",
    "#Summarize the output\n",
    "next2_est.summary()"
   ]
  },
  {
   "cell_type": "markdown",
   "id": "e03fc109",
   "metadata": {},
   "source": [
    "### Reduced Model\n",
    "With mulitcollinearity issues and insignificant variables removed the final model is created:"
   ]
  },
  {
   "cell_type": "code",
   "execution_count": null,
   "id": "efcf3e51",
   "metadata": {},
   "outputs": [],
   "source": [
    "X_final = X_next2\n",
    "y = churn_LRM_data['Churn_Yes'] \n",
    "\n",
    "#define the input\n",
    "X_final = sm.add_constant(X_next2)\n",
    "\n",
    "# Split X and y into X_\n",
    "X_train, X_test, Y_train, Y_test = train_test_split(X_final, y, test_size=0.33, random_state=1)"
   ]
  },
  {
   "cell_type": "code",
   "execution_count": null,
   "id": "c3c7f3a7",
   "metadata": {},
   "outputs": [],
   "source": [
    "#create an Logistic Regression Model\n",
    "final_model = sm.Logit(Y_train.astype(\"float64\"), X_train.astype(\"float64\"))\n",
    "\n",
    "#fit the data\n",
    "final_est = final_model.fit()\n",
    "\n",
    "#Summarize the output\n",
    "final_est.summary()"
   ]
  },
  {
   "cell_type": "markdown",
   "id": "f30ee38f",
   "metadata": {},
   "source": [
    "### Part E: Analyze the Dataset Using the Reduced Logistic Regression Model\n",
    "\n",
    "E1: The logic of the variable selection technique was explained in part IV as the variables were removed. The backwards stepwise method was used. Although not the best method to use according to Stoltzfus, it was chosen because of the requirement to have an intial model with all variables listed in part C2. In general, variables were removed to meet logistic model assumptions and ensure the variables were not overfitted by using only significant variables in the model. \n",
    "\n",
    "E2: The following model evaluation metrics are used to compare the initial and reduced model:\n",
    "\n",
    "- Converged: The initial model did not converge where as the reduced model did. This suggest that the reduced model is superior.\n",
    "\n",
    "- Log-Likelihood: While still significantly well away from 0 in the reduced model, the log-likeihood is much closer to zero than in the initial model, indicating a better fit.\n",
    "\n",
    "- Psuedo R-squared: The psuedo R-squared of the reduced model is slightly lower than the initial model, however, when combined with the other comparing factors above, the reducted value is insignificant. \n",
    "\n",
    "- Model Accuracy Score: Both model's accuracy scores were similar, with a only slightly higher score of the initial model. \n",
    "\n",
    "- Precision and Recall: Precision is the ability of a model not to label an instance positive that is actually negative, whereas Recall is the ability of a model to find all positive instances. Again, both models precision and recall scores were very similar.\n",
    "\n",
    "- F1 Score: The F1 score is a weighted harmonic mean of precision and recall with 1.0 being the best and 0.0 being the worst. As a rule of thumb, the weighted average of F1 should be used to compare classifier models, not global accuracy. (Muthukrishnan, 2018) The inital model's F1 score is slightly high than the reduced model. However, other important previously mentioned factors need to be accounted for as well. \n",
    "\n",
    "- Confusion Matrix: Both model's confusion matrixs were again relatively the same showing a high degree of prediction accuracy."
   ]
  },
  {
   "cell_type": "markdown",
   "id": "4e60cb15",
   "metadata": {},
   "source": [
    "#### Initial Model Evaluation"
   ]
  },
  {
   "cell_type": "code",
   "execution_count": null,
   "id": "74446955",
   "metadata": {},
   "outputs": [],
   "source": [
    "pipe = make_pipeline(StandardScaler(), LogisticRegression())"
   ]
  },
  {
   "cell_type": "code",
   "execution_count": null,
   "id": "3f719158",
   "metadata": {},
   "outputs": [],
   "source": [
    "pipe.fit(X2, y)"
   ]
  },
  {
   "cell_type": "code",
   "execution_count": null,
   "id": "5b216710",
   "metadata": {},
   "outputs": [],
   "source": [
    "initial_predictions = pipe.predict(X2)"
   ]
  },
  {
   "cell_type": "code",
   "execution_count": null,
   "id": "7b4af95b",
   "metadata": {},
   "outputs": [],
   "source": [
    "pipe.score(X2, y)"
   ]
  },
  {
   "cell_type": "code",
   "execution_count": null,
   "id": "8753b56b",
   "metadata": {},
   "outputs": [],
   "source": [
    "print(classification_report(y, initial_predictions))"
   ]
  },
  {
   "cell_type": "code",
   "execution_count": null,
   "id": "b0db55f7",
   "metadata": {},
   "outputs": [],
   "source": [
    "print(confusion_matrix(y, initial_predictions))"
   ]
  },
  {
   "cell_type": "code",
   "execution_count": null,
   "id": "b5b8ec8e",
   "metadata": {},
   "outputs": [],
   "source": [
    "plt.matshow(confusion_matrix(y, initial_predictions))\n",
    "plt.title('Confusion matrix')\n",
    "plt.colorbar()\n",
    "plt.ylabel('True label')\n",
    "plt.xlabel('Predicted label')\n",
    "plt.show()"
   ]
  },
  {
   "cell_type": "markdown",
   "id": "5373524a",
   "metadata": {},
   "source": [
    "#### Reduced Model Evaluation"
   ]
  },
  {
   "cell_type": "code",
   "execution_count": null,
   "id": "154f3ea1",
   "metadata": {},
   "outputs": [],
   "source": [
    "pipe.fit(X_train, Y_train) \n",
    "pipe.score(X_train, Y_train)"
   ]
  },
  {
   "cell_type": "code",
   "execution_count": null,
   "id": "718f4a8e",
   "metadata": {},
   "outputs": [],
   "source": [
    "pipe.fit(X_test, Y_test)\n",
    "pipe.score(X_test, Y_test)"
   ]
  },
  {
   "cell_type": "code",
   "execution_count": null,
   "id": "2edb1714",
   "metadata": {},
   "outputs": [],
   "source": [
    "predictions = pipe.predict(X_test)"
   ]
  },
  {
   "cell_type": "code",
   "execution_count": null,
   "id": "21877abd",
   "metadata": {},
   "outputs": [],
   "source": [
    "print(classification_report(Y_test, predictions))"
   ]
  },
  {
   "cell_type": "code",
   "execution_count": null,
   "id": "1324360c",
   "metadata": {},
   "outputs": [],
   "source": [
    "print(confusion_matrix(Y_test, predictions))"
   ]
  },
  {
   "cell_type": "code",
   "execution_count": null,
   "id": "b6129990",
   "metadata": {},
   "outputs": [],
   "source": [
    "plt.matshow(confusion_matrix(Y_test, predictions))\n",
    "plt.title('Confusion matrix')\n",
    "plt.colorbar()\n",
    "plt.ylabel('True label')\n",
    "plt.xlabel('Predicted label')\n",
    "plt.show()"
   ]
  },
  {
   "cell_type": "markdown",
   "id": "8373167f",
   "metadata": {},
   "source": [
    "# Part V: Data Summary and Implications"
   ]
  },
  {
   "cell_type": "markdown",
   "id": "6d0aa982",
   "metadata": {},
   "source": [
    "### F1: Results of the Data Analysis\n",
    "\n",
    "<b>Logistic Regression equation:</b>\n",
    "\n",
    "$p = \\frac{e^{-0.1118x_{1} + 0.2758x_{2} + 0.4425x_{3} + 1.0323x_{4} + 3.3991x_{5}+ 1.3765x_{6}+ 1.6914x_{7}+ 0.9048x_{8}+ 0.4886x_{9}+ 0.1980x_{10}+ 2.9585x_{11}+ 3.5135x_{12} - 0.1711x_{13} - 6.7039}}{1 + e^{-0.1118x_{1} + 0.2758x_{2} + 0.4425x_{3} + 1.0323x_{4} + 3.3991x_{5}+ 1.3765x_{6}+ 1.6914x_{7}+ 0.9048x_{8}+ 0.4886x_{9}+ 0.1980x_{10}+ 2.9585x_{11}+ 3.5135x_{12} - 0.1711x_{13} - 6.7039}}$\n",
    "\n",
    "where\n",
    "\n",
    "<b>Interpretation of coefficients that were statistically significant:</b>\n",
    "\n",
    "$x_{1}=$ Tenure - As the only continuous variable in the model, this coefficient reduces the log(odds) that the customer will churn by -0.1118 for each month the customer remains a customer. For example, a customer with a tenure of 12 months will have a reduced log(odds) of churning -0.1118 * 12 = -1.3416  whereas a customer with 24 months tenure will have a reduced log(odds) of churning by -2.6832. This suggests that the longer a customer stays a customer, the probability of that customer churning decreases.\n",
    "\n",
    "$x_{2}=$ Gender_Male - Male customers log(odds) of churning are increased by 0.2758.\n",
    "\n",
    "$x_{3}=$ PaymentMethod_Electronic Check - Customers who use electronic check as a payment method log(odds) of churning are increased by 0.4425.\n",
    "\n",
    "$x_{4}=$ Techie_Yes - Customer's who consider themselves \"Techies\" increase the log(odds) of churning by 1.0323.\n",
    "\n",
    "$x_{5}=$ Contract_Month-to-month - Customers who are on month-to-month service contracts have an increased log(odds) of churning by 3.3991. \n",
    "\n",
    "$x_{6}=$ InternetService_DSL - Customers with DSL service have an increased log(odds) of churning of 1.3765.\n",
    "\n",
    "$x_{7}=$ Multiple_Yes - Customers with multiple phone lines have an increased log(odds) of churning of 1.6914.\n",
    "\n",
    "$x_{8}=$ OnlineBackup_Yes - Customers with OnlineBackup service add-on have an increased log(odds) of churning of 0.9048.\n",
    "\n",
    "$x_{9}=$ DeviceProtection_Yes - Customers with DeviceProtection service add-on have an increased log(odds) of churning of 0.4886\n",
    "\n",
    "$x_{10}=$ TechSupport_Yes - Customers with TechSupport service add-on have an increased log(odds) of churning of 0.1980\n",
    "\n",
    "$x_{11}=$ StreamingTV_Yes - Customers with StreamingTV service add-on have an increased log(odds) of churning of 2.9585.\n",
    "\n",
    "$x_{12}=$ StreamingMovies_Yes - Customers with StreamingMovies service add-on have an increased log(odds) of churning of 3.5135.\n",
    "\n",
    "$x_{13}=$ Item7_4 - Customers answering 4 on item 7 in the eight-question survey have a log(odds) increase of churning of .1711. (Not very useful)\n",
    "\n",
    "Constant - The line of the log(odds) linear model crosses y at - 6.7039. \n",
    "\n",
    "<b>The statistical and practical significance of the model:</b>\n",
    "\n",
    " By reviewing the classification report it can be determined the model is statistically significant. The model is overall highly accurate with an approximate 90% accuracy rating and an F1 score of approximately 90%. As this is a model evaluating customers of a business, I believe an inaccuracy of 10% is acceptable.\n",
    " \n",
    " This model is useful in a practical significance as well. The business can look at the variables that significantly increase or reduce the log(odds) of a customer churning. For example, the longer the tenure of a customer the lower the probability that the customer will churn. The organization can develop a model that predicts the customers' tenure to determine factors that increase or decrease the tenure of a customer. Another example is to look at the streaming services of the organization. The model suggests that customers with these services significantly increases the probability of churn. The business can look into the effectiveness of these services, attempt to determine why customers with these services have an increased likelihood of churn or evaluate whether or not the business should continue offering these services. \n",
    "\n",
    "<b>Limitations of the data analysis:</b>\n",
    "\n",
    "Due to the way the model was built (backward stepwise) the model may be missing crucial variables (such as MonthlyCharge). Because the model included all the variables at once, it is difficult to determine which variables were causing multicollinearity issues. Creating the model with one variable at first, then adding more as it was created, may be a better way of determining which variables cause multicollinearity issues. Building the model this way could also allow variables that were initially shown to have significant relationships to remain in the model.  \n",
    "\n",
    "### F1: Recommended Course of Action\n",
    "\n",
    "As stated above, the business can look at the variables that significantly increase or reduce the log(odds) of a customer churning. For example, the longer the tenure of a customer the lower the probability that the customer will churn. The organization can develop a model that predicts the customers' tenure to determine factors that increase or decrease the tenure of a customer. Another example is to look at the streaming services of the organization. The model suggests that customers with these services significantly increases the probability of churn. The business can look into the effectiveness of these services, attempt to determine why customers with these services have an increased likelihood of churn or evaluate whether or not the business should continue offering these services."
   ]
  },
  {
   "cell_type": "markdown",
   "id": "948a23a6",
   "metadata": {},
   "source": [
    "# Part VI: Demonstration"
   ]
  },
  {
   "cell_type": "markdown",
   "id": "39417dbc",
   "metadata": {},
   "source": [
    "## G. Video\n",
    "\n",
    "Link included as attachment to submission."
   ]
  },
  {
   "cell_type": "markdown",
   "id": "2ab5c1f9",
   "metadata": {},
   "source": [
    "## H. Code Sources\n",
    "\n",
    "Harris, C.R., Millman, K.J., van der Walt, S.J. et al. Array programming with NumPy. Nature 585, 357–362 (2020). DOI: 0.1038/s41586-020-2649-2. (Publisher link).\n",
    "\n",
    "J. D. Hunter, \"Matplotlib: A 2D Graphics Environment\", Computing in Science & Engineering, vol. 9, no. 3, pp. 90-95, 2007.\n",
    "\n",
    "Pedregosa, F., Varoquaux, G., Gramfort, A., Michel, V., Thirion, B., Grisel, O., Blondel, M., Prettenhofer, P., Weiss, R., Dubourg, V., Vanderplas, J., Passos, D., Brucher, M., Perrot, M., & Duchesnay, E. (2011). Scikit-learn: Machine Learning in Python. Journal of Machine Learning Research, 12, 2825–2830.\n",
    "\n",
    "Python Software Foundation. Python Language Reference, version 3.7. Available at http://www.python.org\n",
    "\n",
    "Seabold, S., & Perktold, J. (2010). statsmodels: Econometric and statistical modeling with python. In 9th Python in Science Conference.\n",
    "\n",
    "W. McKinney, AQR Capital Management, pandas: a python data analysis library, http://pandas.sourceforge.net"
   ]
  },
  {
   "cell_type": "markdown",
   "id": "5d68ff03",
   "metadata": {},
   "source": [
    "## I. References\n",
    "\n",
    "Massaron, L., & Boschetti, A. (2016). Regression analysis with Python. Packt Publishing. ISBN: 9781785286315\n",
    "\n",
    "Muthukrishnan. (2018, July 07). Understanding the Classification report through sklearn. Retrieved July 25, 2021, from https://muthu.co/understanding-the-classification-report-in-sklearn/\n",
    "\n",
    "Stoltzfus, J. C. (2011). Logistic Regression: A Brief Primer. Academic Emergency Medicine, 18(10), 1099-1104. doi:10.1111/j.1553-2712.2011.01185.x\n"
   ]
  }
 ],
 "metadata": {
  "kernelspec": {
   "display_name": "Python 3",
   "language": "python",
   "name": "python3"
  },
  "language_info": {
   "codemirror_mode": {
    "name": "ipython",
    "version": 3
   },
   "file_extension": ".py",
   "mimetype": "text/x-python",
   "name": "python",
   "nbconvert_exporter": "python",
   "pygments_lexer": "ipython3",
   "version": "3.8.10"
  }
 },
 "nbformat": 4,
 "nbformat_minor": 5
}
