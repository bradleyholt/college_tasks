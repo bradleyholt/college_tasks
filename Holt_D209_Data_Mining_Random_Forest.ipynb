{
 "cells": [
  {
   "cell_type": "markdown",
   "id": "a4dadaac",
   "metadata": {},
   "source": [
    "# Part I: Research Question"
   ]
  },
  {
   "cell_type": "markdown",
   "id": "79ac3a7a",
   "metadata": {},
   "source": [
    "## A1: Question \n",
    "Based on available features within the dataset, can the organization predict what type of contract a new customer will sign up for and identify the features that influences the likelihood of a customer signing up for a one or two year contract?"
   ]
  },
  {
   "cell_type": "markdown",
   "id": "52d363e3",
   "metadata": {},
   "source": [
    "## A2:  Data Analysis Goal\n",
    "The goal of the data analysis is to classify each observation (customer) into one category of the “Contract” variable by using only the other variables in the observation. By conducting this classification process, the organization can then create a model that predicts what contract a new customer may sign up for. If a good model is created, variables can be evaluated and used to target potential customers who have qualities that make them more likely to sign up for long term contracts and adjust the organization’s policies and procedures to meet those customers’ expectations."
   ]
  },
  {
   "cell_type": "markdown",
   "id": "0e4fa447",
   "metadata": {},
   "source": [
    "# Part II: Method Justification\n",
    "\n",
    "## B1: Prediction Method\n",
    "The method that will be used to conduct classification is a tree model, or more specifically, the random forest model. A descendant of Classification and Regression Trees(CART), a random forest is a relatively simple supervised algorithm that can be used to solve both regression and classification problems. Random forest models create multiple decision trees from random subsets of the data. These subset are created through the process of bagging (short for bootstrap aggregating). The prediction from each decision tree is then averaged to find a set of predictor variables that produce the best classification model. Because the model automatically comes up with the best model, hyper-tuning usually has little effect on the outcome of the model.\n",
    "\n",
    "## B2: Summary of One Assumption\n",
    "The random forest model only has one assupmtion and it is the one assumption that applies to all other models. This is the assumption that the sample data it relies upon is representative of the population. Care needs to be taken when creating a sample to ensure the sample data is representative of the population. If needed, stratified sampling should be conducted to ensure that subgroups of the population are included in the sample data proportionally.\n",
    "\n",
    "## B3: Python Packages and Justifications\n",
    "- pandas: This package is used to perform various data manipulation tasks to import, clean, and manipulate data to conduct data analysis.\n",
    "\n",
    "- NumPy: NumPy is used to conduct the various mathematical operations in the data analysis.\n",
    "\n",
    "- matplotlib: matplotlib is an extension of NumPy and is a plotting package used to conduct graphical representations of features in the data set \n",
    "\n",
    "- seaborn: built as an extension of matplotlib, seaborn allows users to create data visualizations graphics of features to assist with data analysis\n",
    "\n",
    "- sklearn: sklearn is a package that contains many tools to model and evaluate models built for data analysis"
   ]
  },
  {
   "cell_type": "markdown",
   "id": "9401b326",
   "metadata": {},
   "source": [
    "# Part III: Data Preparation"
   ]
  },
  {
   "cell_type": "code",
   "execution_count": 1,
   "id": "98abcbaa",
   "metadata": {},
   "outputs": [],
   "source": [
    "import pandas as pd\n",
    "import numpy as np\n",
    "import matplotlib.pyplot as plt\n",
    "import seaborn as sns\n",
    "\n",
    "from sklearn.ensemble import RandomForestClassifier\n",
    "from sklearn.model_selection import train_test_split, cross_val_score, GridSearchCV\n",
    "from sklearn.metrics import mean_squared_error as MSE\n",
    "from sklearn.metrics import classification_report, accuracy_score, confusion_matrix\n",
    "\n",
    "%matplotlib inline"
   ]
  },
  {
   "cell_type": "code",
   "execution_count": 2,
   "id": "be496ddd",
   "metadata": {},
   "outputs": [],
   "source": [
    "#Load the dataset\n",
    "churn_clean = pd.read_csv(\"C:/Users/holtb/Data/WGU Datasets/churn_clean.csv\")\n",
    "\n",
    "#Drop unused variables\n",
    "churn_model_data = churn_clean.drop(['CaseOrder','Customer_id','Interaction','UID','Lat','Lng', 'Zip'], axis=1)"
   ]
  },
  {
   "cell_type": "markdown",
   "id": "758d0be0",
   "metadata": {},
   "source": [
    "## C1: Data Preprocessing Goal\n",
    "An advantage of using random forest is that minimal data preprocessing needs to be conducted on the data set. Random forests are robust to outliers and unscaled data. Although not required for random forest classification, one goal of data preprocessing for this task is too ensure there is no missing data. This is conducted by searching for null values or any other characters within the dataset that represent a missing value and impute appropriate values.  \n",
    "\n",
    "## C2: Initial Data Set Variables\n",
    "\n",
    "<b>Independent Variables</b>\n",
    "- Population              (Continuous)\n",
    "\n",
    "- Area                    (Categorical)\n",
    "\n",
    "- TimeZone                (Categorical)\n",
    "\n",
    "- Job                     (Categorical)\n",
    "\n",
    "- Children                (Continuous)\n",
    "\n",
    "- Age                     (Continuous)\n",
    "\n",
    "- Income                  (Continuous)\n",
    "\n",
    "- Marital                 (Categorical)\n",
    "\n",
    "- Gender                  (Categorical)\n",
    "\n",
    "- City                    (Categorical)\n",
    "\n",
    "- State                   (Categorical)\n",
    "\n",
    "- Outage_sec_perweek      (Continuous)\n",
    "\n",
    "- Email                   (Continuous)\n",
    "\n",
    "- Contacts                (Continuous)\n",
    "\n",
    "- Yearly_equip_failure    (Continuous)\n",
    "\n",
    "- Techie                  (Categorical)\n",
    "\n",
    "- Tenure                  (Continuous)\n",
    "\n",
    "- Churn                   (Categorical)\n",
    "\n",
    "- Port_modem              (Categorical)\n",
    "\n",
    "- Tablet                  (Categorical)\n",
    "\n",
    "- InternetService         (Categorical)\n",
    "\n",
    "- Phone                   (Categorical)\n",
    "\n",
    "- Multiple                (Categorical)\n",
    "\n",
    "- OnlineSecurity          (Categorical)\n",
    "\n",
    "- OnlineBackup            (Categorical)\n",
    "\n",
    "- DeviceProtection        (Categorical)\n",
    "\n",
    "- TechSupport             (Categorical)\n",
    "\n",
    "- StreamingTV             (Categorical)\n",
    "\n",
    "- StreamingMovies         (Categorical)\n",
    "\n",
    "- PaperlessBilling        (Categorical)\n",
    "\n",
    "- PaymentMethod           (Categorical)\n",
    "\n",
    "- Tenure                  (Categorical)\n",
    "\n",
    "- MonthlyCharge           (Continuous)\n",
    "\n",
    "- Bandwidth_GB_Year       (Continuous)\n",
    "\n",
    "- Item1                   (Categorical)\n",
    "\n",
    "- Item2                   (Categorical)\n",
    "\n",
    "- Item3                   (Categorical)\n",
    "\n",
    "- Item4                   (Categorical)\n",
    "\n",
    "- Item5                   (Categorical)\n",
    "\n",
    "- Item6                   (Categorical)\n",
    "\n",
    "- Item7                   (Categorical)\n",
    "\n",
    "- Item8                   (Categorical)\n",
    "\n",
    "<b>Classification Variable</b>\n",
    "\n",
    "- Contract                   (Categorical)"
   ]
  },
  {
   "cell_type": "markdown",
   "id": "8456e3ec",
   "metadata": {},
   "source": [
    "## C3: Data Preparation Steps\n",
    "\n",
    "### Step 1: Import Data\n",
    "The first step is to upload the data set into the data analysis program to be used. In this case, the data set \"churn_clean\" has already been imported as shown above. While our data set was already in .csv format, it may be necessary to transform the data set depending on the format and program being used. \n",
    "\n",
    "\n",
    "### Step 2: Initial Data Exploration\n",
    "The second step of data preparation is to conduct initial data exploration. During this step, the information of the data set and each variable is explored for data types, dataset size, number of variables, null values, odd data, etc. By conducting an initial exploration of the data set, specific variables can be examined for usefulness. For example, the first four columns can be dropped from our initial dataset as they are administrative features used to identify customers. \n",
    "\n",
    "Additionally, visual data analysis is conducted to get an understanding of patterns and relationships within the dataset. Having an understanding of how the data is distributed and how the variables are related can help when creating the model. For example, comparing the categorical variable of \"Contract\" with other continuous variables gives us an idea of how features are distributed within each category. Other variables that have been identified to be dropped are 'County', 'Lat', and 'Lng'. These variables are not very useful as they describe the same things as other variables. For example, the 'City' variable describes the same feature as \"lat\" and \"lng\". Additionally, we can check for data imbalance by checking the totals for each of the \"Contract\" values in the dataset.  "
   ]
  },
  {
   "cell_type": "code",
   "execution_count": 3,
   "id": "7b8e8f12",
   "metadata": {},
   "outputs": [
    {
     "name": "stdout",
     "output_type": "stream",
     "text": [
      "<class 'pandas.core.frame.DataFrame'>\n",
      "RangeIndex: 10000 entries, 0 to 9999\n",
      "Data columns (total 50 columns):\n",
      " #   Column                Non-Null Count  Dtype  \n",
      "---  ------                --------------  -----  \n",
      " 0   CaseOrder             10000 non-null  int64  \n",
      " 1   Customer_id           10000 non-null  object \n",
      " 2   Interaction           10000 non-null  object \n",
      " 3   UID                   10000 non-null  object \n",
      " 4   City                  10000 non-null  object \n",
      " 5   State                 10000 non-null  object \n",
      " 6   County                10000 non-null  object \n",
      " 7   Zip                   10000 non-null  int64  \n",
      " 8   Lat                   10000 non-null  float64\n",
      " 9   Lng                   10000 non-null  float64\n",
      " 10  Population            10000 non-null  int64  \n",
      " 11  Area                  10000 non-null  object \n",
      " 12  TimeZone              10000 non-null  object \n",
      " 13  Job                   10000 non-null  object \n",
      " 14  Children              10000 non-null  int64  \n",
      " 15  Age                   10000 non-null  int64  \n",
      " 16  Income                10000 non-null  float64\n",
      " 17  Marital               10000 non-null  object \n",
      " 18  Gender                10000 non-null  object \n",
      " 19  Churn                 10000 non-null  object \n",
      " 20  Outage_sec_perweek    10000 non-null  float64\n",
      " 21  Email                 10000 non-null  int64  \n",
      " 22  Contacts              10000 non-null  int64  \n",
      " 23  Yearly_equip_failure  10000 non-null  int64  \n",
      " 24  Techie                10000 non-null  object \n",
      " 25  Contract              10000 non-null  object \n",
      " 26  Port_modem            10000 non-null  object \n",
      " 27  Tablet                10000 non-null  object \n",
      " 28  InternetService       10000 non-null  object \n",
      " 29  Phone                 10000 non-null  object \n",
      " 30  Multiple              10000 non-null  object \n",
      " 31  OnlineSecurity        10000 non-null  object \n",
      " 32  OnlineBackup          10000 non-null  object \n",
      " 33  DeviceProtection      10000 non-null  object \n",
      " 34  TechSupport           10000 non-null  object \n",
      " 35  StreamingTV           10000 non-null  object \n",
      " 36  StreamingMovies       10000 non-null  object \n",
      " 37  PaperlessBilling      10000 non-null  object \n",
      " 38  PaymentMethod         10000 non-null  object \n",
      " 39  Tenure                10000 non-null  float64\n",
      " 40  MonthlyCharge         10000 non-null  float64\n",
      " 41  Bandwidth_GB_Year     10000 non-null  float64\n",
      " 42  Item1                 10000 non-null  int64  \n",
      " 43  Item2                 10000 non-null  int64  \n",
      " 44  Item3                 10000 non-null  int64  \n",
      " 45  Item4                 10000 non-null  int64  \n",
      " 46  Item5                 10000 non-null  int64  \n",
      " 47  Item6                 10000 non-null  int64  \n",
      " 48  Item7                 10000 non-null  int64  \n",
      " 49  Item8                 10000 non-null  int64  \n",
      "dtypes: float64(7), int64(16), object(27)\n",
      "memory usage: 3.8+ MB\n"
     ]
    }
   ],
   "source": [
    "# Retriving basic information of the data set\n",
    "churn_clean.info()"
   ]
  },
  {
   "cell_type": "code",
   "execution_count": 4,
   "id": "f49d12d0",
   "metadata": {},
   "outputs": [],
   "source": [
    "#Drop unused variables\n",
    "churn_dropped_data = churn_clean.drop(['CaseOrder','Customer_id','Interaction','UID','Lat','Lng', 'Zip'], axis=1)"
   ]
  },
  {
   "cell_type": "code",
   "execution_count": 5,
   "id": "bb25a372",
   "metadata": {},
   "outputs": [
    {
     "data": {
      "text/html": [
       "<div>\n",
       "<style scoped>\n",
       "    .dataframe tbody tr th:only-of-type {\n",
       "        vertical-align: middle;\n",
       "    }\n",
       "\n",
       "    .dataframe tbody tr th {\n",
       "        vertical-align: top;\n",
       "    }\n",
       "\n",
       "    .dataframe thead th {\n",
       "        text-align: right;\n",
       "    }\n",
       "</style>\n",
       "<table border=\"1\" class=\"dataframe\">\n",
       "  <thead>\n",
       "    <tr style=\"text-align: right;\">\n",
       "      <th></th>\n",
       "      <th>Population</th>\n",
       "      <th>Children</th>\n",
       "      <th>Age</th>\n",
       "      <th>Income</th>\n",
       "      <th>Outage_sec_perweek</th>\n",
       "      <th>Email</th>\n",
       "      <th>Contacts</th>\n",
       "      <th>Yearly_equip_failure</th>\n",
       "      <th>Tenure</th>\n",
       "      <th>MonthlyCharge</th>\n",
       "      <th>Bandwidth_GB_Year</th>\n",
       "      <th>Item1</th>\n",
       "      <th>Item2</th>\n",
       "      <th>Item3</th>\n",
       "      <th>Item4</th>\n",
       "      <th>Item5</th>\n",
       "      <th>Item6</th>\n",
       "      <th>Item7</th>\n",
       "      <th>Item8</th>\n",
       "    </tr>\n",
       "  </thead>\n",
       "  <tbody>\n",
       "    <tr>\n",
       "      <th>count</th>\n",
       "      <td>10000.00</td>\n",
       "      <td>10000.00</td>\n",
       "      <td>10000.00</td>\n",
       "      <td>10000.00</td>\n",
       "      <td>10000.00</td>\n",
       "      <td>10000.00</td>\n",
       "      <td>10000.00</td>\n",
       "      <td>10000.00</td>\n",
       "      <td>10000.00</td>\n",
       "      <td>10000.00</td>\n",
       "      <td>10000.00</td>\n",
       "      <td>10000.00</td>\n",
       "      <td>10000.00</td>\n",
       "      <td>10000.00</td>\n",
       "      <td>10000.00</td>\n",
       "      <td>10000.00</td>\n",
       "      <td>10000.00</td>\n",
       "      <td>10000.00</td>\n",
       "      <td>10000.00</td>\n",
       "    </tr>\n",
       "    <tr>\n",
       "      <th>mean</th>\n",
       "      <td>9756.56</td>\n",
       "      <td>2.09</td>\n",
       "      <td>53.08</td>\n",
       "      <td>39806.93</td>\n",
       "      <td>10.00</td>\n",
       "      <td>12.02</td>\n",
       "      <td>0.99</td>\n",
       "      <td>0.40</td>\n",
       "      <td>34.53</td>\n",
       "      <td>172.62</td>\n",
       "      <td>3392.34</td>\n",
       "      <td>3.49</td>\n",
       "      <td>3.51</td>\n",
       "      <td>3.49</td>\n",
       "      <td>3.50</td>\n",
       "      <td>3.49</td>\n",
       "      <td>3.50</td>\n",
       "      <td>3.51</td>\n",
       "      <td>3.50</td>\n",
       "    </tr>\n",
       "    <tr>\n",
       "      <th>std</th>\n",
       "      <td>14432.70</td>\n",
       "      <td>2.15</td>\n",
       "      <td>20.70</td>\n",
       "      <td>28199.92</td>\n",
       "      <td>2.98</td>\n",
       "      <td>3.03</td>\n",
       "      <td>0.99</td>\n",
       "      <td>0.64</td>\n",
       "      <td>26.44</td>\n",
       "      <td>42.94</td>\n",
       "      <td>2185.29</td>\n",
       "      <td>1.04</td>\n",
       "      <td>1.03</td>\n",
       "      <td>1.03</td>\n",
       "      <td>1.03</td>\n",
       "      <td>1.02</td>\n",
       "      <td>1.03</td>\n",
       "      <td>1.03</td>\n",
       "      <td>1.03</td>\n",
       "    </tr>\n",
       "    <tr>\n",
       "      <th>min</th>\n",
       "      <td>0.00</td>\n",
       "      <td>0.00</td>\n",
       "      <td>18.00</td>\n",
       "      <td>348.67</td>\n",
       "      <td>0.10</td>\n",
       "      <td>1.00</td>\n",
       "      <td>0.00</td>\n",
       "      <td>0.00</td>\n",
       "      <td>1.00</td>\n",
       "      <td>79.98</td>\n",
       "      <td>155.51</td>\n",
       "      <td>1.00</td>\n",
       "      <td>1.00</td>\n",
       "      <td>1.00</td>\n",
       "      <td>1.00</td>\n",
       "      <td>1.00</td>\n",
       "      <td>1.00</td>\n",
       "      <td>1.00</td>\n",
       "      <td>1.00</td>\n",
       "    </tr>\n",
       "    <tr>\n",
       "      <th>25%</th>\n",
       "      <td>738.00</td>\n",
       "      <td>0.00</td>\n",
       "      <td>35.00</td>\n",
       "      <td>19224.72</td>\n",
       "      <td>8.02</td>\n",
       "      <td>10.00</td>\n",
       "      <td>0.00</td>\n",
       "      <td>0.00</td>\n",
       "      <td>7.92</td>\n",
       "      <td>139.98</td>\n",
       "      <td>1236.47</td>\n",
       "      <td>3.00</td>\n",
       "      <td>3.00</td>\n",
       "      <td>3.00</td>\n",
       "      <td>3.00</td>\n",
       "      <td>3.00</td>\n",
       "      <td>3.00</td>\n",
       "      <td>3.00</td>\n",
       "      <td>3.00</td>\n",
       "    </tr>\n",
       "    <tr>\n",
       "      <th>50%</th>\n",
       "      <td>2910.50</td>\n",
       "      <td>1.00</td>\n",
       "      <td>53.00</td>\n",
       "      <td>33170.60</td>\n",
       "      <td>10.02</td>\n",
       "      <td>12.00</td>\n",
       "      <td>1.00</td>\n",
       "      <td>0.00</td>\n",
       "      <td>35.43</td>\n",
       "      <td>167.48</td>\n",
       "      <td>3279.54</td>\n",
       "      <td>3.00</td>\n",
       "      <td>4.00</td>\n",
       "      <td>3.00</td>\n",
       "      <td>3.00</td>\n",
       "      <td>3.00</td>\n",
       "      <td>3.00</td>\n",
       "      <td>4.00</td>\n",
       "      <td>3.00</td>\n",
       "    </tr>\n",
       "    <tr>\n",
       "      <th>75%</th>\n",
       "      <td>13168.00</td>\n",
       "      <td>3.00</td>\n",
       "      <td>71.00</td>\n",
       "      <td>53246.17</td>\n",
       "      <td>11.97</td>\n",
       "      <td>14.00</td>\n",
       "      <td>2.00</td>\n",
       "      <td>1.00</td>\n",
       "      <td>61.48</td>\n",
       "      <td>200.73</td>\n",
       "      <td>5586.14</td>\n",
       "      <td>4.00</td>\n",
       "      <td>4.00</td>\n",
       "      <td>4.00</td>\n",
       "      <td>4.00</td>\n",
       "      <td>4.00</td>\n",
       "      <td>4.00</td>\n",
       "      <td>4.00</td>\n",
       "      <td>4.00</td>\n",
       "    </tr>\n",
       "    <tr>\n",
       "      <th>max</th>\n",
       "      <td>111850.00</td>\n",
       "      <td>10.00</td>\n",
       "      <td>89.00</td>\n",
       "      <td>258900.70</td>\n",
       "      <td>21.21</td>\n",
       "      <td>23.00</td>\n",
       "      <td>7.00</td>\n",
       "      <td>6.00</td>\n",
       "      <td>72.00</td>\n",
       "      <td>290.16</td>\n",
       "      <td>7158.98</td>\n",
       "      <td>7.00</td>\n",
       "      <td>7.00</td>\n",
       "      <td>8.00</td>\n",
       "      <td>7.00</td>\n",
       "      <td>7.00</td>\n",
       "      <td>8.00</td>\n",
       "      <td>7.00</td>\n",
       "      <td>8.00</td>\n",
       "    </tr>\n",
       "  </tbody>\n",
       "</table>\n",
       "</div>"
      ],
      "text/plain": [
       "       Population  Children       Age     Income  Outage_sec_perweek  \\\n",
       "count    10000.00  10000.00  10000.00   10000.00            10000.00   \n",
       "mean      9756.56      2.09     53.08   39806.93               10.00   \n",
       "std      14432.70      2.15     20.70   28199.92                2.98   \n",
       "min          0.00      0.00     18.00     348.67                0.10   \n",
       "25%        738.00      0.00     35.00   19224.72                8.02   \n",
       "50%       2910.50      1.00     53.00   33170.60               10.02   \n",
       "75%      13168.00      3.00     71.00   53246.17               11.97   \n",
       "max     111850.00     10.00     89.00  258900.70               21.21   \n",
       "\n",
       "          Email  Contacts  Yearly_equip_failure    Tenure  MonthlyCharge  \\\n",
       "count  10000.00  10000.00              10000.00  10000.00       10000.00   \n",
       "mean      12.02      0.99                  0.40     34.53         172.62   \n",
       "std        3.03      0.99                  0.64     26.44          42.94   \n",
       "min        1.00      0.00                  0.00      1.00          79.98   \n",
       "25%       10.00      0.00                  0.00      7.92         139.98   \n",
       "50%       12.00      1.00                  0.00     35.43         167.48   \n",
       "75%       14.00      2.00                  1.00     61.48         200.73   \n",
       "max       23.00      7.00                  6.00     72.00         290.16   \n",
       "\n",
       "       Bandwidth_GB_Year     Item1     Item2     Item3     Item4     Item5  \\\n",
       "count           10000.00  10000.00  10000.00  10000.00  10000.00  10000.00   \n",
       "mean             3392.34      3.49      3.51      3.49      3.50      3.49   \n",
       "std              2185.29      1.04      1.03      1.03      1.03      1.02   \n",
       "min               155.51      1.00      1.00      1.00      1.00      1.00   \n",
       "25%              1236.47      3.00      3.00      3.00      3.00      3.00   \n",
       "50%              3279.54      3.00      4.00      3.00      3.00      3.00   \n",
       "75%              5586.14      4.00      4.00      4.00      4.00      4.00   \n",
       "max              7158.98      7.00      7.00      8.00      7.00      7.00   \n",
       "\n",
       "          Item6     Item7     Item8  \n",
       "count  10000.00  10000.00  10000.00  \n",
       "mean       3.50      3.51      3.50  \n",
       "std        1.03      1.03      1.03  \n",
       "min        1.00      1.00      1.00  \n",
       "25%        3.00      3.00      3.00  \n",
       "50%        3.00      4.00      3.00  \n",
       "75%        4.00      4.00      4.00  \n",
       "max        8.00      7.00      8.00  "
      ]
     },
     "execution_count": 5,
     "metadata": {},
     "output_type": "execute_result"
    }
   ],
   "source": [
    "#Checking data values in numerical variables\n",
    "churn_dropped_data.describe().round(2)"
   ]
  },
  {
   "cell_type": "code",
   "execution_count": 7,
   "id": "7a51bfc0",
   "metadata": {
    "scrolled": false
   },
   "outputs": [
    {
     "data": {
      "image/png": "[encoded data removed]",
      "text/plain": [
       "<Figure size 432x288 with 1 Axes>"
      ]
     },
     "metadata": {
      "needs_background": "light"
     },
     "output_type": "display_data"
    }
   ],
   "source": [
    "#counts of Contract\n",
    "sns.countplot(x=\"Contract\",\n",
    "            data = churn_clean)\n",
    "\n",
    "plt.show()"
   ]
  },
  {
   "cell_type": "code",
   "execution_count": 8,
   "id": "02fe1610",
   "metadata": {},
   "outputs": [
    {
     "data": {
      "text/plain": [
       "Month-to-month    5456\n",
       "Two Year          2442\n",
       "One year          2102\n",
       "Name: Contract, dtype: int64"
      ]
     },
     "execution_count": 8,
     "metadata": {},
     "output_type": "execute_result"
    }
   ],
   "source": [
    "churn_clean['Contract'].value_counts()"
   ]
  },
  {
   "cell_type": "code",
   "execution_count": 9,
   "id": "83e2b7f9",
   "metadata": {
    "scrolled": false
   },
   "outputs": [
    {
     "data": {
      "image/png": "[encoded data removed]",
      "text/plain": [
       "<Figure size 864x576 with 4 Axes>"
      ]
     },
     "metadata": {
      "needs_background": "light"
     },
     "output_type": "display_data"
    }
   ],
   "source": [
    "#Creating boxplots \n",
    "fig, axs = plt.subplots(2,2, figsize=(12,8))\n",
    "plt.tight_layout()\n",
    "\n",
    "sns.boxplot(x=\"Contract\",\n",
    "            y=\"Population\",\n",
    "            data = churn_clean,\n",
    "            ax = axs[0,0])\n",
    "sns.boxplot(x=\"Contract\",\n",
    "            y=\"Income\",\n",
    "            data = churn_clean,\n",
    "            ax = axs[0,1])\n",
    "\n",
    "sns.boxplot(x=\"Contract\",\n",
    "            y=\"Outage_sec_perweek\",\n",
    "            data = churn_clean,\n",
    "            ax = axs[1,0])\n",
    "\n",
    "sns.boxplot(x=\"Contract\",\n",
    "            y=\"MonthlyCharge\",\n",
    "            data = churn_clean,\n",
    "            ax = axs[1,1]);"
   ]
  },
  {
   "cell_type": "markdown",
   "id": "48057d31",
   "metadata": {},
   "source": [
    "### Step 3: Evaluate Dataset for Missing Data\n",
    "In this step of data preprocessing, the variables in the data set are examined for missing data. Missing data is usually identified as \"NULL\" values but could also be respresented by different values such as \"0\" or \"?\" as other examples. As shown below, there are 97 rows in our dataset with population values of \"0\". There are multiple ways that the missing data could be imputed. One method would be to impute the mean value of population in the observations with missing values. Another more time consuming option would be to manually impute the actual population values based off recent census data. The method of missing data imputation varies based on the significance of the variable and the accuracy needed based effects of data imputation. In this case, the quickest and most effective method would be to drop the observations from the data set altogether. Since we have 10000 observation within our dataset, losing 97 would not significantly impact our model results. "
   ]
  },
  {
   "cell_type": "code",
   "execution_count": 10,
   "id": "807ae34b",
   "metadata": {
    "scrolled": true
   },
   "outputs": [
    {
     "data": {
      "text/plain": [
       "City                    False\n",
       "State                   False\n",
       "County                  False\n",
       "Population              False\n",
       "Area                    False\n",
       "TimeZone                False\n",
       "Job                     False\n",
       "Children                False\n",
       "Age                     False\n",
       "Income                  False\n",
       "Marital                 False\n",
       "Gender                  False\n",
       "Churn                   False\n",
       "Outage_sec_perweek      False\n",
       "Email                   False\n",
       "Contacts                False\n",
       "Yearly_equip_failure    False\n",
       "Techie                  False\n",
       "Contract                False\n",
       "Port_modem              False\n",
       "Tablet                  False\n",
       "InternetService         False\n",
       "Phone                   False\n",
       "Multiple                False\n",
       "OnlineSecurity          False\n",
       "OnlineBackup            False\n",
       "DeviceProtection        False\n",
       "TechSupport             False\n",
       "StreamingTV             False\n",
       "StreamingMovies         False\n",
       "PaperlessBilling        False\n",
       "PaymentMethod           False\n",
       "Tenure                  False\n",
       "MonthlyCharge           False\n",
       "Bandwidth_GB_Year       False\n",
       "Item1                   False\n",
       "Item2                   False\n",
       "Item3                   False\n",
       "Item4                   False\n",
       "Item5                   False\n",
       "Item6                   False\n",
       "Item7                   False\n",
       "Item8                   False\n",
       "dtype: bool"
      ]
     },
     "metadata": {},
     "output_type": "display_data"
    }
   ],
   "source": [
    "display(churn_dropped_data.isnull().any())"
   ]
  },
  {
   "cell_type": "code",
   "execution_count": 11,
   "id": "cb6168a3",
   "metadata": {
    "scrolled": true
   },
   "outputs": [
    {
     "data": {
      "text/html": [
       "<div>\n",
       "<style scoped>\n",
       "    .dataframe tbody tr th:only-of-type {\n",
       "        vertical-align: middle;\n",
       "    }\n",
       "\n",
       "    .dataframe tbody tr th {\n",
       "        vertical-align: top;\n",
       "    }\n",
       "\n",
       "    .dataframe thead th {\n",
       "        text-align: right;\n",
       "    }\n",
       "</style>\n",
       "<table border=\"1\" class=\"dataframe\">\n",
       "  <thead>\n",
       "    <tr style=\"text-align: right;\">\n",
       "      <th></th>\n",
       "      <th>City</th>\n",
       "      <th>State</th>\n",
       "      <th>County</th>\n",
       "      <th>Population</th>\n",
       "      <th>Area</th>\n",
       "      <th>TimeZone</th>\n",
       "      <th>Job</th>\n",
       "      <th>Children</th>\n",
       "      <th>Age</th>\n",
       "      <th>Income</th>\n",
       "      <th>...</th>\n",
       "      <th>MonthlyCharge</th>\n",
       "      <th>Bandwidth_GB_Year</th>\n",
       "      <th>Item1</th>\n",
       "      <th>Item2</th>\n",
       "      <th>Item3</th>\n",
       "      <th>Item4</th>\n",
       "      <th>Item5</th>\n",
       "      <th>Item6</th>\n",
       "      <th>Item7</th>\n",
       "      <th>Item8</th>\n",
       "    </tr>\n",
       "  </thead>\n",
       "  <tbody>\n",
       "    <tr>\n",
       "      <th>13</th>\n",
       "      <td>East Livermore</td>\n",
       "      <td>ME</td>\n",
       "      <td>Androscoggin</td>\n",
       "      <td>0</td>\n",
       "      <td>Urban</td>\n",
       "      <td>America/New_York</td>\n",
       "      <td>Learning disability nurse</td>\n",
       "      <td>5</td>\n",
       "      <td>29</td>\n",
       "      <td>115114.57</td>\n",
       "      <td>...</td>\n",
       "      <td>184.971516</td>\n",
       "      <td>1948.694497</td>\n",
       "      <td>5</td>\n",
       "      <td>6</td>\n",
       "      <td>5</td>\n",
       "      <td>2</td>\n",
       "      <td>4</td>\n",
       "      <td>5</td>\n",
       "      <td>4</td>\n",
       "      <td>4</td>\n",
       "    </tr>\n",
       "    <tr>\n",
       "      <th>422</th>\n",
       "      <td>Warren</td>\n",
       "      <td>MI</td>\n",
       "      <td>Macomb</td>\n",
       "      <td>0</td>\n",
       "      <td>Urban</td>\n",
       "      <td>America/Detroit</td>\n",
       "      <td>Surveyor, quantity</td>\n",
       "      <td>2</td>\n",
       "      <td>51</td>\n",
       "      <td>14817.22</td>\n",
       "      <td>...</td>\n",
       "      <td>200.132293</td>\n",
       "      <td>1537.296207</td>\n",
       "      <td>4</td>\n",
       "      <td>5</td>\n",
       "      <td>5</td>\n",
       "      <td>3</td>\n",
       "      <td>4</td>\n",
       "      <td>4</td>\n",
       "      <td>4</td>\n",
       "      <td>2</td>\n",
       "    </tr>\n",
       "    <tr>\n",
       "      <th>428</th>\n",
       "      <td>Bayside</td>\n",
       "      <td>NY</td>\n",
       "      <td>Queens</td>\n",
       "      <td>0</td>\n",
       "      <td>Suburban</td>\n",
       "      <td>America/New_York</td>\n",
       "      <td>Ceramics designer</td>\n",
       "      <td>8</td>\n",
       "      <td>25</td>\n",
       "      <td>43586.80</td>\n",
       "      <td>...</td>\n",
       "      <td>152.479779</td>\n",
       "      <td>2192.693797</td>\n",
       "      <td>3</td>\n",
       "      <td>3</td>\n",
       "      <td>3</td>\n",
       "      <td>4</td>\n",
       "      <td>4</td>\n",
       "      <td>6</td>\n",
       "      <td>4</td>\n",
       "      <td>3</td>\n",
       "    </tr>\n",
       "    <tr>\n",
       "      <th>434</th>\n",
       "      <td>Memphis</td>\n",
       "      <td>TN</td>\n",
       "      <td>Shelby</td>\n",
       "      <td>0</td>\n",
       "      <td>Urban</td>\n",
       "      <td>America/Chicago</td>\n",
       "      <td>Advice worker</td>\n",
       "      <td>1</td>\n",
       "      <td>23</td>\n",
       "      <td>48852.54</td>\n",
       "      <td>...</td>\n",
       "      <td>192.470522</td>\n",
       "      <td>801.470960</td>\n",
       "      <td>4</td>\n",
       "      <td>4</td>\n",
       "      <td>4</td>\n",
       "      <td>3</td>\n",
       "      <td>3</td>\n",
       "      <td>5</td>\n",
       "      <td>4</td>\n",
       "      <td>4</td>\n",
       "    </tr>\n",
       "    <tr>\n",
       "      <th>446</th>\n",
       "      <td>Caroleen</td>\n",
       "      <td>NC</td>\n",
       "      <td>Rutherford</td>\n",
       "      <td>0</td>\n",
       "      <td>Urban</td>\n",
       "      <td>America/New_York</td>\n",
       "      <td>Fisheries officer</td>\n",
       "      <td>1</td>\n",
       "      <td>56</td>\n",
       "      <td>65900.37</td>\n",
       "      <td>...</td>\n",
       "      <td>240.114868</td>\n",
       "      <td>1886.312286</td>\n",
       "      <td>4</td>\n",
       "      <td>4</td>\n",
       "      <td>4</td>\n",
       "      <td>5</td>\n",
       "      <td>5</td>\n",
       "      <td>5</td>\n",
       "      <td>5</td>\n",
       "      <td>4</td>\n",
       "    </tr>\n",
       "    <tr>\n",
       "      <th>...</th>\n",
       "      <td>...</td>\n",
       "      <td>...</td>\n",
       "      <td>...</td>\n",
       "      <td>...</td>\n",
       "      <td>...</td>\n",
       "      <td>...</td>\n",
       "      <td>...</td>\n",
       "      <td>...</td>\n",
       "      <td>...</td>\n",
       "      <td>...</td>\n",
       "      <td>...</td>\n",
       "      <td>...</td>\n",
       "      <td>...</td>\n",
       "      <td>...</td>\n",
       "      <td>...</td>\n",
       "      <td>...</td>\n",
       "      <td>...</td>\n",
       "      <td>...</td>\n",
       "      <td>...</td>\n",
       "      <td>...</td>\n",
       "      <td>...</td>\n",
       "    </tr>\n",
       "    <tr>\n",
       "      <th>9216</th>\n",
       "      <td>Memphis</td>\n",
       "      <td>TN</td>\n",
       "      <td>Shelby</td>\n",
       "      <td>0</td>\n",
       "      <td>Suburban</td>\n",
       "      <td>America/Chicago</td>\n",
       "      <td>Horticulturist, commercial</td>\n",
       "      <td>1</td>\n",
       "      <td>63</td>\n",
       "      <td>85694.68</td>\n",
       "      <td>...</td>\n",
       "      <td>162.497000</td>\n",
       "      <td>5088.812303</td>\n",
       "      <td>4</td>\n",
       "      <td>4</td>\n",
       "      <td>2</td>\n",
       "      <td>5</td>\n",
       "      <td>4</td>\n",
       "      <td>3</td>\n",
       "      <td>4</td>\n",
       "      <td>3</td>\n",
       "    </tr>\n",
       "    <tr>\n",
       "      <th>9441</th>\n",
       "      <td>New York</td>\n",
       "      <td>NY</td>\n",
       "      <td>New York</td>\n",
       "      <td>0</td>\n",
       "      <td>Suburban</td>\n",
       "      <td>America/New_York</td>\n",
       "      <td>Media planner</td>\n",
       "      <td>1</td>\n",
       "      <td>60</td>\n",
       "      <td>25429.84</td>\n",
       "      <td>...</td>\n",
       "      <td>162.511900</td>\n",
       "      <td>5341.089808</td>\n",
       "      <td>4</td>\n",
       "      <td>4</td>\n",
       "      <td>3</td>\n",
       "      <td>4</td>\n",
       "      <td>2</td>\n",
       "      <td>4</td>\n",
       "      <td>3</td>\n",
       "      <td>4</td>\n",
       "    </tr>\n",
       "    <tr>\n",
       "      <th>9657</th>\n",
       "      <td>Oak Island</td>\n",
       "      <td>MN</td>\n",
       "      <td>Lake of the Woods</td>\n",
       "      <td>0</td>\n",
       "      <td>Rural</td>\n",
       "      <td>America/Chicago</td>\n",
       "      <td>Accountant, chartered</td>\n",
       "      <td>0</td>\n",
       "      <td>35</td>\n",
       "      <td>71970.60</td>\n",
       "      <td>...</td>\n",
       "      <td>197.470200</td>\n",
       "      <td>6064.836260</td>\n",
       "      <td>4</td>\n",
       "      <td>5</td>\n",
       "      <td>4</td>\n",
       "      <td>3</td>\n",
       "      <td>4</td>\n",
       "      <td>4</td>\n",
       "      <td>3</td>\n",
       "      <td>2</td>\n",
       "    </tr>\n",
       "    <tr>\n",
       "      <th>9702</th>\n",
       "      <td>Vidalia</td>\n",
       "      <td>GA</td>\n",
       "      <td>Toombs</td>\n",
       "      <td>0</td>\n",
       "      <td>Suburban</td>\n",
       "      <td>America/New_York</td>\n",
       "      <td>Accountant, chartered</td>\n",
       "      <td>0</td>\n",
       "      <td>34</td>\n",
       "      <td>36171.94</td>\n",
       "      <td>...</td>\n",
       "      <td>137.468400</td>\n",
       "      <td>5914.162068</td>\n",
       "      <td>3</td>\n",
       "      <td>3</td>\n",
       "      <td>2</td>\n",
       "      <td>5</td>\n",
       "      <td>2</td>\n",
       "      <td>3</td>\n",
       "      <td>3</td>\n",
       "      <td>4</td>\n",
       "    </tr>\n",
       "    <tr>\n",
       "      <th>9944</th>\n",
       "      <td>Rome</td>\n",
       "      <td>GA</td>\n",
       "      <td>Newton</td>\n",
       "      <td>0</td>\n",
       "      <td>Rural</td>\n",
       "      <td>America/New_York</td>\n",
       "      <td>Therapist, nutritional</td>\n",
       "      <td>0</td>\n",
       "      <td>85</td>\n",
       "      <td>46731.01</td>\n",
       "      <td>...</td>\n",
       "      <td>172.474200</td>\n",
       "      <td>5116.489299</td>\n",
       "      <td>3</td>\n",
       "      <td>4</td>\n",
       "      <td>4</td>\n",
       "      <td>4</td>\n",
       "      <td>5</td>\n",
       "      <td>3</td>\n",
       "      <td>3</td>\n",
       "      <td>2</td>\n",
       "    </tr>\n",
       "  </tbody>\n",
       "</table>\n",
       "<p>97 rows × 43 columns</p>\n",
       "</div>"
      ],
      "text/plain": [
       "                City State             County  Population      Area  \\\n",
       "13    East Livermore    ME       Androscoggin           0     Urban   \n",
       "422           Warren    MI             Macomb           0     Urban   \n",
       "428          Bayside    NY             Queens           0  Suburban   \n",
       "434          Memphis    TN             Shelby           0     Urban   \n",
       "446         Caroleen    NC         Rutherford           0     Urban   \n",
       "...              ...   ...                ...         ...       ...   \n",
       "9216         Memphis    TN             Shelby           0  Suburban   \n",
       "9441        New York    NY           New York           0  Suburban   \n",
       "9657      Oak Island    MN  Lake of the Woods           0     Rural   \n",
       "9702         Vidalia    GA             Toombs           0  Suburban   \n",
       "9944            Rome    GA             Newton           0     Rural   \n",
       "\n",
       "              TimeZone                         Job  Children  Age     Income  \\\n",
       "13    America/New_York   Learning disability nurse         5   29  115114.57   \n",
       "422    America/Detroit          Surveyor, quantity         2   51   14817.22   \n",
       "428   America/New_York           Ceramics designer         8   25   43586.80   \n",
       "434    America/Chicago               Advice worker         1   23   48852.54   \n",
       "446   America/New_York           Fisheries officer         1   56   65900.37   \n",
       "...                ...                         ...       ...  ...        ...   \n",
       "9216   America/Chicago  Horticulturist, commercial         1   63   85694.68   \n",
       "9441  America/New_York               Media planner         1   60   25429.84   \n",
       "9657   America/Chicago       Accountant, chartered         0   35   71970.60   \n",
       "9702  America/New_York       Accountant, chartered         0   34   36171.94   \n",
       "9944  America/New_York      Therapist, nutritional         0   85   46731.01   \n",
       "\n",
       "      ... MonthlyCharge Bandwidth_GB_Year Item1  Item2  Item3  Item4  Item5  \\\n",
       "13    ...    184.971516       1948.694497     5      6      5      2      4   \n",
       "422   ...    200.132293       1537.296207     4      5      5      3      4   \n",
       "428   ...    152.479779       2192.693797     3      3      3      4      4   \n",
       "434   ...    192.470522        801.470960     4      4      4      3      3   \n",
       "446   ...    240.114868       1886.312286     4      4      4      5      5   \n",
       "...   ...           ...               ...   ...    ...    ...    ...    ...   \n",
       "9216  ...    162.497000       5088.812303     4      4      2      5      4   \n",
       "9441  ...    162.511900       5341.089808     4      4      3      4      2   \n",
       "9657  ...    197.470200       6064.836260     4      5      4      3      4   \n",
       "9702  ...    137.468400       5914.162068     3      3      2      5      2   \n",
       "9944  ...    172.474200       5116.489299     3      4      4      4      5   \n",
       "\n",
       "     Item6 Item7 Item8  \n",
       "13       5     4     4  \n",
       "422      4     4     2  \n",
       "428      6     4     3  \n",
       "434      5     4     4  \n",
       "446      5     5     4  \n",
       "...    ...   ...   ...  \n",
       "9216     3     4     3  \n",
       "9441     4     3     4  \n",
       "9657     4     3     2  \n",
       "9702     3     3     4  \n",
       "9944     3     3     2  \n",
       "\n",
       "[97 rows x 43 columns]"
      ]
     },
     "execution_count": 11,
     "metadata": {},
     "output_type": "execute_result"
    }
   ],
   "source": [
    "pop_zero = churn_dropped_data[churn_dropped_data['Population'] == 0]\n",
    "pop_zero"
   ]
  },
  {
   "cell_type": "code",
   "execution_count": 12,
   "id": "1512ed1d",
   "metadata": {},
   "outputs": [],
   "source": [
    "#Drop observations with condition of population equaling 0\n",
    "churn_dropped_data.drop(churn_dropped_data[churn_dropped_data['Population'] == 0].index, inplace = True)"
   ]
  },
  {
   "cell_type": "code",
   "execution_count": 13,
   "id": "9eb6b992",
   "metadata": {
    "scrolled": true
   },
   "outputs": [
    {
     "data": {
      "text/html": [
       "<div>\n",
       "<style scoped>\n",
       "    .dataframe tbody tr th:only-of-type {\n",
       "        vertical-align: middle;\n",
       "    }\n",
       "\n",
       "    .dataframe tbody tr th {\n",
       "        vertical-align: top;\n",
       "    }\n",
       "\n",
       "    .dataframe thead th {\n",
       "        text-align: right;\n",
       "    }\n",
       "</style>\n",
       "<table border=\"1\" class=\"dataframe\">\n",
       "  <thead>\n",
       "    <tr style=\"text-align: right;\">\n",
       "      <th></th>\n",
       "      <th>City</th>\n",
       "      <th>State</th>\n",
       "      <th>County</th>\n",
       "      <th>Population</th>\n",
       "      <th>Area</th>\n",
       "      <th>TimeZone</th>\n",
       "      <th>Job</th>\n",
       "      <th>Children</th>\n",
       "      <th>Age</th>\n",
       "      <th>Income</th>\n",
       "      <th>...</th>\n",
       "      <th>MonthlyCharge</th>\n",
       "      <th>Bandwidth_GB_Year</th>\n",
       "      <th>Item1</th>\n",
       "      <th>Item2</th>\n",
       "      <th>Item3</th>\n",
       "      <th>Item4</th>\n",
       "      <th>Item5</th>\n",
       "      <th>Item6</th>\n",
       "      <th>Item7</th>\n",
       "      <th>Item8</th>\n",
       "    </tr>\n",
       "  </thead>\n",
       "  <tbody>\n",
       "    <tr>\n",
       "      <th>0</th>\n",
       "      <td>Point Baker</td>\n",
       "      <td>AK</td>\n",
       "      <td>Prince of Wales-Hyder</td>\n",
       "      <td>38</td>\n",
       "      <td>Urban</td>\n",
       "      <td>America/Sitka</td>\n",
       "      <td>Environmental health practitioner</td>\n",
       "      <td>0</td>\n",
       "      <td>68</td>\n",
       "      <td>28561.99</td>\n",
       "      <td>...</td>\n",
       "      <td>172.455519</td>\n",
       "      <td>904.536110</td>\n",
       "      <td>5</td>\n",
       "      <td>5</td>\n",
       "      <td>5</td>\n",
       "      <td>3</td>\n",
       "      <td>4</td>\n",
       "      <td>4</td>\n",
       "      <td>3</td>\n",
       "      <td>4</td>\n",
       "    </tr>\n",
       "    <tr>\n",
       "      <th>1</th>\n",
       "      <td>West Branch</td>\n",
       "      <td>MI</td>\n",
       "      <td>Ogemaw</td>\n",
       "      <td>10446</td>\n",
       "      <td>Urban</td>\n",
       "      <td>America/Detroit</td>\n",
       "      <td>Programmer, multimedia</td>\n",
       "      <td>1</td>\n",
       "      <td>27</td>\n",
       "      <td>21704.77</td>\n",
       "      <td>...</td>\n",
       "      <td>242.632554</td>\n",
       "      <td>800.982766</td>\n",
       "      <td>3</td>\n",
       "      <td>4</td>\n",
       "      <td>3</td>\n",
       "      <td>3</td>\n",
       "      <td>4</td>\n",
       "      <td>3</td>\n",
       "      <td>4</td>\n",
       "      <td>4</td>\n",
       "    </tr>\n",
       "    <tr>\n",
       "      <th>2</th>\n",
       "      <td>Yamhill</td>\n",
       "      <td>OR</td>\n",
       "      <td>Yamhill</td>\n",
       "      <td>3735</td>\n",
       "      <td>Urban</td>\n",
       "      <td>America/Los_Angeles</td>\n",
       "      <td>Chief Financial Officer</td>\n",
       "      <td>4</td>\n",
       "      <td>50</td>\n",
       "      <td>9609.57</td>\n",
       "      <td>...</td>\n",
       "      <td>159.947583</td>\n",
       "      <td>2054.706961</td>\n",
       "      <td>4</td>\n",
       "      <td>4</td>\n",
       "      <td>2</td>\n",
       "      <td>4</td>\n",
       "      <td>4</td>\n",
       "      <td>3</td>\n",
       "      <td>3</td>\n",
       "      <td>3</td>\n",
       "    </tr>\n",
       "    <tr>\n",
       "      <th>3</th>\n",
       "      <td>Del Mar</td>\n",
       "      <td>CA</td>\n",
       "      <td>San Diego</td>\n",
       "      <td>13863</td>\n",
       "      <td>Suburban</td>\n",
       "      <td>America/Los_Angeles</td>\n",
       "      <td>Solicitor</td>\n",
       "      <td>1</td>\n",
       "      <td>48</td>\n",
       "      <td>18925.23</td>\n",
       "      <td>...</td>\n",
       "      <td>119.956840</td>\n",
       "      <td>2164.579412</td>\n",
       "      <td>4</td>\n",
       "      <td>4</td>\n",
       "      <td>4</td>\n",
       "      <td>2</td>\n",
       "      <td>5</td>\n",
       "      <td>4</td>\n",
       "      <td>3</td>\n",
       "      <td>3</td>\n",
       "    </tr>\n",
       "    <tr>\n",
       "      <th>4</th>\n",
       "      <td>Needville</td>\n",
       "      <td>TX</td>\n",
       "      <td>Fort Bend</td>\n",
       "      <td>11352</td>\n",
       "      <td>Suburban</td>\n",
       "      <td>America/Chicago</td>\n",
       "      <td>Medical illustrator</td>\n",
       "      <td>0</td>\n",
       "      <td>83</td>\n",
       "      <td>40074.19</td>\n",
       "      <td>...</td>\n",
       "      <td>149.948316</td>\n",
       "      <td>271.493436</td>\n",
       "      <td>4</td>\n",
       "      <td>4</td>\n",
       "      <td>4</td>\n",
       "      <td>3</td>\n",
       "      <td>4</td>\n",
       "      <td>4</td>\n",
       "      <td>4</td>\n",
       "      <td>5</td>\n",
       "    </tr>\n",
       "    <tr>\n",
       "      <th>...</th>\n",
       "      <td>...</td>\n",
       "      <td>...</td>\n",
       "      <td>...</td>\n",
       "      <td>...</td>\n",
       "      <td>...</td>\n",
       "      <td>...</td>\n",
       "      <td>...</td>\n",
       "      <td>...</td>\n",
       "      <td>...</td>\n",
       "      <td>...</td>\n",
       "      <td>...</td>\n",
       "      <td>...</td>\n",
       "      <td>...</td>\n",
       "      <td>...</td>\n",
       "      <td>...</td>\n",
       "      <td>...</td>\n",
       "      <td>...</td>\n",
       "      <td>...</td>\n",
       "      <td>...</td>\n",
       "      <td>...</td>\n",
       "      <td>...</td>\n",
       "    </tr>\n",
       "    <tr>\n",
       "      <th>9995</th>\n",
       "      <td>Mount Holly</td>\n",
       "      <td>VT</td>\n",
       "      <td>Rutland</td>\n",
       "      <td>640</td>\n",
       "      <td>Rural</td>\n",
       "      <td>America/New_York</td>\n",
       "      <td>Sport and exercise psychologist</td>\n",
       "      <td>3</td>\n",
       "      <td>23</td>\n",
       "      <td>55723.74</td>\n",
       "      <td>...</td>\n",
       "      <td>159.979400</td>\n",
       "      <td>6511.252601</td>\n",
       "      <td>3</td>\n",
       "      <td>2</td>\n",
       "      <td>3</td>\n",
       "      <td>3</td>\n",
       "      <td>4</td>\n",
       "      <td>3</td>\n",
       "      <td>2</td>\n",
       "      <td>3</td>\n",
       "    </tr>\n",
       "    <tr>\n",
       "      <th>9996</th>\n",
       "      <td>Clarksville</td>\n",
       "      <td>TN</td>\n",
       "      <td>Montgomery</td>\n",
       "      <td>77168</td>\n",
       "      <td>Rural</td>\n",
       "      <td>America/Chicago</td>\n",
       "      <td>Consulting civil engineer</td>\n",
       "      <td>4</td>\n",
       "      <td>48</td>\n",
       "      <td>34129.34</td>\n",
       "      <td>...</td>\n",
       "      <td>207.481100</td>\n",
       "      <td>5695.951810</td>\n",
       "      <td>4</td>\n",
       "      <td>5</td>\n",
       "      <td>5</td>\n",
       "      <td>4</td>\n",
       "      <td>4</td>\n",
       "      <td>5</td>\n",
       "      <td>2</td>\n",
       "      <td>5</td>\n",
       "    </tr>\n",
       "    <tr>\n",
       "      <th>9997</th>\n",
       "      <td>Mobeetie</td>\n",
       "      <td>TX</td>\n",
       "      <td>Wheeler</td>\n",
       "      <td>406</td>\n",
       "      <td>Rural</td>\n",
       "      <td>America/Chicago</td>\n",
       "      <td>IT technical support officer</td>\n",
       "      <td>1</td>\n",
       "      <td>48</td>\n",
       "      <td>45983.43</td>\n",
       "      <td>...</td>\n",
       "      <td>169.974100</td>\n",
       "      <td>4159.305799</td>\n",
       "      <td>4</td>\n",
       "      <td>4</td>\n",
       "      <td>4</td>\n",
       "      <td>4</td>\n",
       "      <td>4</td>\n",
       "      <td>4</td>\n",
       "      <td>4</td>\n",
       "      <td>5</td>\n",
       "    </tr>\n",
       "    <tr>\n",
       "      <th>9998</th>\n",
       "      <td>Carrollton</td>\n",
       "      <td>GA</td>\n",
       "      <td>Carroll</td>\n",
       "      <td>35575</td>\n",
       "      <td>Urban</td>\n",
       "      <td>America/New_York</td>\n",
       "      <td>Water engineer</td>\n",
       "      <td>1</td>\n",
       "      <td>39</td>\n",
       "      <td>16667.58</td>\n",
       "      <td>...</td>\n",
       "      <td>252.624000</td>\n",
       "      <td>6468.456752</td>\n",
       "      <td>4</td>\n",
       "      <td>4</td>\n",
       "      <td>6</td>\n",
       "      <td>4</td>\n",
       "      <td>3</td>\n",
       "      <td>3</td>\n",
       "      <td>5</td>\n",
       "      <td>4</td>\n",
       "    </tr>\n",
       "    <tr>\n",
       "      <th>9999</th>\n",
       "      <td>Clarkesville</td>\n",
       "      <td>GA</td>\n",
       "      <td>Habersham</td>\n",
       "      <td>12230</td>\n",
       "      <td>Urban</td>\n",
       "      <td>America/New_York</td>\n",
       "      <td>Personal assistant</td>\n",
       "      <td>1</td>\n",
       "      <td>28</td>\n",
       "      <td>9020.92</td>\n",
       "      <td>...</td>\n",
       "      <td>217.484000</td>\n",
       "      <td>5857.586167</td>\n",
       "      <td>2</td>\n",
       "      <td>2</td>\n",
       "      <td>3</td>\n",
       "      <td>3</td>\n",
       "      <td>3</td>\n",
       "      <td>3</td>\n",
       "      <td>4</td>\n",
       "      <td>1</td>\n",
       "    </tr>\n",
       "  </tbody>\n",
       "</table>\n",
       "<p>9903 rows × 43 columns</p>\n",
       "</div>"
      ],
      "text/plain": [
       "              City State                 County  Population      Area  \\\n",
       "0      Point Baker    AK  Prince of Wales-Hyder          38     Urban   \n",
       "1      West Branch    MI                 Ogemaw       10446     Urban   \n",
       "2          Yamhill    OR                Yamhill        3735     Urban   \n",
       "3          Del Mar    CA              San Diego       13863  Suburban   \n",
       "4        Needville    TX              Fort Bend       11352  Suburban   \n",
       "...            ...   ...                    ...         ...       ...   \n",
       "9995   Mount Holly    VT                Rutland         640     Rural   \n",
       "9996   Clarksville    TN             Montgomery       77168     Rural   \n",
       "9997      Mobeetie    TX                Wheeler         406     Rural   \n",
       "9998    Carrollton    GA                Carroll       35575     Urban   \n",
       "9999  Clarkesville    GA              Habersham       12230     Urban   \n",
       "\n",
       "                 TimeZone                                Job  Children  Age  \\\n",
       "0           America/Sitka  Environmental health practitioner         0   68   \n",
       "1         America/Detroit             Programmer, multimedia         1   27   \n",
       "2     America/Los_Angeles            Chief Financial Officer         4   50   \n",
       "3     America/Los_Angeles                          Solicitor         1   48   \n",
       "4         America/Chicago                Medical illustrator         0   83   \n",
       "...                   ...                                ...       ...  ...   \n",
       "9995     America/New_York    Sport and exercise psychologist         3   23   \n",
       "9996      America/Chicago          Consulting civil engineer         4   48   \n",
       "9997      America/Chicago       IT technical support officer         1   48   \n",
       "9998     America/New_York                     Water engineer         1   39   \n",
       "9999     America/New_York                 Personal assistant         1   28   \n",
       "\n",
       "        Income  ... MonthlyCharge Bandwidth_GB_Year Item1  Item2  Item3  \\\n",
       "0     28561.99  ...    172.455519        904.536110     5      5      5   \n",
       "1     21704.77  ...    242.632554        800.982766     3      4      3   \n",
       "2      9609.57  ...    159.947583       2054.706961     4      4      2   \n",
       "3     18925.23  ...    119.956840       2164.579412     4      4      4   \n",
       "4     40074.19  ...    149.948316        271.493436     4      4      4   \n",
       "...        ...  ...           ...               ...   ...    ...    ...   \n",
       "9995  55723.74  ...    159.979400       6511.252601     3      2      3   \n",
       "9996  34129.34  ...    207.481100       5695.951810     4      5      5   \n",
       "9997  45983.43  ...    169.974100       4159.305799     4      4      4   \n",
       "9998  16667.58  ...    252.624000       6468.456752     4      4      6   \n",
       "9999   9020.92  ...    217.484000       5857.586167     2      2      3   \n",
       "\n",
       "      Item4  Item5 Item6 Item7 Item8  \n",
       "0         3      4     4     3     4  \n",
       "1         3      4     3     4     4  \n",
       "2         4      4     3     3     3  \n",
       "3         2      5     4     3     3  \n",
       "4         3      4     4     4     5  \n",
       "...     ...    ...   ...   ...   ...  \n",
       "9995      3      4     3     2     3  \n",
       "9996      4      4     5     2     5  \n",
       "9997      4      4     4     4     5  \n",
       "9998      4      3     3     5     4  \n",
       "9999      3      3     3     4     1  \n",
       "\n",
       "[9903 rows x 43 columns]"
      ]
     },
     "execution_count": 13,
     "metadata": {},
     "output_type": "execute_result"
    }
   ],
   "source": [
    "churn_dropped_data"
   ]
  },
  {
   "cell_type": "markdown",
   "id": "8d334548",
   "metadata": {},
   "source": [
    "### Step 4: Factoring Numberical Variables and Encoding Categorical Variables\n"
   ]
  },
  {
   "cell_type": "code",
   "execution_count": 14,
   "id": "f246a9cf",
   "metadata": {},
   "outputs": [],
   "source": [
    "#Converting Item variables to categorical variables\n",
    "churn_dropped_data[['Item1','Item2','Item3',\n",
    "                  'Item4','Item5','Item6',\n",
    "                  'Item7','Item8']] = churn_dropped_data[['Item1','Item2','Item3',\n",
    "                                                        'Item4','Item5','Item6',\n",
    "                                                        'Item7','Item8']].astype('category')"
   ]
  },
  {
   "cell_type": "code",
   "execution_count": 15,
   "id": "07ea6cb5",
   "metadata": {},
   "outputs": [],
   "source": [
    "churn_dt_data = churn_dropped_data.drop(['Contract'], axis = 1)"
   ]
  },
  {
   "cell_type": "code",
   "execution_count": 16,
   "id": "d4dc18ea",
   "metadata": {},
   "outputs": [
    {
     "data": {
      "text/plain": [
       "Index(['City', 'State', 'County', 'Population', 'Area', 'TimeZone', 'Job',\n",
       "       'Children', 'Age', 'Income', 'Marital', 'Gender', 'Churn',\n",
       "       'Outage_sec_perweek', 'Email', 'Contacts', 'Yearly_equip_failure',\n",
       "       'Techie', 'Port_modem', 'Tablet', 'InternetService', 'Phone',\n",
       "       'Multiple', 'OnlineSecurity', 'OnlineBackup', 'DeviceProtection',\n",
       "       'TechSupport', 'StreamingTV', 'StreamingMovies', 'PaperlessBilling',\n",
       "       'PaymentMethod', 'Tenure', 'MonthlyCharge', 'Bandwidth_GB_Year',\n",
       "       'Item1', 'Item2', 'Item3', 'Item4', 'Item5', 'Item6', 'Item7', 'Item8'],\n",
       "      dtype='object')"
      ]
     },
     "execution_count": 16,
     "metadata": {},
     "output_type": "execute_result"
    }
   ],
   "source": [
    "churn_dt_data.columns"
   ]
  },
  {
   "cell_type": "code",
   "execution_count": 17,
   "id": "f533219b",
   "metadata": {},
   "outputs": [],
   "source": [
    "churn_dt_data = pd.get_dummies(churn_dt_data)"
   ]
  },
  {
   "cell_type": "markdown",
   "id": "6970b9fd",
   "metadata": {},
   "source": [
    "## C4: Copy of Prepared Dataset"
   ]
  },
  {
   "cell_type": "code",
   "execution_count": 18,
   "id": "35544f12",
   "metadata": {},
   "outputs": [],
   "source": [
    "churn_dt_data.to_csv('C:/Users/holtb/Data/D209 Data Mining I/Task_2/churn_dt_data.csv')"
   ]
  },
  {
   "cell_type": "markdown",
   "id": "76752d7b",
   "metadata": {},
   "source": [
    "# Part IV: Analysis\n",
    "The random forest technique is explained through the process below. The analysis meets the requirements of splitting the data into training and test data and is saved as .csv files. The first step of the analysis is to separate the classification variable from the matrix dataset."
   ]
  },
  {
   "cell_type": "code",
   "execution_count": 19,
   "id": "cb6c7541",
   "metadata": {},
   "outputs": [],
   "source": [
    "#Create X and y matrix for splitting and modeling\n",
    "X = churn_dt_data\n",
    "y = churn_dropped_data['Contract']"
   ]
  },
  {
   "cell_type": "markdown",
   "id": "5d6d2ab5",
   "metadata": {},
   "source": [
    "Next, the data is split into training and testing data. For this, the train_test_split function was used to split the data into 70% training and 30% testing data. "
   ]
  },
  {
   "cell_type": "code",
   "execution_count": 20,
   "id": "decccd96",
   "metadata": {},
   "outputs": [],
   "source": [
    "#split the data set into train(70%) and test(30%) sets\n",
    "X_train, X_test, y_train, y_test = train_test_split(X, y, test_size=0.3, random_state=42)"
   ]
  },
  {
   "cell_type": "code",
   "execution_count": 21,
   "id": "af24c911",
   "metadata": {},
   "outputs": [],
   "source": [
    "#Data splits are saved to .csv files\n",
    "X_train.to_csv('C:/Users/holtb/Data/D209 Data Mining I/Task_2/X_train.csv')\n",
    "X_test.to_csv('C:/Users/holtb/Data/D209 Data Mining I/Task_2/X_test.csv')\n",
    "y_train.to_csv('C:/Users/holtb/Data/D209 Data Mining I/Task_2/y_train.csv')\n",
    "y_test.to_csv('C:/Users/holtb/Data/D209 Data Mining I/Task_2/y_test.csv')"
   ]
  },
  {
   "cell_type": "code",
   "execution_count": 22,
   "id": "e5203c9c",
   "metadata": {},
   "outputs": [],
   "source": [
    "#Setting SEED number for model evaluations for random_state\n",
    "SEED = 26"
   ]
  },
  {
   "cell_type": "markdown",
   "id": "b808fe71",
   "metadata": {},
   "source": [
    "After the training and testing data is created, the random forest modeling package, RandomForestClassifier, is instantiated into a object. The training data is then fit to the classification model. "
   ]
  },
  {
   "cell_type": "code",
   "execution_count": 23,
   "id": "d8838e4b",
   "metadata": {
    "scrolled": false
   },
   "outputs": [],
   "source": [
    "#Random Forest Model\n",
    "rf = RandomForestClassifier(random_state=SEED)"
   ]
  },
  {
   "cell_type": "code",
   "execution_count": 24,
   "id": "c9575e01",
   "metadata": {},
   "outputs": [
    {
     "data": {
      "text/plain": [
       "RandomForestClassifier(random_state=26)"
      ]
     },
     "execution_count": 24,
     "metadata": {},
     "output_type": "execute_result"
    }
   ],
   "source": [
    "#Random Forest Fit\n",
    "rf.fit(X_train, y_train)"
   ]
  },
  {
   "cell_type": "markdown",
   "id": "d284d222",
   "metadata": {},
   "source": [
    "Finally, the model is tested by using the split testing data. The accuracy score, classification report and confusion matrix were then created to evaluate the model. "
   ]
  },
  {
   "cell_type": "code",
   "execution_count": 25,
   "id": "c3819b28",
   "metadata": {},
   "outputs": [],
   "source": [
    "#Random Forest Predict\n",
    "y_pred_rf = rf.predict(X_test) "
   ]
  },
  {
   "cell_type": "code",
   "execution_count": 26,
   "id": "7c8f5a91",
   "metadata": {},
   "outputs": [
    {
     "data": {
      "text/plain": [
       "0.5419050824638169"
      ]
     },
     "execution_count": 26,
     "metadata": {},
     "output_type": "execute_result"
    }
   ],
   "source": [
    "#Random Forest accuracy\n",
    "accuracy_score(y_test, y_pred_rf)"
   ]
  },
  {
   "cell_type": "code",
   "execution_count": 27,
   "id": "da2a98a8",
   "metadata": {
    "scrolled": true
   },
   "outputs": [
    {
     "name": "stdout",
     "output_type": "stream",
     "text": [
      "                precision    recall  f1-score   support\n",
      "\n",
      "Month-to-month       0.99      0.54      0.70      2932\n",
      "      One year       0.00      1.00      0.01         3\n",
      "      Two Year       0.02      0.39      0.04        36\n",
      "\n",
      "      accuracy                           0.54      2971\n",
      "     macro avg       0.34      0.64      0.25      2971\n",
      "  weighted avg       0.98      0.54      0.69      2971\n",
      "\n"
     ]
    }
   ],
   "source": [
    "#Random Forest classification report\n",
    "print(classification_report(y_pred_rf, y_test))"
   ]
  },
  {
   "cell_type": "code",
   "execution_count": 28,
   "id": "52657b27",
   "metadata": {},
   "outputs": [
    {
     "data": {
      "image/png": "[encoded data removed]",
      "text/plain": [
       "<Figure size 288x288 with 2 Axes>"
      ]
     },
     "metadata": {
      "needs_background": "light"
     },
     "output_type": "display_data"
    }
   ],
   "source": [
    "#Create confusion matrix for second model\n",
    "plt.matshow(confusion_matrix(y_test, y_pred_rf))\n",
    "plt.title('Confusion matrix')\n",
    "plt.colorbar()\n",
    "plt.xticks([0,1,2],[\"Month-to-Month\",\"One Year\",\"Two Years\"])\n",
    "plt.yticks([0,1,2],[\"Month-to-Month\",\"One Year\",\"Two Years\"])\n",
    "plt.ylabel('True label')\n",
    "plt.xlabel('Predicted label')\n",
    "plt.show()"
   ]
  },
  {
   "cell_type": "markdown",
   "id": "802d9d59",
   "metadata": {},
   "source": [
    "In addition to using the above outputs to evaluate the model, the feature importance was extracted from the model to evaluate which features have the most impact on the model. The features are expressed as weight of the particular feature expressed in percentage. (Giussani, 2020)"
   ]
  },
  {
   "cell_type": "code",
   "execution_count": 29,
   "id": "83e5305d",
   "metadata": {},
   "outputs": [
    {
     "data": {
      "text/plain": [
       "(8470,)"
      ]
     },
     "execution_count": 29,
     "metadata": {},
     "output_type": "execute_result"
    }
   ],
   "source": [
    "rf.feature_importances_.shape"
   ]
  },
  {
   "cell_type": "code",
   "execution_count": 30,
   "id": "3b6b1344",
   "metadata": {},
   "outputs": [],
   "source": [
    "#Create matrix of feature importance and sort\n",
    "importances = pd.Series(data=rf.feature_importances_,\n",
    "                        index=X_train.columns)\n",
    "\n",
    "importances_sorted=importances.sort_values()"
   ]
  },
  {
   "cell_type": "code",
   "execution_count": 31,
   "id": "f130bb5a",
   "metadata": {},
   "outputs": [],
   "source": [
    "#Choose top important features\n",
    "top_importance = importances_sorted[8450:,]"
   ]
  },
  {
   "cell_type": "code",
   "execution_count": 32,
   "id": "27d26460",
   "metadata": {
    "scrolled": false
   },
   "outputs": [
    {
     "data": {
      "image/png": "[encoded data removed]",
      "text/plain": [
       "<Figure size 432x288 with 1 Axes>"
      ]
     },
     "metadata": {
      "needs_background": "light"
     },
     "output_type": "display_data"
    }
   ],
   "source": [
    "#Plot most important features\n",
    "top_importance.plot(kind='barh', color='lightblue')\n",
    "plt.title('Feature Importance')\n",
    "plt.show()"
   ]
  },
  {
   "cell_type": "markdown",
   "id": "e02dcb47",
   "metadata": {},
   "source": [
    "The process was conducted again to run a random forest classification model, but this time multiple parameters were specified and cross validation ran with the different sets of parameters to attempt to hyper tune the model. However, as expected, there was no change to the output of the model."
   ]
  },
  {
   "cell_type": "code",
   "execution_count": 33,
   "id": "1cb3ce2b",
   "metadata": {
    "scrolled": true
   },
   "outputs": [
    {
     "data": {
      "text/plain": [
       "{'bootstrap': True,\n",
       " 'ccp_alpha': 0.0,\n",
       " 'class_weight': None,\n",
       " 'criterion': 'gini',\n",
       " 'max_depth': None,\n",
       " 'max_features': 'auto',\n",
       " 'max_leaf_nodes': None,\n",
       " 'max_samples': None,\n",
       " 'min_impurity_decrease': 0.0,\n",
       " 'min_impurity_split': None,\n",
       " 'min_samples_leaf': 1,\n",
       " 'min_samples_split': 2,\n",
       " 'min_weight_fraction_leaf': 0.0,\n",
       " 'n_estimators': 100,\n",
       " 'n_jobs': None,\n",
       " 'oob_score': False,\n",
       " 'random_state': 26,\n",
       " 'verbose': 0,\n",
       " 'warm_start': False}"
      ]
     },
     "execution_count": 33,
     "metadata": {},
     "output_type": "execute_result"
    }
   ],
   "source": [
    "rf.get_params()"
   ]
  },
  {
   "cell_type": "code",
   "execution_count": 34,
   "id": "ae52065a",
   "metadata": {},
   "outputs": [],
   "source": [
    "#Define a grid of hyperparameter 'params_rf'\n",
    "params_rf ={\n",
    "            'n_estimators':[50,100,150,200],\n",
    "            'max_depth':[2,4,6],\n",
    "            'min_samples_leaf':[0.1,0.2],\n",
    "            'max_features':[0.4,0.6,0.8]\n",
    "            }"
   ]
  },
  {
   "cell_type": "code",
   "execution_count": 35,
   "id": "efb468d8",
   "metadata": {},
   "outputs": [],
   "source": [
    "#Instantiate 'grid_rf'\n",
    "grid_rf = GridSearchCV(estimator=rf,\n",
    "                       param_grid=params_rf,\n",
    "                       cv=3,\n",
    "                       scoring='accuracy',\n",
    "                       verbose=1,\n",
    "                       n_jobs=-1)"
   ]
  },
  {
   "cell_type": "code",
   "execution_count": 36,
   "id": "7286ca42",
   "metadata": {},
   "outputs": [
    {
     "name": "stdout",
     "output_type": "stream",
     "text": [
      "Fitting 3 folds for each of 72 candidates, totalling 216 fits\n"
     ]
    },
    {
     "data": {
      "text/plain": [
       "GridSearchCV(cv=3, estimator=RandomForestClassifier(random_state=26), n_jobs=-1,\n",
       "             param_grid={'max_depth': [2, 4, 6],\n",
       "                         'max_features': [0.4, 0.6, 0.8],\n",
       "                         'min_samples_leaf': [0.1, 0.2],\n",
       "                         'n_estimators': [50, 100, 150, 200]},\n",
       "             scoring='accuracy', verbose=1)"
      ]
     },
     "execution_count": 36,
     "metadata": {},
     "output_type": "execute_result"
    }
   ],
   "source": [
    "#Fit the model with CV & params_grid\n",
    "grid_rf.fit(X_train, y_train)"
   ]
  },
  {
   "cell_type": "code",
   "execution_count": 37,
   "id": "ab544190",
   "metadata": {},
   "outputs": [
    {
     "data": {
      "text/plain": [
       "{'max_depth': 4,\n",
       " 'max_features': 0.8,\n",
       " 'min_samples_leaf': 0.1,\n",
       " 'n_estimators': 150}"
      ]
     },
     "execution_count": 37,
     "metadata": {},
     "output_type": "execute_result"
    }
   ],
   "source": [
    "#Extract best parameters\n",
    "grid_rf.best_params_"
   ]
  },
  {
   "cell_type": "code",
   "execution_count": 38,
   "id": "83697f4b",
   "metadata": {},
   "outputs": [],
   "source": [
    "#Extract best model\n",
    "best_model_rf=grid_rf.best_estimator_"
   ]
  },
  {
   "cell_type": "code",
   "execution_count": 39,
   "id": "fcd54e29",
   "metadata": {},
   "outputs": [],
   "source": [
    "#Predict values using best model\n",
    "y_pred_rf_best = best_model_rf.predict(X_test)"
   ]
  },
  {
   "cell_type": "code",
   "execution_count": 40,
   "id": "b4468832",
   "metadata": {},
   "outputs": [
    {
     "data": {
      "text/plain": [
       "0.5392123864018848"
      ]
     },
     "execution_count": 40,
     "metadata": {},
     "output_type": "execute_result"
    }
   ],
   "source": [
    "#Accuracy score of best model\n",
    "accuracy_score(y_test, y_pred_rf_best)"
   ]
  },
  {
   "cell_type": "code",
   "execution_count": 41,
   "id": "c1427352",
   "metadata": {},
   "outputs": [
    {
     "name": "stdout",
     "output_type": "stream",
     "text": [
      "                precision    recall  f1-score   support\n",
      "\n",
      "Month-to-month       0.99      0.54      0.70      2932\n",
      "      One year       0.00      1.00      0.01         3\n",
      "      Two Year       0.02      0.39      0.04        36\n",
      "\n",
      "      accuracy                           0.54      2971\n",
      "     macro avg       0.34      0.64      0.25      2971\n",
      "  weighted avg       0.98      0.54      0.69      2971\n",
      "\n"
     ]
    }
   ],
   "source": [
    "print(classification_report(y_pred_rf, y_test))"
   ]
  },
  {
   "cell_type": "code",
   "execution_count": 42,
   "id": "4f9ce5d1",
   "metadata": {},
   "outputs": [
    {
     "data": {
      "image/png": "[encoded data removed]",
      "text/plain": [
       "<Figure size 288x288 with 2 Axes>"
      ]
     },
     "metadata": {
      "needs_background": "light"
     },
     "output_type": "display_data"
    }
   ],
   "source": [
    "#Create confusion matrix for second model\n",
    "plt.matshow(confusion_matrix(y_test, y_pred_rf_best))\n",
    "plt.title('Confusion matrix')\n",
    "plt.colorbar()\n",
    "plt.xticks([0,1,2],[\"Month-to-Month\",\"One Year\",\"Two Years\"])\n",
    "plt.yticks([0,1,2],[\"Month-to-Month\",\"One Year\",\"Two Years\"])\n",
    "plt.ylabel('True label')\n",
    "plt.xlabel('Predicted label')\n",
    "plt.show()"
   ]
  },
  {
   "cell_type": "code",
   "execution_count": 43,
   "id": "c7e5dc28",
   "metadata": {},
   "outputs": [],
   "source": [
    "#Create matrix of feature importance and sort\n",
    "importances = pd.Series(data=best_model_rf.feature_importances_,\n",
    "                        index=X_train.columns)\n",
    "\n",
    "importances_sorted_best=importances.sort_values()"
   ]
  },
  {
   "cell_type": "code",
   "execution_count": 44,
   "id": "447823a5",
   "metadata": {},
   "outputs": [],
   "source": [
    "#Choose top important features\n",
    "top_importance_best = importances_sorted[8450:,]\n",
    "least_importance = importances_sorted[0:100,]"
   ]
  },
  {
   "cell_type": "code",
   "execution_count": 45,
   "id": "111e3576",
   "metadata": {},
   "outputs": [
    {
     "data": {
      "image/png": "[encoded data removed]",
      "text/plain": [
       "<Figure size 432x288 with 1 Axes>"
      ]
     },
     "metadata": {
      "needs_background": "light"
     },
     "output_type": "display_data"
    }
   ],
   "source": [
    "#Plot most important features\n",
    "top_importance_best.plot(kind='barh', color='lightblue')\n",
    "plt.title('Feature Importance')\n",
    "plt.show()"
   ]
  },
  {
   "cell_type": "markdown",
   "id": "68382c63",
   "metadata": {},
   "source": [
    "# Part V: Data Summary and Implications\n",
    "\n",
    "## Accuracy\n",
    "Nn both cases the model was only able to predict the correct results of the test set with an accuracy of 54%. With a random chance of selecting the correct result equal to 1/3, or 33%, a 54% accuracy of the model is not great. Because this is a classification model, the mean squared error (MSE), is not calculated as a predition value would be 1 or 0's. MSE calculations would not be useful in a classification model and are used for regression models predicting continous values. (Bruce, 2020)\n",
    "\n",
    "## Results and Implications\n",
    "As the analysis portion shows, two separate random forest models were created: one without using cross-validation on the training data and one using cross-validation with multiple parameters. Evaluation shows there was no difference between the models as random forest models without hyper-tuning usually are produced with the best parameters. In fact, the model seems to predict that most outcomes will be month-to-month contracts leading to extremely high precision in the class but high false positives and very few correct predictions for the One Year and Two Year classes. A potential issue of having an imbalanced dataset was considered and the proportion of each class in the data set was calculated:  \n",
    "\n",
    "Month-to-month = 55%\n",
    "\n",
    "One year = 24%\n",
    "\n",
    "Two Year = 21%\n",
    "\n",
    "\n",
    "While month-to-month has a significant proportion over the other two classes the ratio is approximately 2:1 for both and there enough observations for all classes to make an accurate model. Overall, this random forest model ended up to be quite poor to be of use to answer the research question. \n",
    "\n",
    "\n",
    "## Limitations\n",
    "One limitation of the analysis is the inability to control what the model does. As seen above, even adjusting the parameters had little effect on the outcome of the model. While the analysis was simple and straight forward, the simplicity creates a rigid and inflexible model. The outcome led to a model that would incidently predict one class the majority of iterations.\n",
    " \n",
    "\n",
    "## Course of Action\n",
    "Because the model ended up performing poorly, it is suggested that features be removed from the model to create a simpler model or create another model altogether. The model could be recreated using the most important factors found in the initial random forest model above. This will lead to a random forest model with less features and therefore less information; but perhaps a model that can be useful in answering the research question can also be created. \n"
   ]
  },
  {
   "cell_type": "markdown",
   "id": "bb2ad084",
   "metadata": {},
   "source": [
    "# Part VI: Demonstration\n",
    "\n",
    "## F. Video\n",
    "\n",
    "https://wgu.hosted.panopto.com/Panopto/Pages/Viewer.aspx?id=6695d92a-7e06-4982-910f-ad9601356c15\n",
    "\n",
    "## G. Code Sources\n",
    "\n",
    "Bowne-Anderson, H. (n.d.). Supervised Learning with scikit-learn. Retrieved August 15, 2021, from https://learn.datacamp.com/courses/supervised-learning-with-scikit-learn\n",
    "\n",
    "Bruce, P., Bruce, A. G., & Gedeck, P. (2020). Practical statistics for data scientists: 50 essential concepts using R and Python. Sebastopol: OReilly.\n",
    "\n",
    "Harris, C.R., Millman, K.J., van der Walt, S.J. et al. Array programming with NumPy. Nature 585, 357–362 (2020). DOI: 0.1038/s41586-020-2649-2. (Publisher link).\n",
    "\n",
    "J. D. Hunter, \"Matplotlib: A 2D Graphics Environment\", Computing in Science & Engineering, vol. 9, no. 3, pp. 90-95, 2007.\n",
    "\n",
    "Pedregosa, F., Varoquaux, G., Gramfort, A., Michel, V., Thirion, B., Grisel, O., Blondel, M., Prettenhofer, P., Weiss, R., Dubourg, V., Vanderplas, J., Passos, D., Brucher, M., Perrot, M., & Duchesnay, E. (2011). Scikit-learn: Machine Learning in Python. Journal of Machine Learning Research, 12, 2825–2830.\n",
    "\n",
    "Python Software Foundation. Python Language Reference, version 3.7. Available at http://www.python.org\n",
    "\n",
    "W. McKinney, AQR Capital Management, pandas: a python data analysis library, http://pandas.sourceforge.net\n",
    "\n",
    "## H. References\n",
    "\n",
    "Andrea Giussani. (2020). Applied Machine Learning with Python. EGEA Spa - Bocconi University Press.\n",
    "\n",
    "Bruce, P., Bruce, A. G., & Gedeck, P. (2020). Practical statistics for data scientists: 50 essential concepts using R and Python. Sebastopol: OReilly."
   ]
  }
 ],
 "metadata": {
  "kernelspec": {
   "display_name": "Python 3",
   "language": "python",
   "name": "python3"
  },
  "language_info": {
   "codemirror_mode": {
    "name": "ipython",
    "version": 3
   },
   "file_extension": ".py",
   "mimetype": "text/x-python",
   "name": "python",
   "nbconvert_exporter": "python",
   "pygments_lexer": "ipython3",
   "version": "3.8.10"
  }
 },
 "nbformat": 4,
 "nbformat_minor": 5
}
